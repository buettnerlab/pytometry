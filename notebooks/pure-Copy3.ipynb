{
 "cells": [
  {
   "cell_type": "markdown",
   "id": "727ff73f-0b81-4fa9-a3a3-0108b98139e0",
   "metadata": {},
   "source": [
    "# 0. Prepare Environment"
   ]
  },
  {
   "cell_type": "markdown",
   "id": "c7fad942-1cdb-4a1f-9442-6142826d33d3",
   "metadata": {},
   "source": [
    "## 0.1 General Imports and Reading FCS File"
   ]
  },
  {
   "cell_type": "code",
   "execution_count": 1,
   "id": "4877cb27-8508-4106-b588-6493464a933c",
   "metadata": {},
   "outputs": [],
   "source": [
    "import scanpy as sc\n",
    "import pytometry as pm\n",
    "import numpy as np\n",
    "import pandas as pd\n",
    "import matplotlib.pyplot as plt\n",
    "import seaborn as sns\n",
    "import os\n",
    "from joblib import Parallel, delayed"
   ]
  },
  {
   "cell_type": "code",
   "execution_count": 2,
   "id": "da6d4884-83f0-40f6-a33f-656b4d970966",
   "metadata": {},
   "outputs": [],
   "source": [
    "BASE = 'G:\\\\My Drive\\\\colab\\\\cytometry\\\\2022_Nature_Becher\\\\surface_panel\\\\batch_1\\\\'\n",
    "fls = sorted(os.listdir(BASE))\n",
    "fls.pop(0)\n",
    "first = fls[0]"
   ]
  },
  {
   "cell_type": "code",
   "execution_count": 3,
   "id": "958af7c7-07aa-4126-ab15-fc7f84c2e47d",
   "metadata": {},
   "outputs": [],
   "source": [
    "fpath = BASE + first\n",
    "adata = pm.io.read_fcs(fpath)"
   ]
  },
  {
   "cell_type": "code",
   "execution_count": 4,
   "id": "5d914e24-5137-452f-b2b2-ba3f48c0f13e",
   "metadata": {},
   "outputs": [],
   "source": [
    "sc.pp.subsample(adata, 0.1)"
   ]
  },
  {
   "cell_type": "code",
   "execution_count": 5,
   "id": "63127261-d377-402d-99b6-b52bc270ad11",
   "metadata": {},
   "outputs": [
    {
     "data": {
      "text/plain": [
       "AnnData object with n_obs × n_vars = 10834 × 36\n",
       "    var: 'Channel Number', 'marker', '$PnD', '$PnB', '$PnR', 'channel', '$PnG', '$PnE'\n",
       "    uns: 'meta'"
      ]
     },
     "execution_count": 5,
     "metadata": {},
     "output_type": "execute_result"
    }
   ],
   "source": [
    "adata"
   ]
  },
  {
   "cell_type": "code",
   "execution_count": 6,
   "id": "14e421d3-b57a-49d8-ba22-1049ca4f5686",
   "metadata": {},
   "outputs": [],
   "source": [
    "sc.pp.neighbors(adata)"
   ]
  },
  {
   "cell_type": "markdown",
   "id": "a7013ba9-0f84-4097-be76-70556a745853",
   "metadata": {},
   "source": [
    "## 0.2 Pytometry Related Imports"
   ]
  },
  {
   "cell_type": "code",
   "execution_count": 7,
   "id": "3d3b987a-7863-4460-9a86-64e96ee8e0b4",
   "metadata": {},
   "outputs": [],
   "source": [
    "from scipy.stats import entropy\n",
    "from scipy.special import softmax\n",
    "import numpy as np\n",
    "from scipy.sparse import csr_matrix\n",
    "from scipy.sparse import vstack, hstack\n",
    "from scanpy.tools._umap import umap\n",
    "import joblib\n",
    "from typing import Union, Optional, Literal\n",
    "_InitPos = Literal['paga', 'spectral', 'random']\n",
    "AnyRandom = Union[None, int, np.random.RandomState]\n",
    "HELPER_VAR = {}"
   ]
  },
  {
   "cell_type": "markdown",
   "id": "a0cf20c8-e4f8-4e53-be6d-3ff76825f887",
   "metadata": {},
   "source": [
    "# 1. Define Scale Class"
   ]
  },
  {
   "cell_type": "code",
   "execution_count": 8,
   "id": "d8bfbe9d-faa5-4f8c-b8f0-23a700e8d676",
   "metadata": {},
   "outputs": [],
   "source": [
    "class _Scale:\n",
    "    def __init__(self, X=None, T=None, I=None, W=None, P=None, X_humap=None, lm_ind=None, parent_scale=None):\n",
    "        self.X = X\n",
    "        self.T = T\n",
    "        self.I = I\n",
    "        self.W = W\n",
    "        self.P = P\n",
    "        self.X_humap = X_humap\n",
    "        self.lm_ind = lm_ind\n",
    "        self.parent_scale = parent_scale"
   ]
  },
  {
   "cell_type": "markdown",
   "id": "6f3db1d4-6de5-4d94-84ae-b049fd60d41b",
   "metadata": {},
   "source": [
    "Declaring and Checking Arguments"
   ]
  },
  {
   "cell_type": "code",
   "execution_count": 9,
   "id": "ede6d309-6dad-4d91-ae98-1a3f08891b6a",
   "metadata": {},
   "outputs": [],
   "source": [
    "imp_channel_ind=None\n",
    "beta=100\n",
    "beta_thresh=1.5\n",
    "teta=50\n",
    "num_scales=1\n",
    "min_dist= 0.5\n",
    "spread= 1.0\n",
    "n_components= 2\n",
    "maxiter= None\n",
    "alpha= 1.0\n",
    "gamma= 1.0\n",
    "negative_sample_rate= 5\n",
    "init_pos='spectral'\n",
    "random_state= 0\n",
    "a= None\n",
    "b= None\n",
    "copy= False\n",
    "method= 'umap'\n",
    "neighbors_key= None\n",
    "\n",
    "if imp_channel_ind is None:\n",
    "    imp_channel_ind = range(len(adata.var_names))\n",
    "elif len(imp_channel_ind) == 0:\n",
    "    imp_channel_ind = range(len(adata.var_names))\n",
    "\n",
    "# settings dict for all important setting variables\n",
    "parameters = {\n",
    "    'beta': beta,\n",
    "    'beta_thresh': beta_thresh,\n",
    "    'teta': teta,\n",
    "    'imp_channel_ind' : imp_channel_ind}\n",
    "\n",
    "try:\n",
    "    adata.obsp['distances']\n",
    "except KeyError as e:\n",
    "    raise Exception(\"k-nearest-neighbor graph has to be constructed first\")\n",
    "distances_nn = adata.obsp['distances']\n",
    "\n",
    "scale_list = list()"
   ]
  },
  {
   "cell_type": "code",
   "execution_count": 10,
   "id": "3149509e-2ce7-4d96-b5d5-a669c3ea7943",
   "metadata": {},
   "outputs": [],
   "source": [
    "adata.uns['humap_settings'] = parameters\n",
    "adata.uns['humap_scales'] = scale_list"
   ]
  },
  {
   "cell_type": "code",
   "execution_count": 11,
   "id": "e9574a67-8cf8-4938-8172-f9eca940aded",
   "metadata": {},
   "outputs": [
    {
     "data": {
      "text/plain": [
       "AnnData object with n_obs × n_vars = 10834 × 36\n",
       "    var: 'Channel Number', 'marker', '$PnD', '$PnB', '$PnR', 'channel', '$PnG', '$PnE'\n",
       "    uns: 'meta', 'neighbors', 'humap_settings', 'humap_scales'\n",
       "    obsp: 'distances', 'connectivities'"
      ]
     },
     "execution_count": 11,
     "metadata": {},
     "output_type": "execute_result"
    }
   ],
   "source": [
    "adata"
   ]
  },
  {
   "cell_type": "markdown",
   "id": "fb440e4e-4593-4035-9d30-1c82f15af6e1",
   "metadata": {
    "tags": []
   },
   "source": [
    "# 2. Define Helpers Functions"
   ]
  },
  {
   "cell_type": "code",
   "execution_count": 12,
   "id": "564f4fa6-5a26-4ef1-839f-b7f1777d61a2",
   "metadata": {},
   "outputs": [],
   "source": [
    "def _helper_method_calc_T(dist):\n",
    "    from scipy.special import softmax\n",
    "    d = dist / np.max(dist)\n",
    "    return softmax((-d ** 2) / _binary_search_sigma(d, len(d)))\n",
    "\n",
    "def _binary_search_sigma(d, n_neigh):\n",
    "    # binary search\n",
    "    import numpy as np\n",
    "    sigma = 10  # Start Sigma\n",
    "    goal = np.log(n_neigh)  # log(k) with k being n_neighbors\n",
    "    # Do binary search until entropy ~== log(k)\n",
    "    while True:\n",
    "        ent = entropy(softmax((-d ** 2) / sigma))\n",
    "        # check sigma\n",
    "        if np.isclose(ent, goal):\n",
    "            return sigma\n",
    "        if ent > goal:\n",
    "            sigma *= 0.5\n",
    "        else:\n",
    "            sigma /= 0.5\n",
    "\n",
    "def _helper_method_AoI(state):\n",
    "    # load globals\n",
    "    T = HELPER_VAR['T']\n",
    "    lm = HELPER_VAR['lm']\n",
    "    reached_lm = np.zeros(len(lm))\n",
    "\n",
    "    cache = list()  # create empty cache list\n",
    "    cache.append(state)  # append initial state vector as first element\n",
    "    state_len = np.shape(state)[1]  # get length of vector once\n",
    "\n",
    "    # do until minimal landmark-\"hit\"-count is reached (--> landmarks_left < 0)\n",
    "    landmarks_left = HELPER_VAR['min_lm']\n",
    "    while landmarks_left >= 0:\n",
    "        # erg_random_walk = -1\n",
    "        step = 1\n",
    "        while True:\n",
    "            if len(cache) <= step:\n",
    "                cache.append(cache[step - 1] * T)\n",
    "            erg_random_walk = np.random.choice(state_len, p=cache[step].toarray()[0])\n",
    "            if erg_random_walk in lm:\n",
    "                reached_lm[lm.index(erg_random_walk)] += 1\n",
    "                landmarks_left -= 1\n",
    "                break\n",
    "            step += 1\n",
    "    erg = reached_lm / np.sum(reached_lm.data)\n",
    "    return csr_matrix(erg)\n",
    "\n",
    "def _helper_method_T_next_mul_W(i):\n",
    "    # load globals\n",
    "    W = HELPER_VAR['W']\n",
    "    num_lm_s_prev = HELPER_VAR['num_lm_s_prev']\n",
    "    return csr_matrix(np.reshape(i.toarray().reshape((num_lm_s_prev,)) * W, (num_lm_s_prev, 1)))\n",
    "\n",
    "def _helper_method_T_next_row_div(r):\n",
    "    return r[1] / np.sum(r[1])\n",
    "\n",
    "def _helper_method_get_landmarks(state):\n",
    "    for i in range(HELPER_VAR['teta']):\n",
    "        state *= HELPER_VAR['T']\n",
    "    destinations = np.random.choice(range(HELPER_VAR['n_events']), HELPER_VAR['beta'], p=state.toarray()[0])\n",
    "    hits = np.zeros((HELPER_VAR['n_events']))\n",
    "    for d in destinations:\n",
    "        hits[d] += 1\n",
    "    return [(h[0], h[1]) for h in enumerate(hits) if h[1] > 0]"
   ]
  },
  {
   "cell_type": "markdown",
   "id": "cd1a195f-e7e5-4e6c-b74e-d572a4a14291",
   "metadata": {},
   "source": [
    "# 3. Begin Computations"
   ]
  },
  {
   "cell_type": "markdown",
   "id": "3a2653e7-6ba5-4ab4-816a-0d54ed4d6c23",
   "metadata": {
    "tags": []
   },
   "source": [
    "## 3.1 Root (First) Scale"
   ]
  },
  {
   "cell_type": "code",
   "execution_count": 13,
   "id": "c22acb98-e734-47ef-accd-888a8e61d93d",
   "metadata": {},
   "outputs": [],
   "source": [
    "dim = distances_nn.shape[0]\n",
    "settings = parameters"
   ]
  },
  {
   "cell_type": "code",
   "execution_count": 14,
   "id": "dc15d078-307c-42f8-859a-3b7568b9278b",
   "metadata": {},
   "outputs": [],
   "source": [
    "# Create first scale\n",
    "s_root = _Scale(X=adata.X[:,imp_channel_ind], W=1)"
   ]
  },
  {
   "cell_type": "markdown",
   "id": "2da491c4-fca9-4804-b074-39be4e4b664e",
   "metadata": {},
   "source": [
    "### 3.1.1 Calculate First Transition Matrix"
   ]
  },
  {
   "cell_type": "raw",
   "id": "e6f0a779-47d1-429b-ac24-4de69cf42462",
   "metadata": {},
   "source": [
    "================ Original Functions for Calculating Transition Matrix in First Scale ==========================\n",
    "def _calc_first_T(distances_nn, dim):\n",
    "    p = mp.Pool(mp.cpu_count())\n",
    "    probs = p.map(_helper_method_calc_T, [dist.data for dist in distances_nn])\n",
    "    p.terminate()\n",
    "    p.join()\n",
    "    data = []\n",
    "    for pr in probs:\n",
    "        data.extend(pr)\n",
    "    T = csr_matrix((data, distances_nn.indices, distances_nn.indptr), shape=(dim,dim))\n",
    "    return T\n",
    "\n",
    "\n",
    "def _helper_method_calc_T(dist):\n",
    "    d = dist / np.max(dist)\n",
    "    return softmax((-d ** 2) / _binary_search_sigma(d, len(d)))\n",
    "\n",
    "def _binary_search_sigma(d, n_neigh):\n",
    "    # binary search\n",
    "    sigma = 10  # Start Sigma\n",
    "    goal = np.log(n_neigh)  # log(k) with k being n_neighbors\n",
    "    # Do binary search until entropy ~== log(k)\n",
    "    while True:\n",
    "        ent = entropy(softmax((-d ** 2) / sigma))\n",
    "        # check sigma\n",
    "        if np.isclose(ent, goal):\n",
    "            return sigma\n",
    "        if ent > goal:\n",
    "            sigma *= 0.5\n",
    "        else:\n",
    "            sigma /= 0.5"
   ]
  },
  {
   "cell_type": "code",
   "execution_count": 15,
   "id": "0e9350cb-2b63-4679-a585-68f2dd7193c7",
   "metadata": {},
   "outputs": [
    {
     "name": "stdout",
     "output_type": "stream",
     "text": [
      "CPU times: total: 2.59 s\n",
      "Wall time: 2.57 s\n"
     ]
    }
   ],
   "source": [
    "%%time\n",
    "probs = map(_helper_method_calc_T, [dist.data for dist in distances_nn])\n",
    "data = []\n",
    "for pr in probs:\n",
    "    data.extend(pr)\n",
    "T = csr_matrix((data, distances_nn.indices, distances_nn.indptr), shape=(dim,dim))"
   ]
  },
  {
   "cell_type": "code",
   "execution_count": 24,
   "id": "fb323eab-390a-4599-8adc-5b0ca804f4ad",
   "metadata": {},
   "outputs": [
    {
     "data": {
      "text/plain": [
       "array([113.24059296, 115.25428009, 118.33538055, 120.96092224,\n",
       "        72.9737854 , 109.21224213, 125.6811676 , 103.03601074,\n",
       "       103.93493652, 122.20897675, 122.93148041, 111.666008  ,\n",
       "       120.70332336,  85.73391724])"
      ]
     },
     "execution_count": 24,
     "metadata": {},
     "output_type": "execute_result"
    }
   ],
   "source": [
    "distances_nn[0].data"
   ]
  },
  {
   "cell_type": "code",
   "execution_count": 21,
   "id": "e7f97d51-400d-4842-8b4b-88b947098fac",
   "metadata": {},
   "outputs": [
    {
     "data": {
      "text/plain": [
       "array([0.07138031, 0.07132835, 0.07124715, 0.07117634, 0.07223247,\n",
       "       0.07148162, 0.07104531, 0.07163008, 0.07160899, 0.07114216,\n",
       "       0.07112222, 0.07142033, 0.07118335, 0.07200132])"
      ]
     },
     "execution_count": 21,
     "metadata": {},
     "output_type": "execute_result"
    }
   ],
   "source": [
    "T[0].data"
   ]
  },
  {
   "cell_type": "code",
   "execution_count": 25,
   "id": "6d59ced1-289a-4e40-b91d-437eabe10cbe",
   "metadata": {},
   "outputs": [],
   "source": [
    "s_root.T = T"
   ]
  },
  {
   "cell_type": "markdown",
   "id": "751e0eb4-85cc-4887-96f4-bf27d29971cc",
   "metadata": {},
   "source": [
    "### 3.1.2 Calculate P (Symmetrization)"
   ]
  },
  {
   "cell_type": "raw",
   "id": "e41f433d-e583-48bb-b863-2ee0a36d234e",
   "metadata": {},
   "source": [
    "======================= Original Function ===============================\n",
    "def _calc_P(T):\n",
    "    '''\n",
    "\n",
    "    Parameters\n",
    "    ----------\n",
    "    T\n",
    "       transition matrix\n",
    "\n",
    "    Returns\n",
    "       joint probabilities matrix P\n",
    "    -------\n",
    "\n",
    "    '''\n",
    "    return (T + T.transpose()) / (2 * T.shape[0])"
   ]
  },
  {
   "attachments": {
    "23c3de62-661f-43de-b253-ad43d39a6640.png": {
     "image/png": "[encoded data removed]"
    }
   },
   "cell_type": "markdown",
   "id": "9f07f62c-e38b-45b9-a7e8-153b33d443dc",
   "metadata": {},
   "source": [
    "t-SNE Symmetrization   \n",
    "![image.png](attachment:23c3de62-661f-43de-b253-ad43d39a6640.png)"
   ]
  },
  {
   "cell_type": "code",
   "execution_count": 26,
   "id": "6765b5ea-8f59-4848-8376-575a3cddb5af",
   "metadata": {},
   "outputs": [
    {
     "name": "stdout",
     "output_type": "stream",
     "text": [
      "CPU times: total: 15.6 ms\n",
      "Wall time: 13.7 ms\n"
     ]
    }
   ],
   "source": [
    "%%time\n",
    "P = (T + T.transpose()) / (2 * T.shape[0])\n",
    "s_root.P = P"
   ]
  },
  {
   "attachments": {
    "90d175d3-b913-4579-acd1-e4afa5904593.png": {
     "image/png": "[encoded data removed]"
    }
   },
   "cell_type": "markdown",
   "id": "aa068958-1a54-4d3d-8471-97c6d648b63f",
   "metadata": {},
   "source": [
    "Umap Symmetrization  \n",
    "![image.png](attachment:90d175d3-b913-4579-acd1-e4afa5904593.png)"
   ]
  },
  {
   "cell_type": "code",
   "execution_count": 27,
   "id": "e27fce4a-468e-47fb-9690-3aa30b1fad47",
   "metadata": {},
   "outputs": [
    {
     "name": "stdout",
     "output_type": "stream",
     "text": [
      "CPU times: total: 15.6 ms\n",
      "Wall time: 18.9 ms\n"
     ]
    }
   ],
   "source": [
    "%%time\n",
    "P = T + T.transpose() - T.multiply(T.transpose())\n",
    "s_root.P = P"
   ]
  },
  {
   "cell_type": "markdown",
   "id": "db8ee944-f5e8-47f3-9639-8b9a754d16a1",
   "metadata": {},
   "source": [
    "### 3.1.3 Create a temporary adata and embed root scale with UMAP"
   ]
  },
  {
   "cell_type": "code",
   "execution_count": 28,
   "id": "757678c4-347f-41f4-ab08-f6abb6db4dbf",
   "metadata": {},
   "outputs": [],
   "source": [
    "tmpdata = sc.AnnData(s_root.X)\n",
    "tmpdata.obsp['connectivities'] = s_root.P\n",
    "tmpdata.obsm['X_pca'] = s_root.X\n",
    "tmpdata.uns['neighbors'] = {\n",
    "    'params':{'method':'umap'},\n",
    "    'connectivities_key':'connectivities'\n",
    "}"
   ]
  },
  {
   "cell_type": "code",
   "execution_count": 29,
   "id": "586cb6a5-57a1-4d5b-9df5-2d4dd168c636",
   "metadata": {},
   "outputs": [
    {
     "name": "stdout",
     "output_type": "stream",
     "text": [
      "CPU times: total: 17.5 s\n",
      "Wall time: 17.3 s\n"
     ]
    }
   ],
   "source": [
    "%%time\n",
    "umap(\n",
    "    tmpdata,\n",
    "    min_dist=min_dist,\n",
    "    spread=spread,\n",
    "    n_components=n_components,\n",
    "    maxiter=maxiter,\n",
    "    alpha=alpha,\n",
    "    gamma=gamma,\n",
    "    negative_sample_rate=negative_sample_rate,\n",
    "    init_pos=init_pos,\n",
    "    random_state=random_state,\n",
    "    a=a,\n",
    "    b=b,\n",
    "    copy=False,\n",
    "    method=method,\n",
    "    neighbors_key=neighbors_key)\n",
    "X_humap = tmpdata.obsm['X_umap'].copy()\n",
    "s_root.X_humap = X_humap"
   ]
  },
  {
   "cell_type": "markdown",
   "id": "91f53fe5-4268-4085-9ddf-a8560601e1d1",
   "metadata": {},
   "source": [
    "### 3.1.4 Get landmarks to build the next scale on top of it"
   ]
  },
  {
   "cell_type": "raw",
   "id": "8c2d58f3-2f29-4c68-8d44-ba0d9c07b14b",
   "metadata": {},
   "source": [
    "================== Original Function =====================\n",
    "def _get_landmarks(T, settings):\n",
    "    '''\n",
    "    Parameters\n",
    "    ----------\n",
    "    T\n",
    "       Transition matrix\n",
    "    settings\n",
    "       settings dict\n",
    "\n",
    "    Returns\n",
    "       list of landmark indices\n",
    "    -------\n",
    "    '''\n",
    "    n_events = T.shape[0]\n",
    "    proposals = np.zeros(n_events)  # counts how many times point has been reached\n",
    "    landmarks = list()  # list of landmarks\n",
    "    global HELPER_VAR\n",
    "    HELPER_VAR = {'T': T,\n",
    "                  'teta': settings['teta'],\n",
    "                  'beta': settings['beta'],\n",
    "                  'beta_thresh': settings['beta_thresh'],\n",
    "                  'n_events': n_events}\n",
    "    init_states = csr_matrix((np.ones(n_events), (range(n_events), range(n_events))))\n",
    "    p = mp.Pool(mp.cpu_count())\n",
    "    hit_list = p.map(_helper_method_get_landmarks, [state for state in init_states])\n",
    "    p.terminate()\n",
    "    p.join()\n",
    "    # evaluate results\n",
    "    for state_hits in hit_list:  # for every states hit_list\n",
    "        for h in state_hits:  # for every hit in some states hit_list\n",
    "            proposals[h[0]] += h[1]\n",
    "\n",
    "    # collect landmarks\n",
    "    min_beta = settings['beta'] * settings['beta_thresh']\n",
    "    for prop in enumerate(proposals):\n",
    "        # if event has been hit min_beta times, it counts as landmark\n",
    "        if prop[1] > min_beta:\n",
    "            landmarks.append(prop[0])\n",
    "    return landmarks\n",
    "\n",
    "def _helper_method_get_landmarks(state):\n",
    "    ### Multiprocessing helper method ###\n",
    "    for i in range(HELPER_VAR['teta']):\n",
    "        state *= HELPER_VAR['T']\n",
    "    destinations = np.random.choice(range(HELPER_VAR['n_events']), HELPER_VAR['beta'], p=state.toarray()[0])\n",
    "    hits = np.zeros((HELPER_VAR['n_events']))\n",
    "    for d in destinations:\n",
    "        hits[d] += 1\n",
    "    return [(h[0], h[1]) for h in enumerate(hits) if h[1] > 0]"
   ]
  },
  {
   "cell_type": "code",
   "execution_count": 30,
   "id": "ac2f997b-0393-4d61-876b-e30c740ef168",
   "metadata": {},
   "outputs": [],
   "source": [
    "n_events = T.shape[0]\n",
    "proposals = np.zeros(n_events)  # counts how many times point has been reached\n",
    "landmarks = list()  # list of landmarks\n",
    "HELPER_VAR = {'T': T,\n",
    "              'teta': settings['teta'],\n",
    "              'beta': settings['beta'],\n",
    "              'beta_thresh': settings['beta_thresh'],\n",
    "              'n_events': n_events}"
   ]
  },
  {
   "cell_type": "markdown",
   "id": "b874da8b-4879-49e1-8390-ebc050f24e68",
   "metadata": {},
   "source": [
    "#### 3.1.4.1 Get Hit List"
   ]
  },
  {
   "cell_type": "markdown",
   "id": "17894ebd-6b0d-4547-9a20-aebcc5ba4c36",
   "metadata": {},
   "source": [
    "**I have removed multiprocessing because it gives error on jupyter notebook**  \n",
    "[Reported issue](https://github.com/ipython/ipython/issues/12396)"
   ]
  },
  {
   "cell_type": "code",
   "execution_count": 32,
   "id": "17e621e4-8303-401d-8412-4a5041b8c729",
   "metadata": {},
   "outputs": [
    {
     "name": "stdout",
     "output_type": "stream",
     "text": [
      "CPU times: total: 375 ms\n",
      "Wall time: 363 ms\n"
     ]
    }
   ],
   "source": [
    "%%time\n",
    "init_states = csr_matrix((np.ones(n_events), (range(n_events), range(n_events))))\n",
    "hit_list = map(_helper_method_get_landmarks, [state for state in init_states])"
   ]
  },
  {
   "cell_type": "code",
   "execution_count": 39,
   "id": "d4c546d8-81ec-4663-9685-c305b2eae72c",
   "metadata": {},
   "outputs": [],
   "source": [
    "lst = list(hit_list)"
   ]
  },
  {
   "cell_type": "code",
   "execution_count": 41,
   "id": "d9ba1354-7d2f-45d9-8246-12c18ecbb135",
   "metadata": {},
   "outputs": [
    {
     "data": {
      "text/plain": [
       "8530"
      ]
     },
     "execution_count": 41,
     "metadata": {},
     "output_type": "execute_result"
    }
   ],
   "source": [
    "len(lst)"
   ]
  },
  {
   "cell_type": "code",
   "execution_count": 42,
   "id": "1bc45d27-91de-4f82-8046-06594ea5c972",
   "metadata": {},
   "outputs": [
    {
     "data": {
      "text/plain": [
       "<10834x10834 sparse matrix of type '<class 'numpy.float64'>'\n",
       "\twith 10834 stored elements in Compressed Sparse Row format>"
      ]
     },
     "execution_count": 42,
     "metadata": {},
     "output_type": "execute_result"
    }
   ],
   "source": [
    "init_states"
   ]
  },
  {
   "cell_type": "code",
   "execution_count": 45,
   "id": "05195887-c153-40bb-84d9-a8d3318ed3cb",
   "metadata": {},
   "outputs": [
    {
     "data": {
      "text/plain": [
       "93"
      ]
     },
     "execution_count": 45,
     "metadata": {},
     "output_type": "execute_result"
    }
   ],
   "source": [
    "len(lst[0])"
   ]
  },
  {
   "cell_type": "code",
   "execution_count": 46,
   "id": "d24846a1-e10e-41b5-92c1-a621e1978c53",
   "metadata": {},
   "outputs": [
    {
     "data": {
      "text/plain": [
       "88"
      ]
     },
     "execution_count": 46,
     "metadata": {},
     "output_type": "execute_result"
    }
   ],
   "source": [
    "len(lst[1])"
   ]
  },
  {
   "cell_type": "code",
   "execution_count": 47,
   "id": "9d262fdb-04ae-429e-b686-ac01c16d7090",
   "metadata": {},
   "outputs": [
    {
     "data": {
      "text/plain": [
       "85"
      ]
     },
     "execution_count": 47,
     "metadata": {},
     "output_type": "execute_result"
    }
   ],
   "source": [
    "len(lst[2])"
   ]
  },
  {
   "cell_type": "code",
   "execution_count": 48,
   "id": "5f391821-7b06-4229-a6c3-04d2bf27e35f",
   "metadata": {},
   "outputs": [
    {
     "data": {
      "text/plain": [
       "91"
      ]
     },
     "execution_count": 48,
     "metadata": {},
     "output_type": "execute_result"
    }
   ],
   "source": [
    "len(lst[3])"
   ]
  },
  {
   "cell_type": "code",
   "execution_count": 50,
   "id": "5665b952-a80b-4fcb-81b4-28ccd5f9643f",
   "metadata": {},
   "outputs": [
    {
     "data": {
      "text/plain": [
       "10834"
      ]
     },
     "execution_count": 50,
     "metadata": {},
     "output_type": "execute_result"
    }
   ],
   "source": [
    "len(proposals)"
   ]
  },
  {
   "cell_type": "code",
   "execution_count": 51,
   "id": "26517116-ba13-40a5-b54f-0be3d328e166",
   "metadata": {},
   "outputs": [
    {
     "data": {
      "text/plain": [
       "0.0"
      ]
     },
     "execution_count": 51,
     "metadata": {},
     "output_type": "execute_result"
    }
   ],
   "source": [
    "proposals.max()"
   ]
  },
  {
   "cell_type": "code",
   "execution_count": 52,
   "id": "650eaeb1-080d-4928-8f45-6776d120cac8",
   "metadata": {},
   "outputs": [],
   "source": [
    "state_hit1 = lst[0]"
   ]
  },
  {
   "cell_type": "code",
   "execution_count": 53,
   "id": "a45c0125-dce2-46ae-841a-2db7e8bba16f",
   "metadata": {},
   "outputs": [
    {
     "data": {
      "text/plain": [
       "93"
      ]
     },
     "execution_count": 53,
     "metadata": {},
     "output_type": "execute_result"
    }
   ],
   "source": [
    "len(state_hit1)"
   ]
  },
  {
   "cell_type": "code",
   "execution_count": 54,
   "id": "c7707b5e-0278-4def-bbc3-68516957e021",
   "metadata": {},
   "outputs": [],
   "source": [
    "hit1 = state_hit1[0]"
   ]
  },
  {
   "cell_type": "code",
   "execution_count": 55,
   "id": "3d428929-f3bd-4774-8390-e7fd12f5a165",
   "metadata": {},
   "outputs": [
    {
     "data": {
      "text/plain": [
       "(495, 1.0)"
      ]
     },
     "execution_count": 55,
     "metadata": {},
     "output_type": "execute_result"
    }
   ],
   "source": [
    "hit1"
   ]
  },
  {
   "cell_type": "code",
   "execution_count": 56,
   "id": "0997b76c-8f51-43ae-b823-e86a23d36444",
   "metadata": {},
   "outputs": [],
   "source": [
    "hit2 = state_hit1[1]"
   ]
  },
  {
   "cell_type": "code",
   "execution_count": 57,
   "id": "6ad3dadb-c2dc-47c5-8f49-8e23188cc950",
   "metadata": {},
   "outputs": [
    {
     "data": {
      "text/plain": [
       "(519, 2.0)"
      ]
     },
     "execution_count": 57,
     "metadata": {},
     "output_type": "execute_result"
    }
   ],
   "source": [
    "hit2"
   ]
  },
  {
   "cell_type": "code",
   "execution_count": null,
   "id": "4866776f-460f-4d7b-b5b7-83b2fabbcf33",
   "metadata": {},
   "outputs": [],
   "source": []
  },
  {
   "cell_type": "code",
   "execution_count": null,
   "id": "0d9ce39b-2ba3-4d05-aadb-3b01af8d1df6",
   "metadata": {},
   "outputs": [],
   "source": []
  },
  {
   "cell_type": "code",
   "execution_count": null,
   "id": "e3190dc4-7f74-4afe-8de0-08b36c19d1c5",
   "metadata": {},
   "outputs": [],
   "source": [
    "for hit in state_hit1:\n",
    "    proposals[hit[0]] += hit[1]"
   ]
  },
  {
   "cell_type": "code",
   "execution_count": null,
   "id": "52253562-04b2-4dcd-b4e1-26e41ef17804",
   "metadata": {},
   "outputs": [],
   "source": []
  },
  {
   "cell_type": "code",
   "execution_count": null,
   "id": "efe79a24-0fde-484c-9a77-31821636322b",
   "metadata": {},
   "outputs": [],
   "source": []
  },
  {
   "cell_type": "markdown",
   "id": "8f21a080-af2d-4bb8-b749-ef4fda8a1a68",
   "metadata": {},
   "source": [
    "#### 3.1.4.2 Evaluate results"
   ]
  },
  {
   "cell_type": "markdown",
   "id": "fb9ff672-9596-47b9-bb73-715e3c22a26e",
   "metadata": {},
   "source": [
    "Below cell is a bottleneck. It uses non-parallel nested for loops whose computational complexity is O(n**2)"
   ]
  },
  {
   "cell_type": "code",
   "execution_count": 24,
   "id": "734dc28a-c2ff-431e-99af-4609d0f883bb",
   "metadata": {},
   "outputs": [
    {
     "name": "stdout",
     "output_type": "stream",
     "text": [
      "CPU times: total: 7min 9s\n",
      "Wall time: 7min 10s\n"
     ]
    }
   ],
   "source": [
    "%%time\n",
    "# evaluate results\n",
    "for state_hits in hit_list:\n",
    "    for h in state_hits:\n",
    "        proposals[h[0]] += h[1]"
   ]
  },
  {
   "cell_type": "markdown",
   "id": "658d9f9f-8e82-493e-8d3d-a11a79e7c334",
   "metadata": {},
   "source": [
    "**Alternative Implementation #1**  \n",
    "Parallel for loop"
   ]
  },
  {
   "cell_type": "code",
   "execution_count": 34,
   "id": "6598f984-7f27-44d2-9386-a2daf56096a8",
   "metadata": {},
   "outputs": [],
   "source": [
    "# Get hit list again\n",
    "init_states = csr_matrix((np.ones(n_events), (range(n_events), range(n_events))))\n",
    "hit_list = map(_helper_method_get_landmarks, [state for state in init_states])"
   ]
  },
  {
   "cell_type": "code",
   "execution_count": 35,
   "id": "25afb094-e1c2-4493-8f2f-5d1fefa298fe",
   "metadata": {},
   "outputs": [],
   "source": [
    "def _helper_func(state_hits):\n",
    "    for h in state_hits:\n",
    "        proposals[h[0]] += h[1]"
   ]
  },
  {
   "cell_type": "code",
   "execution_count": null,
   "id": "59c37464-7939-4d9b-bddf-aea0f7ce059d",
   "metadata": {},
   "outputs": [],
   "source": [
    "%%time\n",
    "Parallel(n_jobs=8)(delayed(_helper_func)(state_hits) for state_hits in hit_list)"
   ]
  },
  {
   "cell_type": "markdown",
   "id": "0dcf1d72-74a4-46c1-8f1e-0623c82784c5",
   "metadata": {},
   "source": [
    "**Alternative Implementation #2**  \n",
    "Map"
   ]
  },
  {
   "cell_type": "code",
   "execution_count": 28,
   "id": "20b34555-71f8-4897-98e6-3f71fe7710e5",
   "metadata": {},
   "outputs": [],
   "source": [
    "# Get hit list again\n",
    "proposals = np.zeros(n_events)\n",
    "init_states = csr_matrix((np.ones(n_events), (range(n_events), range(n_events))))\n",
    "hit_list = map(_helper_method_get_landmarks, [state for state in init_states])"
   ]
  },
  {
   "cell_type": "code",
   "execution_count": 30,
   "id": "828f2ad6-c11b-49b3-99d0-cca554db3b08",
   "metadata": {},
   "outputs": [],
   "source": [
    "def temp_func(state_hits):\n",
    "    for h in state_hits:\n",
    "        proposals[h[0]] += h[1]"
   ]
  },
  {
   "cell_type": "code",
   "execution_count": 31,
   "id": "799a998f-0f30-41b0-ab80-7390ee3ada1d",
   "metadata": {},
   "outputs": [
    {
     "name": "stdout",
     "output_type": "stream",
     "text": [
      "CPU times: total: 9min 24s\n",
      "Wall time: 9min 27s\n"
     ]
    },
    {
     "data": {
      "text/plain": [
       "<map at 0x1b8700669a0>"
      ]
     },
     "execution_count": 31,
     "metadata": {},
     "output_type": "execute_result"
    }
   ],
   "source": [
    "%%time\n",
    "map(temp_func, [state_hits for state_hits in hit_list])"
   ]
  },
  {
   "cell_type": "markdown",
   "id": "80816528-5dcc-47ba-b5c6-32403ce9d504",
   "metadata": {},
   "source": [
    "**Alternative Implementation #3**"
   ]
  },
  {
   "cell_type": "code",
   "execution_count": 58,
   "id": "4d294738-bfd0-47ee-8ba7-d1072c702b9a",
   "metadata": {},
   "outputs": [],
   "source": [
    "from numba import njit"
   ]
  },
  {
   "cell_type": "code",
   "execution_count": 106,
   "id": "5c444861-2e2c-4701-9423-675ce3072f57",
   "metadata": {},
   "outputs": [],
   "source": [
    "def _helper_method_get_landmarks(state):\n",
    "    for i in range(HELPER_VAR['teta']):\n",
    "        state *= HELPER_VAR['T']\n",
    "    destinations = np.random.choice(range(HELPER_VAR['n_events']), HELPER_VAR['beta'], p=state.toarray()[0])\n",
    "    hits = np.zeros((HELPER_VAR['n_events']))\n",
    "    for d in destinations:\n",
    "        hits[d] += 1\n",
    "    return [(h[0], h[1]) for h in enumerate(hits) if h[1] > 0]"
   ]
  },
  {
   "cell_type": "code",
   "execution_count": 107,
   "id": "2d586fd2-6046-43aa-8ba7-fb02bd129aff",
   "metadata": {},
   "outputs": [],
   "source": [
    "def numba_helper_method_get_landmarks(state, HELPER_VAR):\n",
    "    for i in range(HELPER_VAR['teta']):\n",
    "        state *= HELPER_VAR['T']\n",
    "    destinations = np.random.choice(range(HELPER_VAR['n_events']), HELPER_VAR['beta'], p=state.toarray()[0])\n",
    "    hits = np.zeros((HELPER_VAR['n_events']))\n",
    "    for d in destinations:\n",
    "        hits[d] += 1\n",
    "    return [(h[0], h[1]) for h in enumerate(hits) if h[1] > 0]"
   ]
  },
  {
   "cell_type": "code",
   "execution_count": 108,
   "id": "45617ab3-0dcb-47b8-95be-aed07d1ca7bb",
   "metadata": {
    "tags": []
   },
   "outputs": [],
   "source": [
    "# Get hit list again\n",
    "proposals = np.zeros(n_events, dtype=np.int32)\n",
    "init_states = csr_matrix((np.ones(n_events, dtype=np.int32), (range(n_events), range(n_events))))\n",
    "hit_list = map(_helper_method_get_landmarks, [state for state in init_states])\n",
    "#hit_list = []\n",
    "#for state in init_states:\n",
    "#    hit = _helper_method_get_landmarks(state, HELPER_VAR)\n",
    "#    hit_list.append(hit)"
   ]
  },
  {
   "cell_type": "code",
   "execution_count": 109,
   "id": "aa624c5c-1396-49a4-add2-a90104bcca53",
   "metadata": {},
   "outputs": [],
   "source": [
    "def temp_func(state_hits, proposals):\n",
    "    for h in state_hits:\n",
    "        proposals[h[0]] += h[1]\n",
    "    return proposals"
   ]
  },
  {
   "cell_type": "code",
   "execution_count": 116,
   "id": "c8904a5f-8405-47fc-8da3-7d8fcc555ca8",
   "metadata": {},
   "outputs": [],
   "source": [
    "@njit()\n",
    "def temp_func(state_hits, proposals):\n",
    "    for h in state_hits:\n",
    "        proposals[h[0]] += h[1]"
   ]
  },
  {
   "cell_type": "code",
   "execution_count": 117,
   "id": "65ee9c8b-c9e3-4be8-afea-e1faf3b20cfc",
   "metadata": {},
   "outputs": [],
   "source": [
    "temp_func.inspect_types()"
   ]
  },
  {
   "cell_type": "code",
   "execution_count": 118,
   "id": "e69bbf7d-bb28-4049-9a46-83add734ec2b",
   "metadata": {
    "tags": []
   },
   "outputs": [
    {
     "name": "stderr",
     "output_type": "stream",
     "text": [
      "C:\\Users\\ergun\\pycharm\\pytometry\\venv\\lib\\site-packages\\numba\\core\\ir_utils.py:2147: NumbaPendingDeprecationWarning: \u001b[1m\n",
      "Encountered the use of a type that is scheduled for deprecation: type 'reflected list' found for argument 'state_hits' of function 'temp_func'.\n",
      "\n",
      "For more information visit https://numba.readthedocs.io/en/stable/reference/deprecation.html#deprecation-of-reflection-for-list-and-set-types\n",
      "\u001b[1m\n",
      "File \"..\\..\\..\\AppData\\Local\\Temp\\ipykernel_8760\\3423220534.py\", line 1:\u001b[0m\n",
      "\u001b[1m<source missing, REPL/exec in use?>\u001b[0m\n",
      "\u001b[0m\n",
      "  warnings.warn(NumbaPendingDeprecationWarning(msg, loc=loc))\n"
     ]
    },
    {
     "name": "stdout",
     "output_type": "stream",
     "text": [
      "CPU times: total: 6min 45s\n",
      "Wall time: 6min 45s\n"
     ]
    }
   ],
   "source": [
    "%%time\n",
    "for state_hits in hit_list:\n",
    "    temp_func(state_hits, proposals)"
   ]
  },
  {
   "cell_type": "code",
   "execution_count": null,
   "id": "64f3577f-d900-4430-a5b9-798a18454891",
   "metadata": {},
   "outputs": [],
   "source": []
  },
  {
   "cell_type": "code",
   "execution_count": null,
   "id": "d1e387d7-e5e4-4ffc-9b66-1c19c3c7b2ae",
   "metadata": {},
   "outputs": [],
   "source": []
  },
  {
   "cell_type": "markdown",
   "id": "c02c6a7b-3a18-4e2e-bcf9-2e47f88cc7f3",
   "metadata": {},
   "source": [
    "#### 3.1.4.3 Collect landmarks"
   ]
  },
  {
   "cell_type": "code",
   "execution_count": 32,
   "id": "aa26b1e8-e918-439c-b095-68d2cd5c8bfc",
   "metadata": {},
   "outputs": [
    {
     "name": "stdout",
     "output_type": "stream",
     "text": [
      "CPU times: total: 0 ns\n",
      "Wall time: 3 ms\n"
     ]
    }
   ],
   "source": [
    "%%time\n",
    "min_beta = settings['beta'] * settings['beta_thresh']\n",
    "for prop in enumerate(proposals):\n",
    "    # if event has been hit min_beta times, it counts as landmark\n",
    "    if prop[1] > min_beta:\n",
    "        landmarks.append(prop[0])"
   ]
  },
  {
   "cell_type": "code",
   "execution_count": 26,
   "id": "683e9c80-0abe-49e5-a34d-0058fa0b5ba4",
   "metadata": {},
   "outputs": [],
   "source": [
    "# Store scale information in the list\n",
    "s_root.lm_ind = landmarks\n",
    "scale_list.append(s_root)"
   ]
  },
  {
   "cell_type": "markdown",
   "id": "0ffdb0d0-75f6-45d7-91ff-4f8d48b43d22",
   "metadata": {
    "tags": []
   },
   "source": [
    "# 3.2 Second Scale"
   ]
  },
  {
   "cell_type": "code",
   "execution_count": null,
   "id": "636be5b0-7009-4801-b7c1-e8c3b94a898f",
   "metadata": {},
   "outputs": [],
   "source": [
    "s_prev = scale_list[0]"
   ]
  },
  {
   "cell_type": "code",
   "execution_count": null,
   "id": "5adbf54b-b58b-49e6-9144-1edc68a3d157",
   "metadata": {},
   "outputs": [],
   "source": [
    "s_curr = _Scale(X=s_prev.X[s_prev.lm_ind, :], parent_scale=s_prev)"
   ]
  },
  {
   "cell_type": "code",
   "execution_count": null,
   "id": "877e0745-f5c3-48c1-969e-afad897a8c91",
   "metadata": {},
   "outputs": [],
   "source": [
    "%%time\n",
    "scale = s_prev\n",
    "min_lm = 100\n",
    "\n",
    "n_events = scale.T.shape[0]\n",
    "# create state matrix containing all initial states\n",
    "init_states = csr_matrix((np.ones(n_events), (range(n_events), range(n_events))))\n",
    "\n",
    "HELPER_VAR = {'lm': scale.lm_ind, 'min_lm': min_lm, 'T': scale.T}\n",
    "I = map(_helper_method_AoI, [s for s in init_states])\n",
    "I = vstack(I)\n",
    "s_curr.I = I"
   ]
  },
  {
   "cell_type": "code",
   "execution_count": null,
   "id": "280460a3-128a-43f3-8001-3d7ac21d6965",
   "metadata": {},
   "outputs": [],
   "source": [
    "%%time\n",
    "I = s_curr.I\n",
    "W_old = s_prev.W\n",
    "if type(W_old) is int: #W_old is None or W_old is 1:\n",
    "    W_old = np.ones((I.shape[0],))\n",
    "W_s = np.array(W_old * I).reshape((I.shape[1]))\n",
    "s_curr.W = W_s"
   ]
  },
  {
   "cell_type": "code",
   "execution_count": null,
   "id": "089d2049-8ba6-46ad-8ddc-6689e0a36c82",
   "metadata": {},
   "outputs": [],
   "source": [
    "%%time\n",
    "I = s_curr.I\n",
    "W = s_prev.W\n",
    "\n",
    "num_lm_s_prev, num_lm_s = (I.shape[0],I.shape[1])  # dimensionst of I\n",
    "# num_lm_s_old > num_lm_s\n",
    "I_t = I.transpose()  # transposed Influence matrix\n",
    "\n",
    "HELPER_VAR = {'W': W, 'num_lm_s_prev': num_lm_s_prev}\n",
    "\n",
    "I_with_W = map(_helper_method_T_next_mul_W, [it for it in I_t])\n",
    "I_with_W = hstack(list(I_with_W))\n",
    "I = I_with_W.T * I\n",
    "T_next = map(_helper_method_T_next_row_div, enumerate(I))\n",
    "\n",
    "T_next = vstack(T_next)\n",
    "T_next = T_next.tocsr()\n",
    "s_curr.T = T_next"
   ]
  },
  {
   "cell_type": "code",
   "execution_count": null,
   "id": "b384f3c6-e5f8-4466-9381-335ee7de02eb",
   "metadata": {},
   "outputs": [],
   "source": [
    "%%time\n",
    "T = s_curr.T\n",
    "settings = parameters\n",
    "n_events = T.shape[0]\n",
    "proposals = np.zeros(n_events)  # counts how many times point has been reached\n",
    "landmarks = list()  # list of landmarks\n",
    "\n",
    "HELPER_VAR = {'T': T, 'teta': settings['teta'], 'beta': settings['beta'], \n",
    "              'beta_thresh': settings['beta_thresh'], 'n_events': n_events}\n",
    "init_states = csr_matrix((np.ones(n_events), (range(n_events), range(n_events))))\n",
    "hit_list = map(_helper_method_get_landmarks, [state for state in init_states])\n",
    "# evaluate results\n",
    "for state_hits in hit_list:  # for every states hit_list\n",
    "    for h in state_hits:  # for every hit in some states hit_list\n",
    "        proposals[h[0]] += h[1]\n",
    "# collect landmarks\n",
    "min_beta = settings['beta'] * settings['beta_thresh']\n",
    "for prop in enumerate(proposals):\n",
    "    # if event has been hit min_beta times, it counts as landmark\n",
    "    if prop[1] > min_beta:\n",
    "        landmarks.append(prop[0])\n",
    "s_curr.lm_ind = landmarks"
   ]
  },
  {
   "cell_type": "markdown",
   "id": "bb95f97e-7eae-4e09-987e-ec0b83e55578",
   "metadata": {},
   "source": [
    "t-SNE Symmetrization"
   ]
  },
  {
   "cell_type": "code",
   "execution_count": null,
   "id": "82b4e0ce-e2b6-4aa5-9feb-00958a549277",
   "metadata": {},
   "outputs": [],
   "source": [
    "%%time\n",
    "T = s_curr.T\n",
    "P = (T + T.transpose()) / (2 * T.shape[0])\n",
    "s_curr.P = P"
   ]
  },
  {
   "cell_type": "markdown",
   "id": "509df606-6dbc-428c-ab2c-1548667d1d0b",
   "metadata": {},
   "source": [
    "Umap Symmetrization"
   ]
  },
  {
   "cell_type": "code",
   "execution_count": null,
   "id": "78c5779d-14c6-4c0c-9757-aea0d21e9011",
   "metadata": {},
   "outputs": [],
   "source": [
    "%%time\n",
    "T = s_curr.T\n",
    "P = T + T.transpose() - T.multiply(T.transpose())\n",
    "s_curr.P = P"
   ]
  },
  {
   "cell_type": "markdown",
   "id": "51b80826-9cf7-4fb4-845c-c92c70e2e861",
   "metadata": {},
   "source": [
    "Create a temporary anndata to be compatible with scanpy's umap"
   ]
  },
  {
   "cell_type": "code",
   "execution_count": null,
   "id": "dfe569d0-4116-488f-9b91-b90f59ac872a",
   "metadata": {},
   "outputs": [],
   "source": [
    "tmpdata = sc.AnnData(X=s_curr.X)\n",
    "tmpdata.obsp['connectivities'] = s_curr.P\n",
    "tmpdata.obsm['X_pca'] = s_curr.X\n",
    "tmpdata.uns['neighbors'] = {'params':{'method':'umap'}}\n",
    "tmpdata.uns['neighbors']['connectivities_key'] = 'connectivities'"
   ]
  },
  {
   "cell_type": "code",
   "execution_count": null,
   "id": "80b37165-84b1-4caf-ba58-9a4eadb106e0",
   "metadata": {},
   "outputs": [],
   "source": [
    "%%time\n",
    "umap(\n",
    "     tmpdata,\n",
    "     min_dist=min_dist,\n",
    "     spread=spread,\n",
    "     n_components=n_components,\n",
    "     maxiter=maxiter,\n",
    "     alpha=alpha,\n",
    "     gamma=gamma,\n",
    "     negative_sample_rate=negative_sample_rate,\n",
    "     init_pos=init_pos,\n",
    "     random_state=random_state,\n",
    "     a=a,\n",
    "     b=b,\n",
    "     copy=False,\n",
    "     method=method,\n",
    "     neighbors_key=neighbors_key)\n",
    "X_humap = tmpdata.obsm['X_umap']\n",
    "s_curr.X_humap = X_humap"
   ]
  },
  {
   "cell_type": "code",
   "execution_count": null,
   "id": "47b3107b-31ba-4147-8430-7b11e12d4d9f",
   "metadata": {},
   "outputs": [],
   "source": [
    "scale_list.append(s_curr)"
   ]
  },
  {
   "cell_type": "markdown",
   "id": "d7c6d59a-592e-471e-9d7a-78a918617250",
   "metadata": {},
   "source": [
    "## 3.3 Third Scale"
   ]
  },
  {
   "cell_type": "code",
   "execution_count": null,
   "id": "28073e1c-32db-48a0-adb9-a01b0a7c492b",
   "metadata": {},
   "outputs": [],
   "source": [
    "s_prev = scale_list[1]\n",
    "s_curr = _Scale(X=s_prev.X[s_prev.lm_ind, :], parent_scale=s_prev)"
   ]
  },
  {
   "cell_type": "code",
   "execution_count": null,
   "id": "05d47869-b60b-42a8-9442-a806b591e78b",
   "metadata": {},
   "outputs": [],
   "source": [
    "%%time\n",
    "scale = s_prev\n",
    "min_lm = 100\n",
    "\n",
    "n_events = scale.T.shape[0]\n",
    "# create state matrix containing all initial states\n",
    "init_states = csr_matrix((np.ones(n_events), (range(n_events), range(n_events))))\n",
    "HELPER_VAR = {'lm': scale.lm_ind, 'min_lm': min_lm, 'T': scale.T}\n",
    "I = map(_helper_method_AoI, [s for s in init_states])\n",
    "I = vstack(I)\n",
    "s_curr.I = I"
   ]
  },
  {
   "cell_type": "code",
   "execution_count": null,
   "id": "b35ceef8-1d4f-418e-960e-b84279ce793a",
   "metadata": {},
   "outputs": [],
   "source": [
    "%%time\n",
    "I = s_curr.I\n",
    "W_old = s_prev.W\n",
    "if type(W_old) is int: #W_old is None or W_old is 1:\n",
    "    W_old = np.ones((I.shape[0],))\n",
    "W_s = np.array(W_old * I).reshape((I.shape[1]))\n",
    "s_curr.W = W_s"
   ]
  },
  {
   "cell_type": "code",
   "execution_count": null,
   "id": "7fec204e-7d6a-443b-99ac-101ac1f9230a",
   "metadata": {},
   "outputs": [],
   "source": [
    "%%time\n",
    "I = s_curr.I\n",
    "W = s_prev.W\n",
    "\n",
    "num_lm_s_prev, num_lm_s = (I.shape[0],I.shape[1])  # dimensionst of I\n",
    "# num_lm_s_old > num_lm_s\n",
    "I_t = I.transpose()  # transposed Influence matrix\n",
    "\n",
    "HELPER_VAR = {'W': W, 'num_lm_s_prev': num_lm_s_prev}\n",
    "\n",
    "I_with_W = map(_helper_method_T_next_mul_W, [it for it in I_t])\n",
    "I_with_W = hstack(list(I_with_W))\n",
    "I = I_with_W.T * I\n",
    "T_next = map(_helper_method_T_next_row_div, enumerate(I))\n",
    "\n",
    "T_next = vstack(T_next)\n",
    "T_next = T_next.tocsr()\n",
    "s_curr.T = T_next"
   ]
  },
  {
   "cell_type": "code",
   "execution_count": null,
   "id": "56c588d6-919b-4a68-8638-30f81fb80b7d",
   "metadata": {},
   "outputs": [],
   "source": [
    "%%time\n",
    "T = s_curr.T\n",
    "settings = parameters\n",
    "n_events = T.shape[0]\n",
    "proposals = np.zeros(n_events)  # counts how many times point has been reached\n",
    "landmarks = list()  # list of landmarks\n",
    "global HELPER_VAR\n",
    "HELPER_VAR = {'T': T, 'teta': settings['teta'], 'beta': settings['beta'], \n",
    "              'beta_thresh': settings['beta_thresh'], 'n_events': n_events}\n",
    "init_states = csr_matrix((np.ones(n_events), (range(n_events), range(n_events))))\n",
    "hit_list = map(_helper_method_get_landmarks, [state for state in init_states])\n",
    "# evaluate results\n",
    "for state_hits in hit_list:  # for every states hit_list\n",
    "    for h in state_hits:  # for every hit in some states hit_list\n",
    "        proposals[h[0]] += h[1]\n",
    "# collect landmarks\n",
    "min_beta = settings['beta'] * settings['beta_thresh']\n",
    "for prop in enumerate(proposals):\n",
    "    # if event has been hit min_beta times, it counts as landmark\n",
    "    if prop[1] > min_beta:\n",
    "        landmarks.append(prop[0])\n",
    "s_curr.lm_ind = landmarks"
   ]
  },
  {
   "cell_type": "code",
   "execution_count": null,
   "id": "3eb92b5a-1396-4e7e-be86-dbc3a887b996",
   "metadata": {},
   "outputs": [],
   "source": [
    "%%time\n",
    "T = s_curr.T\n",
    "P = (T + T.transpose()) / (2 * T.shape[0])\n",
    "s_curr.P = P"
   ]
  },
  {
   "cell_type": "code",
   "execution_count": null,
   "id": "88b9434b-83a4-4599-8256-7f51a186672f",
   "metadata": {},
   "outputs": [],
   "source": [
    "tmpdata = sc.AnnData(X=s_curr.X)\n",
    "tmpdata.obsp['connectivities'] = s_curr.P\n",
    "tmpdata.obsm['X_pca'] = s_curr.X\n",
    "tmpdata.uns['neighbors'] = {'params':{'method':'umap'}}\n",
    "tmpdata.uns['neighbors']['connectivities_key'] = 'connectivities'"
   ]
  },
  {
   "cell_type": "code",
   "execution_count": null,
   "id": "6ff1cb40-dbed-45b7-9061-9d06be9e5c45",
   "metadata": {},
   "outputs": [],
   "source": [
    "%%time\n",
    "umap(\n",
    "     tmpdata,\n",
    "     min_dist=min_dist,\n",
    "     spread=spread,\n",
    "     n_components=n_components,\n",
    "     maxiter=maxiter,\n",
    "     alpha=alpha,\n",
    "     gamma=gamma,\n",
    "     negative_sample_rate=negative_sample_rate,\n",
    "     init_pos=init_pos,\n",
    "     random_state=random_state,\n",
    "     a=a,\n",
    "     b=b,\n",
    "     copy=False,\n",
    "     method=method,\n",
    "     neighbors_key=neighbors_key)\n",
    "X_humap = tmpdata.obsm['X_umap']\n",
    "s_curr.X_humap = X_humap"
   ]
  },
  {
   "cell_type": "code",
   "execution_count": null,
   "id": "2c72322d-8873-4e9b-8a69-221ae0e04572",
   "metadata": {},
   "outputs": [],
   "source": [
    "scale_list.append(s_curr)"
   ]
  },
  {
   "cell_type": "markdown",
   "id": "ff4d36c0-5904-4c8a-93ba-296a69f91dcb",
   "metadata": {},
   "source": [
    "# 4. Plot Embeddings for Each Level"
   ]
  },
  {
   "cell_type": "code",
   "execution_count": null,
   "id": "86fb7be3-1071-4342-b393-0d381f850046",
   "metadata": {},
   "outputs": [],
   "source": [
    "l1 = scale_list[0].X_humap\n",
    "l2 = scale_list[1].X_humap\n",
    "l3 = scale_list[2].X_humap"
   ]
  },
  {
   "cell_type": "code",
   "execution_count": null,
   "id": "983de95c-11ab-4bca-8602-805eef1c4bc4",
   "metadata": {},
   "outputs": [],
   "source": [
    "plt.scatter(l1[:,0], l1[:,1])\n",
    "plt.tight_layout()"
   ]
  },
  {
   "cell_type": "code",
   "execution_count": null,
   "id": "3f496082-4b4e-4377-a130-da6ba7fbb9a2",
   "metadata": {},
   "outputs": [],
   "source": [
    "plt.scatter(l2[:,0], l2[:,1])\n",
    "plt.tight_layout()"
   ]
  },
  {
   "cell_type": "code",
   "execution_count": null,
   "id": "a58c1c50-09d1-4b86-9bef-a11ef915b2c3",
   "metadata": {},
   "outputs": [],
   "source": [
    "plt.scatter(l3[:,0], l3[:,1])\n",
    "plt.tight_layout()"
   ]
  },
  {
   "cell_type": "code",
   "execution_count": null,
   "id": "87ab84f5-ae39-49e4-8d53-01a787e602dd",
   "metadata": {},
   "outputs": [],
   "source": []
  }
 ],
 "metadata": {
  "kernelspec": {
   "display_name": "Python 3 (ipykernel)",
   "language": "python",
   "name": "python3"
  },
  "language_info": {
   "codemirror_mode": {
    "name": "ipython",
    "version": 3
   },
   "file_extension": ".py",
   "mimetype": "text/x-python",
   "name": "python",
   "nbconvert_exporter": "python",
   "pygments_lexer": "ipython3",
   "version": "3.9.7"
  }
 },
 "nbformat": 4,
 "nbformat_minor": 5
}
