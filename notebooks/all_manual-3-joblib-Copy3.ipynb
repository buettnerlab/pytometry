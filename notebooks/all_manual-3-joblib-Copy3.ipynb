{
 "cells": [
  {
   "cell_type": "markdown",
   "id": "727ff73f-0b81-4fa9-a3a3-0108b98139e0",
   "metadata": {},
   "source": [
    "# Prepare Environment"
   ]
  },
  {
   "cell_type": "code",
   "execution_count": 1,
   "id": "4877cb27-8508-4106-b588-6493464a933c",
   "metadata": {},
   "outputs": [],
   "source": [
    "import scanpy as sc\n",
    "import pytometry as pm\n",
    "import numpy as np\n",
    "import pandas as pd\n",
    "import matplotlib.pyplot as plt\n",
    "import seaborn as sns\n",
    "import os"
   ]
  },
  {
   "cell_type": "code",
   "execution_count": 2,
   "id": "82c4d7af-25e9-4b5e-961d-c1374beb8348",
   "metadata": {},
   "outputs": [],
   "source": [
    "from joblib import Parallel, delayed"
   ]
  },
  {
   "cell_type": "code",
   "execution_count": 3,
   "id": "f9a189d2-3c58-4489-bfa3-4f10ea1545eb",
   "metadata": {},
   "outputs": [],
   "source": [
    "%load_ext cython"
   ]
  },
  {
   "cell_type": "code",
   "execution_count": 4,
   "id": "da6d4884-83f0-40f6-a33f-656b4d970966",
   "metadata": {},
   "outputs": [],
   "source": [
    "BASE = 'G:\\\\My Drive\\\\colab\\\\cytometry\\\\2022_Nature_Becher\\\\surface_panel\\\\batch_1\\\\'\n",
    "fls = sorted(os.listdir(BASE))\n",
    "fls.pop(0)\n",
    "first = fls[0]"
   ]
  },
  {
   "cell_type": "code",
   "execution_count": 5,
   "id": "958af7c7-07aa-4126-ab15-fc7f84c2e47d",
   "metadata": {},
   "outputs": [],
   "source": [
    "fpath = BASE + first\n",
    "adata = pm.io.read_fcs(fpath)"
   ]
  },
  {
   "cell_type": "code",
   "execution_count": 6,
   "id": "5d914e24-5137-452f-b2b2-ba3f48c0f13e",
   "metadata": {},
   "outputs": [],
   "source": [
    "sc.pp.subsample(adata, 0.1)"
   ]
  },
  {
   "cell_type": "code",
   "execution_count": 7,
   "id": "63127261-d377-402d-99b6-b52bc270ad11",
   "metadata": {},
   "outputs": [
    {
     "data": {
      "text/plain": [
       "AnnData object with n_obs × n_vars = 10834 × 36\n",
       "    var: 'Channel Number', 'marker', '$PnD', '$PnB', '$PnR', 'channel', '$PnG', '$PnE'\n",
       "    uns: 'meta'"
      ]
     },
     "execution_count": 7,
     "metadata": {},
     "output_type": "execute_result"
    }
   ],
   "source": [
    "adata"
   ]
  },
  {
   "cell_type": "code",
   "execution_count": 8,
   "id": "14e421d3-b57a-49d8-ba22-1049ca4f5686",
   "metadata": {},
   "outputs": [],
   "source": [
    "sc.pp.neighbors(adata)"
   ]
  },
  {
   "cell_type": "code",
   "execution_count": 9,
   "id": "3d3b987a-7863-4460-9a86-64e96ee8e0b4",
   "metadata": {},
   "outputs": [],
   "source": [
    "from scipy.stats import entropy\n",
    "from scipy.special import softmax\n",
    "import numpy as np\n",
    "from scipy.sparse import csr_matrix\n",
    "from scipy.sparse import vstack, hstack\n",
    "from scanpy.tools._umap import umap\n",
    "import joblib\n",
    "from typing import Union, Optional, Literal\n",
    "_InitPos = Literal['paga', 'spectral', 'random']\n",
    "AnyRandom = Union[None, int, np.random.RandomState]\n",
    "HELPER_VAR = {}"
   ]
  },
  {
   "cell_type": "code",
   "execution_count": 10,
   "id": "d8bfbe9d-faa5-4f8c-b8f0-23a700e8d676",
   "metadata": {},
   "outputs": [
    {
     "name": "stdout",
     "output_type": "stream",
     "text": [
      "CPU times: total: 0 ns\n",
      "Wall time: 0 ns\n"
     ]
    }
   ],
   "source": [
    "%%time\n",
    "class _Scale:\n",
    "    def __init__(self, X=None, T=None, I=None, W=None, P=None, X_humap=None, lm_ind=None, parent_scale=None):\n",
    "        self.X = X\n",
    "        self.T = T\n",
    "        self.I = I\n",
    "        self.W = W\n",
    "        self.P = P\n",
    "        self.X_humap = X_humap\n",
    "        self.lm_ind = lm_ind\n",
    "        self.parent_scale = parent_scale"
   ]
  },
  {
   "cell_type": "markdown",
   "id": "6f3db1d4-6de5-4d94-84ae-b049fd60d41b",
   "metadata": {},
   "source": [
    "Declaring and Checking Arguments"
   ]
  },
  {
   "cell_type": "code",
   "execution_count": 11,
   "id": "ede6d309-6dad-4d91-ae98-1a3f08891b6a",
   "metadata": {},
   "outputs": [
    {
     "name": "stdout",
     "output_type": "stream",
     "text": [
      "CPU times: total: 0 ns\n",
      "Wall time: 1 ms\n"
     ]
    }
   ],
   "source": [
    "%%time\n",
    "imp_channel_ind=None\n",
    "beta=100\n",
    "beta_thresh=1.5\n",
    "teta=50\n",
    "num_scales=1\n",
    "min_dist= 0.5\n",
    "spread= 1.0\n",
    "n_components= 2\n",
    "maxiter= None\n",
    "alpha= 1.0\n",
    "gamma= 1.0\n",
    "negative_sample_rate= 5\n",
    "init_pos='spectral'\n",
    "random_state= 0\n",
    "a= None\n",
    "b= None\n",
    "copy= False\n",
    "method= 'umap'\n",
    "neighbors_key= None\n",
    "\n",
    "if imp_channel_ind is None:\n",
    "    imp_channel_ind = range(len(adata.var_names))\n",
    "elif len(imp_channel_ind) == 0:\n",
    "    imp_channel_ind = range(len(adata.var_names))\n",
    "\n",
    "# settings dict for all important setting variables\n",
    "parameters = {\n",
    "    'beta': beta,\n",
    "    'beta_thresh': beta_thresh,\n",
    "    'teta': teta,\n",
    "    'imp_channel_ind' : imp_channel_ind}\n",
    "\n",
    "try:\n",
    "    adata.obsp['distances']\n",
    "except KeyError as e:\n",
    "    raise Exception(\"k-nearest-neighbor graph has to be constructed first\")\n",
    "distances_nn = adata.obsp['distances']\n",
    "\n",
    "scale_list = list()"
   ]
  },
  {
   "cell_type": "code",
   "execution_count": 12,
   "id": "3149509e-2ce7-4d96-b5d5-a669c3ea7943",
   "metadata": {},
   "outputs": [],
   "source": [
    "adata.uns['humap_settings'] = parameters\n",
    "adata.uns['humap_scales'] = scale_list"
   ]
  },
  {
   "cell_type": "code",
   "execution_count": 13,
   "id": "e9574a67-8cf8-4938-8172-f9eca940aded",
   "metadata": {},
   "outputs": [
    {
     "data": {
      "text/plain": [
       "AnnData object with n_obs × n_vars = 10834 × 36\n",
       "    var: 'Channel Number', 'marker', '$PnD', '$PnB', '$PnR', 'channel', '$PnG', '$PnE'\n",
       "    uns: 'meta', 'neighbors', 'humap_settings', 'humap_scales'\n",
       "    obsp: 'distances', 'connectivities'"
      ]
     },
     "execution_count": 13,
     "metadata": {},
     "output_type": "execute_result"
    }
   ],
   "source": [
    "adata"
   ]
  },
  {
   "cell_type": "markdown",
   "id": "fb440e4e-4593-4035-9d30-1c82f15af6e1",
   "metadata": {
    "tags": []
   },
   "source": [
    "## Helpers"
   ]
  },
  {
   "cell_type": "code",
   "execution_count": 14,
   "id": "564f4fa6-5a26-4ef1-839f-b7f1777d61a2",
   "metadata": {},
   "outputs": [],
   "source": [
    "def _helper_method_calc_T(dist):\n",
    "    from scipy.special import softmax\n",
    "    d = dist / np.max(dist)\n",
    "    return softmax((-d ** 2) / _binary_search_sigma(d, len(d)))\n",
    "\n",
    "def _binary_search_sigma(d, n_neigh):\n",
    "    # binary search\n",
    "    import numpy as np\n",
    "    sigma = 10  # Start Sigma\n",
    "    goal = np.log(n_neigh)  # log(k) with k being n_neighbors\n",
    "    # Do binary search until entropy ~== log(k)\n",
    "    while True:\n",
    "        ent = entropy(softmax((-d ** 2) / sigma))\n",
    "        # check sigma\n",
    "        if np.isclose(ent, goal):\n",
    "            return sigma\n",
    "        if ent > goal:\n",
    "            sigma *= 0.5\n",
    "        else:\n",
    "            sigma /= 0.5\n",
    "\n",
    "def _helper_method_AoI(state):\n",
    "    # load globals\n",
    "    T = HELPER_VAR['T']\n",
    "    lm = HELPER_VAR['lm']\n",
    "    reached_lm = np.zeros(len(lm))\n",
    "\n",
    "    cache = list()  # create empty cache list\n",
    "    cache.append(state)  # append initial state vector as first element\n",
    "    state_len = np.shape(state)[1]  # get length of vector once\n",
    "\n",
    "    # do until minimal landmark-\"hit\"-count is reached (--> landmarks_left < 0)\n",
    "    landmarks_left = HELPER_VAR['min_lm']\n",
    "    while landmarks_left >= 0:\n",
    "        # erg_random_walk = -1\n",
    "        step = 1\n",
    "        while True:\n",
    "            if len(cache) <= step:\n",
    "                cache.append(cache[step - 1] * T)\n",
    "            erg_random_walk = np.random.choice(state_len, p=cache[step].toarray()[0])\n",
    "            if erg_random_walk in lm:\n",
    "                reached_lm[lm.index(erg_random_walk)] += 1\n",
    "                landmarks_left -= 1\n",
    "                break\n",
    "            step += 1\n",
    "    erg = reached_lm / np.sum(reached_lm.data)\n",
    "    return csr_matrix(erg)\n",
    "\n",
    "def _helper_method_T_next_mul_W(i):\n",
    "    # load globals\n",
    "    W = HELPER_VAR['W']\n",
    "    num_lm_s_prev = HELPER_VAR['num_lm_s_prev']\n",
    "    return csr_matrix(np.reshape(i.toarray().reshape((num_lm_s_prev,)) * W, (num_lm_s_prev, 1)))\n",
    "\n",
    "def _helper_method_T_next_row_div(r):\n",
    "    return r[1] / np.sum(r[1])\n",
    "\n",
    "def _helper_method_get_landmarks(state):\n",
    "    for i in range(HELPER_VAR['teta']):\n",
    "        state *= HELPER_VAR['T']\n",
    "    destinations = np.random.choice(range(HELPER_VAR['n_events']), HELPER_VAR['beta'], p=state.toarray()[0])\n",
    "    hits = np.zeros((HELPER_VAR['n_events']))\n",
    "    for d in destinations:\n",
    "        hits[d] += 1\n",
    "    return [(h[0], h[1]) for h in enumerate(hits) if h[1] > 0]"
   ]
  },
  {
   "cell_type": "markdown",
   "id": "3a2653e7-6ba5-4ab4-816a-0d54ed4d6c23",
   "metadata": {
    "tags": []
   },
   "source": [
    "## 1.1 Root Scale"
   ]
  },
  {
   "cell_type": "code",
   "execution_count": 15,
   "id": "c22acb98-e734-47ef-accd-888a8e61d93d",
   "metadata": {},
   "outputs": [],
   "source": [
    "dim = distances_nn.shape[0]\n",
    "settings = parameters"
   ]
  },
  {
   "cell_type": "code",
   "execution_count": 16,
   "id": "dc15d078-307c-42f8-859a-3b7568b9278b",
   "metadata": {},
   "outputs": [],
   "source": [
    "# Create first scale\n",
    "s_root = _Scale(X=adata.X[:,imp_channel_ind], W=1)"
   ]
  },
  {
   "cell_type": "code",
   "execution_count": 17,
   "id": "0e9350cb-2b63-4679-a585-68f2dd7193c7",
   "metadata": {},
   "outputs": [
    {
     "name": "stdout",
     "output_type": "stream",
     "text": [
      "CPU times: total: 2.64 s\n",
      "Wall time: 2.66 s\n"
     ]
    }
   ],
   "source": [
    "%%time\n",
    "probs = map(_helper_method_calc_T, [dist.data for dist in distances_nn])\n",
    "data = []\n",
    "for pr in probs:\n",
    "    data.extend(pr)\n",
    "T = csr_matrix((data, distances_nn.indices, distances_nn.indptr), shape=(dim,dim))\n",
    "s_root.T = T"
   ]
  },
  {
   "cell_type": "code",
   "execution_count": 18,
   "id": "29f23ac9-559f-4c0e-a7d8-637eafe4fdac",
   "metadata": {},
   "outputs": [
    {
     "name": "stdout",
     "output_type": "stream",
     "text": [
      "CPU times: total: 31.2 ms\n",
      "Wall time: 20 ms\n"
     ]
    }
   ],
   "source": [
    "%%time\n",
    "P = T + T.transpose() - T.multiply(T.transpose())\n",
    "s_root.P = P"
   ]
  },
  {
   "cell_type": "code",
   "execution_count": 19,
   "id": "757678c4-347f-41f4-ab08-f6abb6db4dbf",
   "metadata": {},
   "outputs": [],
   "source": [
    "tmpdata = sc.AnnData(s_root.X)\n",
    "tmpdata.obsp['connectivities'] = s_root.P\n",
    "tmpdata.obsm['X_pca'] = s_root.X\n",
    "tmpdata.uns['neighbors'] = {\n",
    "    'params':{'method':'umap'},\n",
    "    'connectivities_key':'connectivities'\n",
    "}"
   ]
  },
  {
   "cell_type": "code",
   "execution_count": 20,
   "id": "586cb6a5-57a1-4d5b-9df5-2d4dd168c636",
   "metadata": {},
   "outputs": [
    {
     "name": "stdout",
     "output_type": "stream",
     "text": [
      "CPU times: total: 16.9 s\n",
      "Wall time: 16.7 s\n"
     ]
    }
   ],
   "source": [
    "%%time\n",
    "umap(\n",
    "    tmpdata,\n",
    "    min_dist=min_dist,\n",
    "    spread=spread,\n",
    "    n_components=n_components,\n",
    "    maxiter=maxiter,\n",
    "    alpha=alpha,\n",
    "    gamma=gamma,\n",
    "    negative_sample_rate=negative_sample_rate,\n",
    "    init_pos=init_pos,\n",
    "    random_state=random_state,\n",
    "    a=a,\n",
    "    b=b,\n",
    "    copy=False,\n",
    "    method=method,\n",
    "    neighbors_key=neighbors_key)\n",
    "X_humap = tmpdata.obsm['X_umap'].copy()\n",
    "s_root.X_humap = X_humap"
   ]
  },
  {
   "cell_type": "code",
   "execution_count": 21,
   "id": "ac2f997b-0393-4d61-876b-e30c740ef168",
   "metadata": {},
   "outputs": [],
   "source": [
    "n_events = T.shape[0]\n",
    "proposals = np.zeros(n_events)  # counts how many times point has been reached\n",
    "landmarks = list()  # list of landmarks\n",
    "HELPER_VAR = {'T': T,\n",
    "              'teta': settings['teta'],\n",
    "              'beta': settings['beta'],\n",
    "              'beta_thresh': settings['beta_thresh'],\n",
    "              'n_events': n_events}"
   ]
  },
  {
   "cell_type": "code",
   "execution_count": 22,
   "id": "17e621e4-8303-401d-8412-4a5041b8c729",
   "metadata": {},
   "outputs": [
    {
     "name": "stdout",
     "output_type": "stream",
     "text": [
      "CPU times: total: 500 ms\n",
      "Wall time: 496 ms\n"
     ]
    }
   ],
   "source": [
    "%%time\n",
    "init_states = csr_matrix((np.ones(n_events), (range(n_events), range(n_events))))\n",
    "hit_list = map(_helper_method_get_landmarks, [state for state in init_states])"
   ]
  },
  {
   "cell_type": "markdown",
   "id": "fb9ff672-9596-47b9-bb73-715e3c22a26e",
   "metadata": {},
   "source": [
    "Below cell is a bottleneck. It use non-parallel nested for loops"
   ]
  },
  {
   "cell_type": "markdown",
   "id": "ff27c732-25b6-47ba-8228-37f19764f0b0",
   "metadata": {},
   "source": [
    "### Parallelize the bottleneck part"
   ]
  },
  {
   "cell_type": "code",
   "execution_count": 28,
   "id": "b63ea37d-2669-42f3-b127-4c652a63c195",
   "metadata": {},
   "outputs": [],
   "source": [
    "def temp_func(state_hits, proposals):\n",
    "    for h in state_hits:\n",
    "        proposals[h[0]] += h[1]"
   ]
  },
  {
   "cell_type": "code",
   "execution_count": 30,
   "id": "0966305a-b6df-42cb-9a80-4882f349cf6d",
   "metadata": {
    "collapsed": true,
    "jupyter": {
     "outputs_hidden": true
    },
    "tags": []
   },
   "outputs": [
    {
     "name": "stdout",
     "output_type": "stream",
     "text": [
      "CPU times: total: 4min 30s\n",
      "Wall time: 4min 37s\n"
     ]
    },
    {
     "data": {
      "text/plain": [
       "[None,\n",
       " None,\n",
       " None,\n",
       " None,\n",
       " None,\n",
       " None,\n",
       " None,\n",
       " None,\n",
       " None,\n",
       " None,\n",
       " None,\n",
       " None,\n",
       " None,\n",
       " None,\n",
       " None,\n",
       " None,\n",
       " None,\n",
       " None,\n",
       " None,\n",
       " None,\n",
       " None,\n",
       " None,\n",
       " None,\n",
       " None,\n",
       " None,\n",
       " None,\n",
       " None,\n",
       " None,\n",
       " None,\n",
       " None,\n",
       " None,\n",
       " None,\n",
       " None,\n",
       " None,\n",
       " None,\n",
       " None,\n",
       " None,\n",
       " None,\n",
       " None,\n",
       " None,\n",
       " None,\n",
       " None,\n",
       " None,\n",
       " None,\n",
       " None,\n",
       " None,\n",
       " None,\n",
       " None,\n",
       " None,\n",
       " None,\n",
       " None,\n",
       " None,\n",
       " None,\n",
       " None,\n",
       " None,\n",
       " None,\n",
       " None,\n",
       " None,\n",
       " None,\n",
       " None,\n",
       " None,\n",
       " None,\n",
       " None,\n",
       " None,\n",
       " None,\n",
       " None,\n",
       " None,\n",
       " None,\n",
       " None,\n",
       " None,\n",
       " None,\n",
       " None,\n",
       " None,\n",
       " None,\n",
       " None,\n",
       " None,\n",
       " None,\n",
       " None,\n",
       " None,\n",
       " None,\n",
       " None,\n",
       " None,\n",
       " None,\n",
       " None,\n",
       " None,\n",
       " None,\n",
       " None,\n",
       " None,\n",
       " None,\n",
       " None,\n",
       " None,\n",
       " None,\n",
       " None,\n",
       " None,\n",
       " None,\n",
       " None,\n",
       " None,\n",
       " None,\n",
       " None,\n",
       " None,\n",
       " None,\n",
       " None,\n",
       " None,\n",
       " None,\n",
       " None,\n",
       " None,\n",
       " None,\n",
       " None,\n",
       " None,\n",
       " None,\n",
       " None,\n",
       " None,\n",
       " None,\n",
       " None,\n",
       " None,\n",
       " None,\n",
       " None,\n",
       " None,\n",
       " None,\n",
       " None,\n",
       " None,\n",
       " None,\n",
       " None,\n",
       " None,\n",
       " None,\n",
       " None,\n",
       " None,\n",
       " None,\n",
       " None,\n",
       " None,\n",
       " None,\n",
       " None,\n",
       " None,\n",
       " None,\n",
       " None,\n",
       " None,\n",
       " None,\n",
       " None,\n",
       " None,\n",
       " None,\n",
       " None,\n",
       " None,\n",
       " None,\n",
       " None,\n",
       " None,\n",
       " None,\n",
       " None,\n",
       " None,\n",
       " None,\n",
       " None,\n",
       " None,\n",
       " None,\n",
       " None,\n",
       " None,\n",
       " None,\n",
       " None,\n",
       " None,\n",
       " None,\n",
       " None,\n",
       " None,\n",
       " None,\n",
       " None,\n",
       " None,\n",
       " None,\n",
       " None,\n",
       " None,\n",
       " None,\n",
       " None,\n",
       " None,\n",
       " None,\n",
       " None,\n",
       " None,\n",
       " None,\n",
       " None,\n",
       " None,\n",
       " None,\n",
       " None,\n",
       " None,\n",
       " None,\n",
       " None,\n",
       " None,\n",
       " None,\n",
       " None,\n",
       " None,\n",
       " None,\n",
       " None,\n",
       " None,\n",
       " None,\n",
       " None,\n",
       " None,\n",
       " None,\n",
       " None,\n",
       " None,\n",
       " None,\n",
       " None,\n",
       " None,\n",
       " None,\n",
       " None,\n",
       " None,\n",
       " None,\n",
       " None,\n",
       " None,\n",
       " None,\n",
       " None,\n",
       " None,\n",
       " None,\n",
       " None,\n",
       " None,\n",
       " None,\n",
       " None,\n",
       " None,\n",
       " None,\n",
       " None,\n",
       " None,\n",
       " None,\n",
       " None,\n",
       " None,\n",
       " None,\n",
       " None,\n",
       " None,\n",
       " None,\n",
       " None,\n",
       " None,\n",
       " None,\n",
       " None,\n",
       " None,\n",
       " None,\n",
       " None,\n",
       " None,\n",
       " None,\n",
       " None,\n",
       " None,\n",
       " None,\n",
       " None,\n",
       " None,\n",
       " None,\n",
       " None,\n",
       " None,\n",
       " None,\n",
       " None,\n",
       " None,\n",
       " None,\n",
       " None,\n",
       " None,\n",
       " None,\n",
       " None,\n",
       " None,\n",
       " None,\n",
       " None,\n",
       " None,\n",
       " None,\n",
       " None,\n",
       " None,\n",
       " None,\n",
       " None,\n",
       " None,\n",
       " None,\n",
       " None,\n",
       " None,\n",
       " None,\n",
       " None,\n",
       " None,\n",
       " None,\n",
       " None,\n",
       " None,\n",
       " None,\n",
       " None,\n",
       " None,\n",
       " None,\n",
       " None,\n",
       " None,\n",
       " None,\n",
       " None,\n",
       " None,\n",
       " None,\n",
       " None,\n",
       " None,\n",
       " None,\n",
       " None,\n",
       " None,\n",
       " None,\n",
       " None,\n",
       " None,\n",
       " None,\n",
       " None,\n",
       " None,\n",
       " None,\n",
       " None,\n",
       " None,\n",
       " None,\n",
       " None,\n",
       " None,\n",
       " None,\n",
       " None,\n",
       " None,\n",
       " None,\n",
       " None,\n",
       " None,\n",
       " None,\n",
       " None,\n",
       " None,\n",
       " None,\n",
       " None,\n",
       " None,\n",
       " None,\n",
       " None,\n",
       " None,\n",
       " None,\n",
       " None,\n",
       " None,\n",
       " None,\n",
       " None,\n",
       " None,\n",
       " None,\n",
       " None,\n",
       " None,\n",
       " None,\n",
       " None,\n",
       " None,\n",
       " None,\n",
       " None,\n",
       " None,\n",
       " None,\n",
       " None,\n",
       " None,\n",
       " None,\n",
       " None,\n",
       " None,\n",
       " None,\n",
       " None,\n",
       " None,\n",
       " None,\n",
       " None,\n",
       " None,\n",
       " None,\n",
       " None,\n",
       " None,\n",
       " None,\n",
       " None,\n",
       " None,\n",
       " None,\n",
       " None,\n",
       " None,\n",
       " None,\n",
       " None,\n",
       " None,\n",
       " None,\n",
       " None,\n",
       " None,\n",
       " None,\n",
       " None,\n",
       " None,\n",
       " None,\n",
       " None,\n",
       " None,\n",
       " None,\n",
       " None,\n",
       " None,\n",
       " None,\n",
       " None,\n",
       " None,\n",
       " None,\n",
       " None,\n",
       " None,\n",
       " None,\n",
       " None,\n",
       " None,\n",
       " None,\n",
       " None,\n",
       " None,\n",
       " None,\n",
       " None,\n",
       " None,\n",
       " None,\n",
       " None,\n",
       " None,\n",
       " None,\n",
       " None,\n",
       " None,\n",
       " None,\n",
       " None,\n",
       " None,\n",
       " None,\n",
       " None,\n",
       " None,\n",
       " None,\n",
       " None,\n",
       " None,\n",
       " None,\n",
       " None,\n",
       " None,\n",
       " None,\n",
       " None,\n",
       " None,\n",
       " None,\n",
       " None,\n",
       " None,\n",
       " None,\n",
       " None,\n",
       " None,\n",
       " None,\n",
       " None,\n",
       " None,\n",
       " None,\n",
       " None,\n",
       " None,\n",
       " None,\n",
       " None,\n",
       " None,\n",
       " None,\n",
       " None,\n",
       " None,\n",
       " None,\n",
       " None,\n",
       " None,\n",
       " None,\n",
       " None,\n",
       " None,\n",
       " None,\n",
       " None,\n",
       " None,\n",
       " None,\n",
       " None,\n",
       " None,\n",
       " None,\n",
       " None,\n",
       " None,\n",
       " None,\n",
       " None,\n",
       " None,\n",
       " None,\n",
       " None,\n",
       " None,\n",
       " None,\n",
       " None,\n",
       " None,\n",
       " None,\n",
       " None,\n",
       " None,\n",
       " None,\n",
       " None,\n",
       " None,\n",
       " None,\n",
       " None,\n",
       " None,\n",
       " None,\n",
       " None,\n",
       " None,\n",
       " None,\n",
       " None,\n",
       " None,\n",
       " None,\n",
       " None,\n",
       " None,\n",
       " None,\n",
       " None,\n",
       " None,\n",
       " None,\n",
       " None,\n",
       " None,\n",
       " None,\n",
       " None,\n",
       " None,\n",
       " None,\n",
       " None,\n",
       " None,\n",
       " None,\n",
       " None,\n",
       " None,\n",
       " None,\n",
       " None,\n",
       " None,\n",
       " None,\n",
       " None,\n",
       " None,\n",
       " None,\n",
       " None,\n",
       " None,\n",
       " None,\n",
       " None,\n",
       " None,\n",
       " None,\n",
       " None,\n",
       " None,\n",
       " None,\n",
       " None,\n",
       " None,\n",
       " None,\n",
       " None,\n",
       " None,\n",
       " None,\n",
       " None,\n",
       " None,\n",
       " None,\n",
       " None,\n",
       " None,\n",
       " None,\n",
       " None,\n",
       " None,\n",
       " None,\n",
       " None,\n",
       " None,\n",
       " None,\n",
       " None,\n",
       " None,\n",
       " None,\n",
       " None,\n",
       " None,\n",
       " None,\n",
       " None,\n",
       " None,\n",
       " None,\n",
       " None,\n",
       " None,\n",
       " None,\n",
       " None,\n",
       " None,\n",
       " None,\n",
       " None,\n",
       " None,\n",
       " None,\n",
       " None,\n",
       " None,\n",
       " None,\n",
       " None,\n",
       " None,\n",
       " None,\n",
       " None,\n",
       " None,\n",
       " None,\n",
       " None,\n",
       " None,\n",
       " None,\n",
       " None,\n",
       " None,\n",
       " None,\n",
       " None,\n",
       " None,\n",
       " None,\n",
       " None,\n",
       " None,\n",
       " None,\n",
       " None,\n",
       " None,\n",
       " None,\n",
       " None,\n",
       " None,\n",
       " None,\n",
       " None,\n",
       " None,\n",
       " None,\n",
       " None,\n",
       " None,\n",
       " None,\n",
       " None,\n",
       " None,\n",
       " None,\n",
       " None,\n",
       " None,\n",
       " None,\n",
       " None,\n",
       " None,\n",
       " None,\n",
       " None,\n",
       " None,\n",
       " None,\n",
       " None,\n",
       " None,\n",
       " None,\n",
       " None,\n",
       " None,\n",
       " None,\n",
       " None,\n",
       " None,\n",
       " None,\n",
       " None,\n",
       " None,\n",
       " None,\n",
       " None,\n",
       " None,\n",
       " None,\n",
       " None,\n",
       " None,\n",
       " None,\n",
       " None,\n",
       " None,\n",
       " None,\n",
       " None,\n",
       " None,\n",
       " None,\n",
       " None,\n",
       " None,\n",
       " None,\n",
       " None,\n",
       " None,\n",
       " None,\n",
       " None,\n",
       " None,\n",
       " None,\n",
       " None,\n",
       " None,\n",
       " None,\n",
       " None,\n",
       " None,\n",
       " None,\n",
       " None,\n",
       " None,\n",
       " None,\n",
       " None,\n",
       " None,\n",
       " None,\n",
       " None,\n",
       " None,\n",
       " None,\n",
       " None,\n",
       " None,\n",
       " None,\n",
       " None,\n",
       " None,\n",
       " None,\n",
       " None,\n",
       " None,\n",
       " None,\n",
       " None,\n",
       " None,\n",
       " None,\n",
       " None,\n",
       " None,\n",
       " None,\n",
       " None,\n",
       " None,\n",
       " None,\n",
       " None,\n",
       " None,\n",
       " None,\n",
       " None,\n",
       " None,\n",
       " None,\n",
       " None,\n",
       " None,\n",
       " None,\n",
       " None,\n",
       " None,\n",
       " None,\n",
       " None,\n",
       " None,\n",
       " None,\n",
       " None,\n",
       " None,\n",
       " None,\n",
       " None,\n",
       " None,\n",
       " None,\n",
       " None,\n",
       " None,\n",
       " None,\n",
       " None,\n",
       " None,\n",
       " None,\n",
       " None,\n",
       " None,\n",
       " None,\n",
       " None,\n",
       " None,\n",
       " None,\n",
       " None,\n",
       " None,\n",
       " None,\n",
       " None,\n",
       " None,\n",
       " None,\n",
       " None,\n",
       " None,\n",
       " None,\n",
       " None,\n",
       " None,\n",
       " None,\n",
       " None,\n",
       " None,\n",
       " None,\n",
       " None,\n",
       " None,\n",
       " None,\n",
       " None,\n",
       " None,\n",
       " None,\n",
       " None,\n",
       " None,\n",
       " None,\n",
       " None,\n",
       " None,\n",
       " None,\n",
       " None,\n",
       " None,\n",
       " None,\n",
       " None,\n",
       " None,\n",
       " None,\n",
       " None,\n",
       " None,\n",
       " None,\n",
       " None,\n",
       " None,\n",
       " None,\n",
       " None,\n",
       " None,\n",
       " None,\n",
       " None,\n",
       " None,\n",
       " None,\n",
       " None,\n",
       " None,\n",
       " None,\n",
       " None,\n",
       " None,\n",
       " None,\n",
       " None,\n",
       " None,\n",
       " None,\n",
       " None,\n",
       " None,\n",
       " None,\n",
       " None,\n",
       " None,\n",
       " None,\n",
       " None,\n",
       " None,\n",
       " None,\n",
       " None,\n",
       " None,\n",
       " None,\n",
       " None,\n",
       " None,\n",
       " None,\n",
       " None,\n",
       " None,\n",
       " None,\n",
       " None,\n",
       " None,\n",
       " None,\n",
       " None,\n",
       " None,\n",
       " None,\n",
       " None,\n",
       " None,\n",
       " None,\n",
       " None,\n",
       " None,\n",
       " None,\n",
       " None,\n",
       " None,\n",
       " None,\n",
       " None,\n",
       " None,\n",
       " None,\n",
       " None,\n",
       " None,\n",
       " None,\n",
       " None,\n",
       " None,\n",
       " None,\n",
       " None,\n",
       " None,\n",
       " None,\n",
       " None,\n",
       " None,\n",
       " None,\n",
       " None,\n",
       " None,\n",
       " None,\n",
       " None,\n",
       " None,\n",
       " None,\n",
       " None,\n",
       " None,\n",
       " None,\n",
       " None,\n",
       " None,\n",
       " None,\n",
       " None,\n",
       " None,\n",
       " None,\n",
       " None,\n",
       " None,\n",
       " None,\n",
       " None,\n",
       " None,\n",
       " None,\n",
       " None,\n",
       " None,\n",
       " None,\n",
       " None,\n",
       " None,\n",
       " None,\n",
       " None,\n",
       " None,\n",
       " None,\n",
       " None,\n",
       " None,\n",
       " None,\n",
       " None,\n",
       " None,\n",
       " None,\n",
       " None,\n",
       " None,\n",
       " None,\n",
       " None,\n",
       " None,\n",
       " None,\n",
       " None,\n",
       " None,\n",
       " None,\n",
       " None,\n",
       " None,\n",
       " None,\n",
       " None,\n",
       " None,\n",
       " None,\n",
       " None,\n",
       " None,\n",
       " None,\n",
       " None,\n",
       " None,\n",
       " None,\n",
       " None,\n",
       " None,\n",
       " None,\n",
       " None,\n",
       " None,\n",
       " None,\n",
       " None,\n",
       " None,\n",
       " None,\n",
       " None,\n",
       " None,\n",
       " None,\n",
       " None,\n",
       " None,\n",
       " None,\n",
       " None,\n",
       " None,\n",
       " None,\n",
       " None,\n",
       " None,\n",
       " None,\n",
       " None,\n",
       " None,\n",
       " None,\n",
       " None,\n",
       " None,\n",
       " None,\n",
       " None,\n",
       " None,\n",
       " None,\n",
       " None,\n",
       " None,\n",
       " None,\n",
       " None,\n",
       " None,\n",
       " None,\n",
       " None,\n",
       " None,\n",
       " None,\n",
       " None,\n",
       " None,\n",
       " None,\n",
       " None,\n",
       " None,\n",
       " None,\n",
       " None,\n",
       " None,\n",
       " None,\n",
       " None,\n",
       " None,\n",
       " None,\n",
       " None,\n",
       " None,\n",
       " None,\n",
       " None,\n",
       " None,\n",
       " None,\n",
       " None,\n",
       " None,\n",
       " None,\n",
       " None,\n",
       " None,\n",
       " None,\n",
       " None,\n",
       " None,\n",
       " None,\n",
       " None,\n",
       " None,\n",
       " None,\n",
       " None,\n",
       " None,\n",
       " None,\n",
       " None,\n",
       " None,\n",
       " None,\n",
       " None,\n",
       " None,\n",
       " None,\n",
       " None,\n",
       " None,\n",
       " None,\n",
       " None,\n",
       " None,\n",
       " None,\n",
       " None,\n",
       " None,\n",
       " None,\n",
       " None,\n",
       " None,\n",
       " None,\n",
       " None,\n",
       " None,\n",
       " None,\n",
       " None,\n",
       " None,\n",
       " None,\n",
       " None,\n",
       " None,\n",
       " None,\n",
       " None,\n",
       " None,\n",
       " None,\n",
       " None,\n",
       " None,\n",
       " None,\n",
       " None,\n",
       " None,\n",
       " None,\n",
       " None,\n",
       " None,\n",
       " None,\n",
       " None,\n",
       " None,\n",
       " None,\n",
       " None,\n",
       " None,\n",
       " None,\n",
       " None,\n",
       " None,\n",
       " None,\n",
       " None,\n",
       " None,\n",
       " None,\n",
       " None,\n",
       " None,\n",
       " None,\n",
       " None,\n",
       " None,\n",
       " None,\n",
       " None,\n",
       " None,\n",
       " None,\n",
       " None,\n",
       " None,\n",
       " None,\n",
       " None,\n",
       " None,\n",
       " None,\n",
       " None,\n",
       " None,\n",
       " None,\n",
       " None,\n",
       " None,\n",
       " None,\n",
       " None,\n",
       " None,\n",
       " None,\n",
       " None,\n",
       " None,\n",
       " None,\n",
       " None,\n",
       " None,\n",
       " None,\n",
       " None,\n",
       " None,\n",
       " None,\n",
       " None,\n",
       " None,\n",
       " None,\n",
       " None,\n",
       " None,\n",
       " None,\n",
       " None,\n",
       " None,\n",
       " None,\n",
       " None,\n",
       " None,\n",
       " None,\n",
       " None,\n",
       " None,\n",
       " None,\n",
       " None,\n",
       " None,\n",
       " None,\n",
       " None,\n",
       " None,\n",
       " ...]"
      ]
     },
     "execution_count": 30,
     "metadata": {},
     "output_type": "execute_result"
    }
   ],
   "source": [
    "%%time\n",
    "_ = Parallel(n_jobs=8)(delayed(temp_func)(state_hits, proposals) for state_hits in hit_list)"
   ]
  },
  {
   "cell_type": "markdown",
   "id": "5915105e-7ec7-4990-a826-e3e51df68b36",
   "metadata": {},
   "source": [
    "TODO:\n",
    "what if compile parallelized??\n",
    "Or compile firt parallelize then?"
   ]
  },
  {
   "cell_type": "markdown",
   "id": "010e8b00-bcaa-44bc-a64d-06ebbd422ee3",
   "metadata": {},
   "source": [
    "### Original result evalution which is bottleneck"
   ]
  },
  {
   "cell_type": "code",
   "execution_count": 23,
   "id": "734dc28a-c2ff-431e-99af-4609d0f883bb",
   "metadata": {},
   "outputs": [
    {
     "name": "stdout",
     "output_type": "stream",
     "text": [
      "CPU times: total: 7min 39s\n",
      "Wall time: 7min 41s\n"
     ]
    }
   ],
   "source": [
    "%%time\n",
    "# evaluate results\n",
    "for state_hits in hit_list:\n",
    "    for h in state_hits:\n",
    "        proposals[h[0]] += h[1]"
   ]
  },
  {
   "cell_type": "markdown",
   "id": "52222f67-84f4-4b41-ae53-754611da8180",
   "metadata": {},
   "source": [
    "landmark collection"
   ]
  },
  {
   "cell_type": "code",
   "execution_count": 24,
   "id": "aa26b1e8-e918-439c-b095-68d2cd5c8bfc",
   "metadata": {},
   "outputs": [
    {
     "name": "stdout",
     "output_type": "stream",
     "text": [
      "CPU times: total: 0 ns\n",
      "Wall time: 2 ms\n"
     ]
    }
   ],
   "source": [
    "%%time\n",
    "min_beta = settings['beta'] * settings['beta_thresh']\n",
    "for prop in enumerate(proposals):\n",
    "    # if event has been hit min_beta times, it counts as landmark\n",
    "    if prop[1] > min_beta:\n",
    "        landmarks.append(prop[0])\n",
    "\n",
    "s_root.lm_ind = landmarks"
   ]
  },
  {
   "cell_type": "code",
   "execution_count": 25,
   "id": "683e9c80-0abe-49e5-a34d-0058fa0b5ba4",
   "metadata": {},
   "outputs": [],
   "source": [
    "scale_list.append(s_root)"
   ]
  },
  {
   "cell_type": "markdown",
   "id": "0ffdb0d0-75f6-45d7-91ff-4f8d48b43d22",
   "metadata": {
    "tags": []
   },
   "source": [
    "## 1.2 Remaining Scales"
   ]
  },
  {
   "cell_type": "code",
   "execution_count": 26,
   "id": "636be5b0-7009-4801-b7c1-e8c3b94a898f",
   "metadata": {},
   "outputs": [],
   "source": [
    "s_prev = scale_list[0]"
   ]
  },
  {
   "cell_type": "code",
   "execution_count": 27,
   "id": "5adbf54b-b58b-49e6-9144-1edc68a3d157",
   "metadata": {},
   "outputs": [],
   "source": [
    "s_curr = _Scale(X=s_prev.X[s_prev.lm_ind, :], parent_scale=s_prev)"
   ]
  },
  {
   "cell_type": "code",
   "execution_count": 28,
   "id": "877e0745-f5c3-48c1-969e-afad897a8c91",
   "metadata": {},
   "outputs": [
    {
     "name": "stdout",
     "output_type": "stream",
     "text": [
      "CPU times: total: 16min 20s\n",
      "Wall time: 16min 23s\n"
     ]
    }
   ],
   "source": [
    "%%time\n",
    "scale = s_prev\n",
    "min_lm = 100\n",
    "\n",
    "n_events = scale.T.shape[0]\n",
    "# create state matrix containing all initial states\n",
    "init_states = csr_matrix((np.ones(n_events), (range(n_events), range(n_events))))\n",
    "\n",
    "HELPER_VAR = {'lm': scale.lm_ind, 'min_lm': min_lm, 'T': scale.T}\n",
    "I = map(_helper_method_AoI, [s for s in init_states])\n",
    "I = vstack(I)\n",
    "s_curr.I = I"
   ]
  },
  {
   "cell_type": "code",
   "execution_count": 29,
   "id": "280460a3-128a-43f3-8001-3d7ac21d6965",
   "metadata": {},
   "outputs": [
    {
     "name": "stdout",
     "output_type": "stream",
     "text": [
      "CPU times: total: 0 ns\n",
      "Wall time: 2 ms\n"
     ]
    }
   ],
   "source": [
    "%%time\n",
    "I = s_curr.I\n",
    "W_old = s_prev.W\n",
    "if type(W_old) is int: #W_old is None or W_old is 1:\n",
    "    W_old = np.ones((I.shape[0],))\n",
    "W_s = np.array(W_old * I).reshape((I.shape[1]))\n",
    "s_curr.W = W_s"
   ]
  },
  {
   "cell_type": "code",
   "execution_count": 30,
   "id": "089d2049-8ba6-46ad-8ddc-6689e0a36c82",
   "metadata": {},
   "outputs": [
    {
     "name": "stdout",
     "output_type": "stream",
     "text": [
      "CPU times: total: 2 s\n",
      "Wall time: 2.01 s\n"
     ]
    }
   ],
   "source": [
    "%%time\n",
    "I = s_curr.I\n",
    "W = s_prev.W\n",
    "\n",
    "num_lm_s_prev, num_lm_s = (I.shape[0],I.shape[1])  # dimensionst of I\n",
    "# num_lm_s_old > num_lm_s\n",
    "I_t = I.transpose()  # transposed Influence matrix\n",
    "\n",
    "HELPER_VAR = {'W': W, 'num_lm_s_prev': num_lm_s_prev}\n",
    "\n",
    "I_with_W = map(_helper_method_T_next_mul_W, [it for it in I_t])\n",
    "I_with_W = hstack(list(I_with_W))\n",
    "I = I_with_W.T * I\n",
    "T_next = map(_helper_method_T_next_row_div, enumerate(I))\n",
    "\n",
    "T_next = vstack(T_next)\n",
    "T_next = T_next.tocsr()\n",
    "s_curr.T = T_next"
   ]
  },
  {
   "cell_type": "code",
   "execution_count": 31,
   "id": "b384f3c6-e5f8-4466-9381-335ee7de02eb",
   "metadata": {},
   "outputs": [
    {
     "name": "stdout",
     "output_type": "stream",
     "text": [
      "CPU times: total: 4min 38s\n",
      "Wall time: 4min 39s\n"
     ]
    }
   ],
   "source": [
    "%%time\n",
    "T = s_curr.T\n",
    "settings = parameters\n",
    "n_events = T.shape[0]\n",
    "proposals = np.zeros(n_events)  # counts how many times point has been reached\n",
    "landmarks = list()  # list of landmarks\n",
    "\n",
    "HELPER_VAR = {'T': T, 'teta': settings['teta'], 'beta': settings['beta'], \n",
    "              'beta_thresh': settings['beta_thresh'], 'n_events': n_events}\n",
    "init_states = csr_matrix((np.ones(n_events), (range(n_events), range(n_events))))\n",
    "hit_list = map(_helper_method_get_landmarks, [state for state in init_states])\n",
    "# evaluate results\n",
    "for state_hits in hit_list:  # for every states hit_list\n",
    "    for h in state_hits:  # for every hit in some states hit_list\n",
    "        proposals[h[0]] += h[1]\n",
    "# collect landmarks\n",
    "min_beta = settings['beta'] * settings['beta_thresh']\n",
    "for prop in enumerate(proposals):\n",
    "    # if event has been hit min_beta times, it counts as landmark\n",
    "    if prop[1] > min_beta:\n",
    "        landmarks.append(prop[0])\n",
    "s_curr.lm_ind = landmarks"
   ]
  },
  {
   "cell_type": "markdown",
   "id": "bb95f97e-7eae-4e09-987e-ec0b83e55578",
   "metadata": {},
   "source": [
    "t-SNE Symmetrization"
   ]
  },
  {
   "cell_type": "code",
   "execution_count": 32,
   "id": "82b4e0ce-e2b6-4aa5-9feb-00958a549277",
   "metadata": {},
   "outputs": [
    {
     "name": "stdout",
     "output_type": "stream",
     "text": [
      "CPU times: total: 46.9 ms\n",
      "Wall time: 44 ms\n"
     ]
    }
   ],
   "source": [
    "%%time\n",
    "T = s_curr.T\n",
    "P = (T + T.transpose()) / (2 * T.shape[0])\n",
    "s_curr.P = P"
   ]
  },
  {
   "cell_type": "markdown",
   "id": "509df606-6dbc-428c-ab2c-1548667d1d0b",
   "metadata": {},
   "source": [
    "Umap Symmetrization"
   ]
  },
  {
   "cell_type": "code",
   "execution_count": 33,
   "id": "78c5779d-14c6-4c0c-9757-aea0d21e9011",
   "metadata": {},
   "outputs": [
    {
     "name": "stdout",
     "output_type": "stream",
     "text": [
      "CPU times: total: 78.1 ms\n",
      "Wall time: 83 ms\n"
     ]
    }
   ],
   "source": [
    "%%time\n",
    "T = s_curr.T\n",
    "P = T + T.transpose() - T.multiply(T.transpose())\n",
    "s_curr.P = P"
   ]
  },
  {
   "cell_type": "code",
   "execution_count": 34,
   "id": "dfe569d0-4116-488f-9b91-b90f59ac872a",
   "metadata": {},
   "outputs": [],
   "source": [
    "tmpdata = sc.AnnData(X=s_curr.X)\n",
    "tmpdata.obsp['connectivities'] = s_curr.P\n",
    "tmpdata.obsm['X_pca'] = s_curr.X\n",
    "tmpdata.uns['neighbors'] = {'params':{'method':'umap'}}\n",
    "tmpdata.uns['neighbors']['connectivities_key'] = 'connectivities'"
   ]
  },
  {
   "cell_type": "code",
   "execution_count": 35,
   "id": "80b37165-84b1-4caf-ba58-9a4eadb106e0",
   "metadata": {},
   "outputs": [
    {
     "name": "stdout",
     "output_type": "stream",
     "text": [
      "CPU times: total: 3.72 s\n",
      "Wall time: 3.78 s\n"
     ]
    }
   ],
   "source": [
    "%%time\n",
    "umap(\n",
    "     tmpdata,\n",
    "     min_dist=min_dist,\n",
    "     spread=spread,\n",
    "     n_components=n_components,\n",
    "     maxiter=maxiter,\n",
    "     alpha=alpha,\n",
    "     gamma=gamma,\n",
    "     negative_sample_rate=negative_sample_rate,\n",
    "     init_pos=init_pos,\n",
    "     random_state=random_state,\n",
    "     a=a,\n",
    "     b=b,\n",
    "     copy=False,\n",
    "     method=method,\n",
    "     neighbors_key=neighbors_key)\n",
    "X_humap = tmpdata.obsm['X_umap']\n",
    "s_curr.X_humap = X_humap"
   ]
  },
  {
   "cell_type": "code",
   "execution_count": 36,
   "id": "47b3107b-31ba-4147-8430-7b11e12d4d9f",
   "metadata": {},
   "outputs": [],
   "source": [
    "scale_list.append(s_curr)"
   ]
  },
  {
   "cell_type": "markdown",
   "id": "d7c6d59a-592e-471e-9d7a-78a918617250",
   "metadata": {},
   "source": [
    "## 1.3 Third Iteration (Level 3)"
   ]
  },
  {
   "cell_type": "code",
   "execution_count": 37,
   "id": "5d558267-847b-43a9-92bd-4afe201aeead",
   "metadata": {},
   "outputs": [
    {
     "data": {
      "text/plain": [
       "2"
      ]
     },
     "execution_count": 37,
     "metadata": {},
     "output_type": "execute_result"
    }
   ],
   "source": [
    "len(scale_list)"
   ]
  },
  {
   "cell_type": "code",
   "execution_count": 38,
   "id": "28073e1c-32db-48a0-adb9-a01b0a7c492b",
   "metadata": {},
   "outputs": [],
   "source": [
    "s_prev = scale_list[1]\n",
    "s_curr = _Scale(X=s_prev.X[s_prev.lm_ind, :], parent_scale=s_prev)"
   ]
  },
  {
   "cell_type": "code",
   "execution_count": 39,
   "id": "05d47869-b60b-42a8-9442-a806b591e78b",
   "metadata": {},
   "outputs": [
    {
     "name": "stdout",
     "output_type": "stream",
     "text": [
      "CPU times: total: 2min\n",
      "Wall time: 2min\n"
     ]
    }
   ],
   "source": [
    "%%time\n",
    "scale = s_prev\n",
    "min_lm = 100\n",
    "\n",
    "n_events = scale.T.shape[0]\n",
    "# create state matrix containing all initial states\n",
    "init_states = csr_matrix((np.ones(n_events), (range(n_events), range(n_events))))\n",
    "HELPER_VAR = {'lm': scale.lm_ind, 'min_lm': min_lm, 'T': scale.T}\n",
    "I = map(_helper_method_AoI, [s for s in init_states])\n",
    "I = vstack(I)\n",
    "s_curr.I = I"
   ]
  },
  {
   "cell_type": "code",
   "execution_count": 40,
   "id": "b35ceef8-1d4f-418e-960e-b84279ce793a",
   "metadata": {},
   "outputs": [
    {
     "name": "stdout",
     "output_type": "stream",
     "text": [
      "CPU times: total: 0 ns\n",
      "Wall time: 470 µs\n"
     ]
    }
   ],
   "source": [
    "%%time\n",
    "I = s_curr.I\n",
    "W_old = s_prev.W\n",
    "if type(W_old) is int: #W_old is None or W_old is 1:\n",
    "    W_old = np.ones((I.shape[0],))\n",
    "W_s = np.array(W_old * I).reshape((I.shape[1]))\n",
    "s_curr.W = W_s"
   ]
  },
  {
   "cell_type": "code",
   "execution_count": 41,
   "id": "7fec204e-7d6a-443b-99ac-101ac1f9230a",
   "metadata": {},
   "outputs": [
    {
     "name": "stdout",
     "output_type": "stream",
     "text": [
      "CPU times: total: 172 ms\n",
      "Wall time: 193 ms\n"
     ]
    }
   ],
   "source": [
    "%%time\n",
    "I = s_curr.I\n",
    "W = s_prev.W\n",
    "\n",
    "num_lm_s_prev, num_lm_s = (I.shape[0],I.shape[1])  # dimensionst of I\n",
    "# num_lm_s_old > num_lm_s\n",
    "I_t = I.transpose()  # transposed Influence matrix\n",
    "\n",
    "HELPER_VAR = {'W': W, 'num_lm_s_prev': num_lm_s_prev}\n",
    "\n",
    "I_with_W = map(_helper_method_T_next_mul_W, [it for it in I_t])\n",
    "I_with_W = hstack(list(I_with_W))\n",
    "I = I_with_W.T * I\n",
    "T_next = map(_helper_method_T_next_row_div, enumerate(I))\n",
    "\n",
    "T_next = vstack(T_next)\n",
    "T_next = T_next.tocsr()\n",
    "s_curr.T = T_next"
   ]
  },
  {
   "cell_type": "code",
   "execution_count": 42,
   "id": "56c588d6-919b-4a68-8638-30f81fb80b7d",
   "metadata": {},
   "outputs": [
    {
     "name": "stdout",
     "output_type": "stream",
     "text": [
      "CPU times: total: 3.25 s\n",
      "Wall time: 3.25 s\n"
     ]
    }
   ],
   "source": [
    "%%time\n",
    "T = s_curr.T\n",
    "settings = parameters\n",
    "n_events = T.shape[0]\n",
    "proposals = np.zeros(n_events)  # counts how many times point has been reached\n",
    "landmarks = list()  # list of landmarks\n",
    "global HELPER_VAR\n",
    "HELPER_VAR = {'T': T, 'teta': settings['teta'], 'beta': settings['beta'], \n",
    "              'beta_thresh': settings['beta_thresh'], 'n_events': n_events}\n",
    "init_states = csr_matrix((np.ones(n_events), (range(n_events), range(n_events))))\n",
    "hit_list = map(_helper_method_get_landmarks, [state for state in init_states])\n",
    "# evaluate results\n",
    "for state_hits in hit_list:  # for every states hit_list\n",
    "    for h in state_hits:  # for every hit in some states hit_list\n",
    "        proposals[h[0]] += h[1]\n",
    "# collect landmarks\n",
    "min_beta = settings['beta'] * settings['beta_thresh']\n",
    "for prop in enumerate(proposals):\n",
    "    # if event has been hit min_beta times, it counts as landmark\n",
    "    if prop[1] > min_beta:\n",
    "        landmarks.append(prop[0])\n",
    "s_curr.lm_ind = landmarks"
   ]
  },
  {
   "cell_type": "code",
   "execution_count": 43,
   "id": "3eb92b5a-1396-4e7e-be86-dbc3a887b996",
   "metadata": {},
   "outputs": [
    {
     "name": "stdout",
     "output_type": "stream",
     "text": [
      "CPU times: total: 0 ns\n",
      "Wall time: 3.04 ms\n"
     ]
    }
   ],
   "source": [
    "%%time\n",
    "T = s_curr.T\n",
    "P = (T + T.transpose()) / (2 * T.shape[0])\n",
    "s_curr.P = P"
   ]
  },
  {
   "cell_type": "code",
   "execution_count": 44,
   "id": "88b9434b-83a4-4599-8256-7f51a186672f",
   "metadata": {},
   "outputs": [],
   "source": [
    "tmpdata = sc.AnnData(X=s_curr.X)\n",
    "tmpdata.obsp['connectivities'] = s_curr.P\n",
    "tmpdata.obsm['X_pca'] = s_curr.X\n",
    "tmpdata.uns['neighbors'] = {'params':{'method':'umap'}}\n",
    "tmpdata.uns['neighbors']['connectivities_key'] = 'connectivities'"
   ]
  },
  {
   "cell_type": "code",
   "execution_count": 45,
   "id": "6ff1cb40-dbed-45b7-9061-9d06be9e5c45",
   "metadata": {},
   "outputs": [
    {
     "name": "stdout",
     "output_type": "stream",
     "text": [
      "CPU times: total: 1.44 s\n",
      "Wall time: 1.56 s\n"
     ]
    }
   ],
   "source": [
    "%%time\n",
    "umap(\n",
    "     tmpdata,\n",
    "     min_dist=min_dist,\n",
    "     spread=spread,\n",
    "     n_components=n_components,\n",
    "     maxiter=maxiter,\n",
    "     alpha=alpha,\n",
    "     gamma=gamma,\n",
    "     negative_sample_rate=negative_sample_rate,\n",
    "     init_pos=init_pos,\n",
    "     random_state=random_state,\n",
    "     a=a,\n",
    "     b=b,\n",
    "     copy=False,\n",
    "     method=method,\n",
    "     neighbors_key=neighbors_key)\n",
    "X_humap = tmpdata.obsm['X_umap']\n",
    "s_curr.X_humap = X_humap"
   ]
  },
  {
   "cell_type": "code",
   "execution_count": 46,
   "id": "2c72322d-8873-4e9b-8a69-221ae0e04572",
   "metadata": {},
   "outputs": [],
   "source": [
    "scale_list.append(s_curr)"
   ]
  },
  {
   "cell_type": "code",
   "execution_count": 47,
   "id": "86fb7be3-1071-4342-b393-0d381f850046",
   "metadata": {},
   "outputs": [],
   "source": [
    "l1 = scale_list[0].X_humap\n",
    "l2 = scale_list[1].X_humap\n",
    "l3 = scale_list[2].X_humap"
   ]
  },
  {
   "cell_type": "code",
   "execution_count": 48,
   "id": "983de95c-11ab-4bca-8602-805eef1c4bc4",
   "metadata": {},
   "outputs": [
    {
     "data": {
      "text/plain": [
       "<matplotlib.collections.PathCollection at 0x2893374fa90>"
      ]
     },
     "execution_count": 48,
     "metadata": {},
     "output_type": "execute_result"
    },
    {
     "data": {
      "image/png": "[encoded data removed]",
      "text/plain": [
       "<Figure size 640x480 with 1 Axes>"
      ]
     },
     "metadata": {},
     "output_type": "display_data"
    }
   ],
   "source": [
    "plt.scatter(l1[:,0], l1[:,1])"
   ]
  },
  {
   "cell_type": "code",
   "execution_count": 49,
   "id": "3f496082-4b4e-4377-a130-da6ba7fbb9a2",
   "metadata": {},
   "outputs": [
    {
     "data": {
      "text/plain": [
       "<matplotlib.collections.PathCollection at 0x2893372dbb0>"
      ]
     },
     "execution_count": 49,
     "metadata": {},
     "output_type": "execute_result"
    },
    {
     "data": {
      "image/png": "[encoded data removed]",
      "text/plain": [
       "<Figure size 640x480 with 1 Axes>"
      ]
     },
     "metadata": {},
     "output_type": "display_data"
    }
   ],
   "source": [
    "plt.scatter(l2[:,0], l2[:,1])"
   ]
  },
  {
   "cell_type": "code",
   "execution_count": 50,
   "id": "a58c1c50-09d1-4b86-9bef-a11ef915b2c3",
   "metadata": {},
   "outputs": [
    {
     "data": {
      "text/plain": [
       "<matplotlib.collections.PathCollection at 0x289380fd580>"
      ]
     },
     "execution_count": 50,
     "metadata": {},
     "output_type": "execute_result"
    },
    {
     "data": {
      "image/png": "[encoded data removed]",
      "text/plain": [
       "<Figure size 640x480 with 1 Axes>"
      ]
     },
     "metadata": {},
     "output_type": "display_data"
    }
   ],
   "source": [
    "plt.scatter(l3[:,0], l3[:,1])"
   ]
  },
  {
   "cell_type": "code",
   "execution_count": null,
   "id": "502ff230-4d51-48a4-9956-ce996eff9f31",
   "metadata": {},
   "outputs": [],
   "source": []
  },
  {
   "cell_type": "code",
   "execution_count": null,
   "id": "87ab84f5-ae39-49e4-8d53-01a787e602dd",
   "metadata": {},
   "outputs": [],
   "source": []
  }
 ],
 "metadata": {
  "kernelspec": {
   "display_name": "Python 3 (ipykernel)",
   "language": "python",
   "name": "python3"
  },
  "language_info": {
   "codemirror_mode": {
    "name": "ipython",
    "version": 3
   },
   "file_extension": ".py",
   "mimetype": "text/x-python",
   "name": "python",
   "nbconvert_exporter": "python",
   "pygments_lexer": "ipython3",
   "version": "3.9.7"
  }
 },
 "nbformat": 4,
 "nbformat_minor": 5
}
