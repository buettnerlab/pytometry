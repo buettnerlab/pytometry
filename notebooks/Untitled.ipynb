{
 "cells": [
  {
   "cell_type": "code",
   "execution_count": 1,
   "id": "78f4fbc3-657d-47c8-a723-272e503ba812",
   "metadata": {},
   "outputs": [],
   "source": [
    "import scanpy as sc\n",
    "import pytometry as pt\n",
    "import pandas as pd\n",
    "import numpy as np\n",
    "import os"
   ]
  },
  {
   "cell_type": "code",
   "execution_count": 2,
   "id": "e6298115-7541-4809-87a0-f82c86cca05a",
   "metadata": {},
   "outputs": [],
   "source": [
    "BASE_PATH = 'G:\\\\My Drive\\\\colab\\\\cytometry\\\\bmmc_cytof\\\\'\n",
    "fls = sorted(os.listdir(BASE_PATH))"
   ]
  },
  {
   "cell_type": "code",
   "execution_count": 7,
   "id": "87fc9823-0358-4468-adb1-25acffbc4184",
   "metadata": {},
   "outputs": [
    {
     "data": {
      "text/plain": [
       "'desktop.ini'"
      ]
     },
     "execution_count": 7,
     "metadata": {},
     "output_type": "execute_result"
    }
   ],
   "source": [
    "fls.pop()"
   ]
  },
  {
   "cell_type": "code",
   "execution_count": 4,
   "id": "912f5e7f-1b2b-4fcc-8973-de088a2d3789",
   "metadata": {},
   "outputs": [
    {
     "ename": "TypeError",
     "evalue": "read_fcs() got an unexpected keyword argument 'reindex'",
     "output_type": "error",
     "traceback": [
      "\u001b[1;31m---------------------------------------------------------------------------\u001b[0m",
      "\u001b[1;31mTypeError\u001b[0m                                 Traceback (most recent call last)",
      "Cell \u001b[1;32mIn [4], line 1\u001b[0m\n\u001b[1;32m----> 1\u001b[0m adata \u001b[38;5;241m=\u001b[39m \u001b[43mpt\u001b[49m\u001b[38;5;241;43m.\u001b[39;49m\u001b[43mio\u001b[49m\u001b[38;5;241;43m.\u001b[39;49m\u001b[43mread_fcs\u001b[49m\u001b[43m(\u001b[49m\u001b[43mBASE_PATH\u001b[49m\u001b[43m \u001b[49m\u001b[38;5;241;43m+\u001b[39;49m\u001b[43m \u001b[49m\u001b[43mfls\u001b[49m\u001b[43m[\u001b[49m\u001b[38;5;241;43m0\u001b[39;49m\u001b[43m]\u001b[49m\u001b[43m,\u001b[49m\u001b[43m \u001b[49m\u001b[43mreindex\u001b[49m\u001b[38;5;241;43m=\u001b[39;49m\u001b[38;5;28;43;01mFalse\u001b[39;49;00m\u001b[43m)\u001b[49m\n",
      "\u001b[1;31mTypeError\u001b[0m: read_fcs() got an unexpected keyword argument 'reindex'"
     ]
    }
   ],
   "source": [
    "adata = pt.io.read_fcs(BASE_PATH + fls[0], reindex=False)"
   ]
  },
  {
   "cell_type": "code",
   "execution_count": 5,
   "id": "2bb8c0d0-ebd9-451e-b2a1-ceefe22a22fa",
   "metadata": {},
   "outputs": [],
   "source": [
    "import readfcs"
   ]
  },
  {
   "cell_type": "code",
   "execution_count": 7,
   "id": "a135e190-9736-4211-900f-222758fff2ed",
   "metadata": {},
   "outputs": [
    {
     "name": "stderr",
     "output_type": "stream",
     "text": [
      "C:\\Users\\ergun\\pycharm\\pytometry\\venv\\lib\\site-packages\\anndata\\_core\\anndata.py:121: ImplicitModificationWarning: Transforming to str index.\n",
      "  warnings.warn(\"Transforming to str index.\", ImplicitModificationWarning)\n"
     ]
    }
   ],
   "source": [
    "adata = readfcs.read(BASE_PATH+fls[0], reindex=False)"
   ]
  },
  {
   "cell_type": "code",
   "execution_count": 8,
   "id": "fa430c4d-1f9a-465a-99be-11ff96531d4d",
   "metadata": {},
   "outputs": [
    {
     "data": {
      "text/plain": [
       "AnnData object with n_obs × n_vars = 500671 × 55\n",
       "    var: '$PnB', '$PnE', '$PnR'\n",
       "    uns: 'meta'"
      ]
     },
     "execution_count": 8,
     "metadata": {},
     "output_type": "execute_result"
    }
   ],
   "source": [
    "adata"
   ]
  },
  {
   "cell_type": "code",
   "execution_count": 16,
   "id": "40738e4b-8c72-463c-82ae-4ea793dd56a2",
   "metadata": {},
   "outputs": [
    {
     "data": {
      "text/plain": [
       "dict_keys(['__header__', 'cyt', 'cytsn', 'date', 'fil', 'btim', 'etim', 'mode', 'datatype', 'byteord', 'par', 'tot', 'beginstext', 'endstext', 'nextdata', 'beginanalysis', 'endanalysis', 'begindata', 'enddata', 'P3S', 'P4S', 'P5S', 'P6S', 'P7S', 'P8S', 'P9S', 'P10S', 'P11S', 'P12S', 'P13S', 'P14S', 'P15S', 'P16S', 'P17S', 'P18S', 'P19S', 'P20S', 'P21S', 'P22S', 'P23S', 'P24S', 'P25S', 'P26S', 'P27S', 'P28S', 'P29S', 'P30S', 'P31S', 'P32S', 'P33S', 'P34S', 'P35S', 'P36S', 'P37S', 'P38S', 'P39S', 'P40S', 'P41S', 'P42S', 'P43S', 'P44S', 'P45S', 'P46S', 'P47S', 'P48S', 'P49S', 'P50S', 'P51S', '_channels_', '_channel_names_', 'header', 'channels'])"
      ]
     },
     "execution_count": 16,
     "metadata": {},
     "output_type": "execute_result"
    }
   ],
   "source": [
    "adata.uns['meta'].keys()"
   ]
  },
  {
   "cell_type": "code",
   "execution_count": 19,
   "id": "da688e06-b62e-4734-b636-6802ea3e5923",
   "metadata": {},
   "outputs": [],
   "source": [
    "lst = list(adata.uns['meta'])"
   ]
  },
  {
   "cell_type": "code",
   "execution_count": 21,
   "id": "a1b0e9a1-7816-4441-8a9a-478ad1ef4d7e",
   "metadata": {},
   "outputs": [],
   "source": [
    "PnS = [i for i in lst if 'S' in i]"
   ]
  },
  {
   "cell_type": "code",
   "execution_count": 22,
   "id": "123c0a4d-8649-4a9a-b7d2-c13805d13ce9",
   "metadata": {},
   "outputs": [
    {
     "data": {
      "text/plain": [
       "['P3S',\n",
       " 'P4S',\n",
       " 'P5S',\n",
       " 'P6S',\n",
       " 'P7S',\n",
       " 'P8S',\n",
       " 'P9S',\n",
       " 'P10S',\n",
       " 'P11S',\n",
       " 'P12S',\n",
       " 'P13S',\n",
       " 'P14S',\n",
       " 'P15S',\n",
       " 'P16S',\n",
       " 'P17S',\n",
       " 'P18S',\n",
       " 'P19S',\n",
       " 'P20S',\n",
       " 'P21S',\n",
       " 'P22S',\n",
       " 'P23S',\n",
       " 'P24S',\n",
       " 'P25S',\n",
       " 'P26S',\n",
       " 'P27S',\n",
       " 'P28S',\n",
       " 'P29S',\n",
       " 'P30S',\n",
       " 'P31S',\n",
       " 'P32S',\n",
       " 'P33S',\n",
       " 'P34S',\n",
       " 'P35S',\n",
       " 'P36S',\n",
       " 'P37S',\n",
       " 'P38S',\n",
       " 'P39S',\n",
       " 'P40S',\n",
       " 'P41S',\n",
       " 'P42S',\n",
       " 'P43S',\n",
       " 'P44S',\n",
       " 'P45S',\n",
       " 'P46S',\n",
       " 'P47S',\n",
       " 'P48S',\n",
       " 'P49S',\n",
       " 'P50S',\n",
       " 'P51S']"
      ]
     },
     "execution_count": 22,
     "metadata": {},
     "output_type": "execute_result"
    }
   ],
   "source": [
    "PnS"
   ]
  },
  {
   "cell_type": "code",
   "execution_count": 23,
   "id": "edafcde2-b77a-4f39-9dd7-c85f40f714d0",
   "metadata": {},
   "outputs": [
    {
     "data": {
      "text/plain": [
       "'89Y_CD45'"
      ]
     },
     "execution_count": 23,
     "metadata": {},
     "output_type": "execute_result"
    }
   ],
   "source": [
    "adata.uns['meta'][PnS[0]]"
   ]
  },
  {
   "cell_type": "code",
   "execution_count": 27,
   "id": "46053bfa-2985-4095-94fa-956e97a7cd6c",
   "metadata": {},
   "outputs": [],
   "source": [
    "markers = [adata.uns['meta'].get(i) for i in PnS]"
   ]
  },
  {
   "cell_type": "code",
   "execution_count": 28,
   "id": "39e979d6-b347-4138-94f6-3d2a320c551d",
   "metadata": {},
   "outputs": [
    {
     "data": {
      "text/plain": [
       "['89Y_CD45',\n",
       " '103Rh',\n",
       " '120Sn_Environ',\n",
       " '127I',\n",
       " '131Xe_Environ',\n",
       " '133Cs_Environ',\n",
       " '138Ba_Environ',\n",
       " '140Ce_EQ4_beads',\n",
       " '141Pr_CD49D',\n",
       " '142Nd_CD11a',\n",
       " '143Nd_CD5',\n",
       " '144Nd_CD195',\n",
       " '145Nd_CD4',\n",
       " '146Nd_CD8a',\n",
       " '147Sm_CD7',\n",
       " '148Nd_CD16',\n",
       " '149Sm_CD25',\n",
       " '150Nd_CD134_-_OX40',\n",
       " '151Eu_CD2',\n",
       " '152Sm_CD95_-_FAS',\n",
       " '153Eu_CD366_-_TIM3',\n",
       " '154Sm',\n",
       " '155Gd_CD279_-_PD1',\n",
       " '156Gd_CD183',\n",
       " '158Gd_CD194',\n",
       " '159Tb_CD197',\n",
       " '160Gd_CD28',\n",
       " '161Dy_CD152_-_CTLA4',\n",
       " '162Dy_CD69',\n",
       " '163Dy',\n",
       " '164Dy_CD161',\n",
       " '165Ho_CD45RO',\n",
       " '166Er_CD44',\n",
       " '167Er_CD27',\n",
       " '168Er_CD278_-_ICOS',\n",
       " '169Tm_CD45RA',\n",
       " '170Er_CD3',\n",
       " '171Yb_CD9',\n",
       " '172Yb_CD57',\n",
       " '173Yb_CD137_-_41BB',\n",
       " '174Yb_HLA-DR',\n",
       " '175Lu_CD223_-_LAG3',\n",
       " '176Yb_CD127',\n",
       " '190BCKG',\n",
       " '191Ir_DNA1',\n",
       " '193Ir_DNA2',\n",
       " '195Pt_VIABILITY',\n",
       " '208Pb_Environ',\n",
       " '209Bi']"
      ]
     },
     "execution_count": 28,
     "metadata": {},
     "output_type": "execute_result"
    }
   ],
   "source": [
    "markers"
   ]
  },
  {
   "cell_type": "code",
   "execution_count": 30,
   "id": "d2109972-3002-4ad4-8966-c6fa308417bf",
   "metadata": {},
   "outputs": [
    {
     "data": {
      "text/plain": [
       "Index(['Time', 'Event_length', 'Y89Di', 'Rh103Di', 'Sn120Di', 'I127Di',\n",
       "       'Xe131Di', 'Cs133Di', 'Ba138Di', 'Ce140Di', 'Pr141Di', 'Nd142Di',\n",
       "       'Nd143Di', 'Nd144Di', 'Nd145Di', 'Nd146Di', 'Sm147Di', 'Nd148Di',\n",
       "       'Sm149Di', 'Nd150Di', 'Eu151Di', 'Sm152Di', 'Eu153Di', 'Sm154Di',\n",
       "       'Gd155Di', 'Gd156Di', 'Gd158Di', 'Tb159Di', 'Gd160Di', 'Dy161Di',\n",
       "       'Dy162Di', 'Dy163Di', 'Dy164Di', 'Ho165Di', 'Er166Di', 'Er167Di',\n",
       "       'Er168Di', 'Tm169Di', 'Er170Di', 'Yb171Di', 'Yb172Di', 'Yb173Di',\n",
       "       'Yb174Di', 'Lu175Di', 'Yb176Di', 'BCKG190Di', 'Ir191Di', 'Ir193Di',\n",
       "       'Pt195Di', 'Pb208Di', 'Bi209Di', 'Center', 'Offset', 'Width',\n",
       "       'Residual'],\n",
       "      dtype='object', name='channel')"
      ]
     },
     "execution_count": 30,
     "metadata": {},
     "output_type": "execute_result"
    }
   ],
   "source": [
    "adata.var.index"
   ]
  },
  {
   "cell_type": "code",
   "execution_count": 32,
   "id": "b2125e96-2a68-40cb-b3c2-32184d9a3f0f",
   "metadata": {},
   "outputs": [],
   "source": [
    "a = ['Time', 'Event_length']"
   ]
  },
  {
   "cell_type": "code",
   "execution_count": 34,
   "id": "63856158-a905-4d57-9ab8-edfacda600b0",
   "metadata": {},
   "outputs": [],
   "source": [
    "a.extend(markers)"
   ]
  },
  {
   "cell_type": "code",
   "execution_count": 36,
   "id": "8a65f52a-4ad6-4590-a834-d29f8330d76e",
   "metadata": {},
   "outputs": [],
   "source": [
    "a.extend(['Center', 'Offset', 'Width', 'Residual'])"
   ]
  },
  {
   "cell_type": "code",
   "execution_count": 39,
   "id": "d151da43-4d41-4645-9a37-c25dbfba2197",
   "metadata": {},
   "outputs": [
    {
     "data": {
      "text/plain": [
       "True"
      ]
     },
     "execution_count": 39,
     "metadata": {},
     "output_type": "execute_result"
    }
   ],
   "source": [
    "len(a) == len(adata.var.index)"
   ]
  },
  {
   "cell_type": "code",
   "execution_count": 43,
   "id": "2d2955aa-9d23-41da-a2b0-16fcc6136d54",
   "metadata": {},
   "outputs": [],
   "source": [
    "adata.var.drop(adata.var_keys(), axis=1, inplace=True)"
   ]
  },
  {
   "cell_type": "code",
   "execution_count": 45,
   "id": "ef4734bd-bfd9-4245-8f7f-b86b8856040a",
   "metadata": {},
   "outputs": [],
   "source": [
    "adata.var['markers'] = a"
   ]
  },
  {
   "cell_type": "code",
   "execution_count": 47,
   "id": "9c7e79b2-871f-4849-a96f-61f4331858bb",
   "metadata": {},
   "outputs": [
    {
     "data": {
      "text/plain": [
       "AnnData object with n_obs × n_vars = 500671 × 55\n",
       "    var: 'markers'\n",
       "    uns: 'meta'"
      ]
     },
     "execution_count": 47,
     "metadata": {},
     "output_type": "execute_result"
    }
   ],
   "source": [
    "adata"
   ]
  },
  {
   "cell_type": "code",
   "execution_count": 58,
   "id": "6cc421b1-c7f9-4a11-b9b7-bd2481ff1528",
   "metadata": {},
   "outputs": [],
   "source": [
    "pt.tl.normalize_arcsinh(adata, cofactor=5)"
   ]
  },
  {
   "cell_type": "code",
   "execution_count": 59,
   "id": "6f177f7c-247b-42c4-84ba-c3aa6b3f079a",
   "metadata": {},
   "outputs": [
    {
     "data": {
      "text/plain": [
       "AnnData object with n_obs × n_vars = 500671 × 55\n",
       "    var: 'markers'\n",
       "    uns: 'meta'"
      ]
     },
     "execution_count": 59,
     "metadata": {},
     "output_type": "execute_result"
    }
   ],
   "source": [
    "adata"
   ]
  },
  {
   "cell_type": "code",
   "execution_count": null,
   "id": "bc077267-aba0-4a26-9381-d9287ea6e1d4",
   "metadata": {},
   "outputs": [],
   "source": [
    "# Lineage markers\n",
    "lin_ch = []"
   ]
  },
  {
   "cell_type": "code",
   "execution_count": 63,
   "id": "fb37e0b9-82de-47a6-89fa-e7e4c7709144",
   "metadata": {},
   "outputs": [
    {
     "data": {
      "text/plain": [
       "['Time',\n",
       " 'Event_length',\n",
       " '89Y_CD45',\n",
       " '103Rh',\n",
       " '120Sn_Environ',\n",
       " '127I',\n",
       " '131Xe_Environ',\n",
       " '133Cs_Environ',\n",
       " '138Ba_Environ',\n",
       " '140Ce_EQ4_beads',\n",
       " '141Pr_CD49D',\n",
       " '142Nd_CD11a',\n",
       " '143Nd_CD5',\n",
       " '144Nd_CD195',\n",
       " '145Nd_CD4',\n",
       " '146Nd_CD8a',\n",
       " '147Sm_CD7',\n",
       " '148Nd_CD16',\n",
       " '149Sm_CD25',\n",
       " '150Nd_CD134_-_OX40',\n",
       " '151Eu_CD2',\n",
       " '152Sm_CD95_-_FAS',\n",
       " '153Eu_CD366_-_TIM3',\n",
       " '154Sm',\n",
       " '155Gd_CD279_-_PD1',\n",
       " '156Gd_CD183',\n",
       " '158Gd_CD194',\n",
       " '159Tb_CD197',\n",
       " '160Gd_CD28',\n",
       " '161Dy_CD152_-_CTLA4',\n",
       " '162Dy_CD69',\n",
       " '163Dy',\n",
       " '164Dy_CD161',\n",
       " '165Ho_CD45RO',\n",
       " '166Er_CD44',\n",
       " '167Er_CD27',\n",
       " '168Er_CD278_-_ICOS',\n",
       " '169Tm_CD45RA',\n",
       " '170Er_CD3',\n",
       " '171Yb_CD9',\n",
       " '172Yb_CD57',\n",
       " '173Yb_CD137_-_41BB',\n",
       " '174Yb_HLA-DR',\n",
       " '175Lu_CD223_-_LAG3',\n",
       " '176Yb_CD127',\n",
       " '190BCKG',\n",
       " '191Ir_DNA1',\n",
       " '193Ir_DNA2',\n",
       " '195Pt_VIABILITY',\n",
       " '208Pb_Environ',\n",
       " '209Bi',\n",
       " 'Center',\n",
       " 'Offset',\n",
       " 'Width',\n",
       " 'Residual']"
      ]
     },
     "execution_count": 63,
     "metadata": {},
     "output_type": "execute_result"
    }
   ],
   "source": [
    "adata.var.markers.to_list()"
   ]
  },
  {
   "cell_type": "code",
   "execution_count": null,
   "id": "576a32ce-8d87-4f75-a836-2d25ffe465a7",
   "metadata": {},
   "outputs": [],
   "source": [
    "['Time',\n",
    " 'Event_length',\n",
    " '89Y_CD45',\n",
    " '103Rh',\n",
    " '120Sn_Environ',\n",
    " '127I',\n",
    " '131Xe_Environ',\n",
    " '133Cs_Environ',\n",
    " '138Ba_Environ',\n",
    " '140Ce_EQ4_beads',\n",
    " '141Pr_CD49D',\n",
    " '142Nd_CD11a',\n",
    " '143Nd_CD5',\n",
    " '144Nd_CD195',\n",
    " '145Nd_CD4',\n",
    " '146Nd_CD8a',\n",
    " '147Sm_CD7',\n",
    " '148Nd_CD16',\n",
    " '149Sm_CD25',\n",
    " '150Nd_CD134_-_OX40',\n",
    " '151Eu_CD2',\n",
    " '152Sm_CD95_-_FAS',\n",
    " '153Eu_CD366_-_TIM3',\n",
    " '154Sm',\n",
    " '155Gd_CD279_-_PD1',\n",
    " '156Gd_CD183',\n",
    " '158Gd_CD194',\n",
    " '159Tb_CD197',\n",
    " '160Gd_CD28',\n",
    " '161Dy_CD152_-_CTLA4',\n",
    " '162Dy_CD69',\n",
    " '163Dy',\n",
    " '164Dy_CD161',\n",
    " '165Ho_CD45RO',\n",
    " '166Er_CD44',\n",
    " '167Er_CD27',\n",
    " '168Er_CD278_-_ICOS',\n",
    " '169Tm_CD45RA',\n",
    " '170Er_CD3',\n",
    " '171Yb_CD9',\n",
    " '172Yb_CD57',\n",
    " '173Yb_CD137_-_41BB',\n",
    " '174Yb_HLA-DR',\n",
    " '175Lu_CD223_-_LAG3',\n",
    " '176Yb_CD127',\n",
    " '190BCKG',\n",
    " '191Ir_DNA1',\n",
    " '193Ir_DNA2',\n",
    " '195Pt_VIABILITY',\n",
    " '208Pb_Environ',\n",
    " '209Bi',\n",
    " 'Center',\n",
    " 'Offset',\n",
    " 'Width',\n",
    " 'Residual']"
   ]
  },
  {
   "cell_type": "code",
   "execution_count": null,
   "id": "6b30c075-6717-4605-a580-a19453b2ef22",
   "metadata": {},
   "outputs": [],
   "source": []
  },
  {
   "cell_type": "code",
   "execution_count": 70,
   "id": "781d90d0-bab4-496e-bd29-591d958df225",
   "metadata": {},
   "outputs": [],
   "source": [
    "short = [i.split('_')[1] if '_' in i else '' for i in adata.var.markers.values]"
   ]
  },
  {
   "cell_type": "code",
   "execution_count": 71,
   "id": "fd1a84d9-40c6-48ae-8ee4-1c3c56363480",
   "metadata": {},
   "outputs": [],
   "source": [
    "adata.var['short'] = short"
   ]
  },
  {
   "cell_type": "code",
   "execution_count": 74,
   "id": "e9df4d6c-3fbb-4378-8a7f-8977598257f9",
   "metadata": {},
   "outputs": [],
   "source": [
    "na = ['length', 'Environ', 'EQ4', 'VIABILITY', 'DNA1', 'DNA2' , '']"
   ]
  },
  {
   "cell_type": "code",
   "execution_count": null,
   "id": "e78a005d-b181-4e41-aece-fe438fc6b436",
   "metadata": {},
   "outputs": [],
   "source": [
    "selected = [i for i in adata.var.short.isin(na)]"
   ]
  },
  {
   "cell_type": "code",
   "execution_count": 76,
   "id": "0c96ed1c-591a-478f-be12-d5fdbcdf8cdf",
   "metadata": {},
   "outputs": [],
   "source": [
    "adata = adata[:, ~adata.var.short.isin(na)].copy()"
   ]
  },
  {
   "cell_type": "code",
   "execution_count": 77,
   "id": "0c1f475d-3f3d-4e17-adb3-da15404dc587",
   "metadata": {},
   "outputs": [],
   "source": [
    "from _humap import humap"
   ]
  },
  {
   "cell_type": "code",
   "execution_count": 79,
   "id": "7f1604bd-c290-4122-9831-7060755cf618",
   "metadata": {},
   "outputs": [],
   "source": [
    "sc.pp.neighbors(adata)"
   ]
  },
  {
   "cell_type": "code",
   "execution_count": 80,
   "id": "ca7f4563-0ffd-4ed3-85bf-69277b812872",
   "metadata": {},
   "outputs": [
    {
     "data": {
      "text/plain": [
       "AnnData object with n_obs × n_vars = 500671 × 34\n",
       "    var: 'markers', 'short'\n",
       "    uns: 'meta', 'neighbors'\n",
       "    obsp: 'distances', 'connectivities'"
      ]
     },
     "execution_count": 80,
     "metadata": {},
     "output_type": "execute_result"
    }
   ],
   "source": [
    "adata"
   ]
  },
  {
   "cell_type": "code",
   "execution_count": 106,
   "id": "b78c95f4-b8a6-4c98-9def-ddf5d5f9f4f0",
   "metadata": {},
   "outputs": [
    {
     "ename": "ValueError",
     "evalue": "zero-size array to reduction operation maximum which has no identity",
     "output_type": "error",
     "traceback": [
      "\u001b[1;31m---------------------------------------------------------------------------\u001b[0m",
      "\u001b[1;31mValueError\u001b[0m                                Traceback (most recent call last)",
      "Cell \u001b[1;32mIn [106], line 1\u001b[0m\n\u001b[1;32m----> 1\u001b[0m \u001b[43mhumap\u001b[49m\u001b[43m(\u001b[49m\u001b[43madata\u001b[49m\u001b[43m)\u001b[49m\n",
      "File \u001b[1;32m~\\pycharm\\pytometry\\notebooks\\_humap.py:50\u001b[0m, in \u001b[0;36mhumap\u001b[1;34m(adata, channel_idx, beta, beta_thresh, teta, n_scales)\u001b[0m\n\u001b[0;32m     46\u001b[0m \u001b[38;5;66;03m# Create first scale\u001b[39;00m\n\u001b[0;32m     47\u001b[0m s_root \u001b[38;5;241m=\u001b[39m _Scale(X\u001b[38;5;241m=\u001b[39madata\u001b[38;5;241m.\u001b[39mX[:,channel_idx], W\u001b[38;5;241m=\u001b[39m\u001b[38;5;241m1\u001b[39m)  \u001b[38;5;66;03m# reduced x to channels_idx\u001b[39;00m\n\u001b[1;32m---> 50\u001b[0m s_root\u001b[38;5;241m.\u001b[39mT \u001b[38;5;241m=\u001b[39m \u001b[43m_calc_first_T\u001b[49m\u001b[43m(\u001b[49m\u001b[43mdistances_nn\u001b[49m\u001b[43m,\u001b[49m\u001b[43m \u001b[49m\u001b[38;5;28;43mlen\u001b[39;49m\u001b[43m(\u001b[49m\u001b[43madata\u001b[49m\u001b[38;5;241;43m.\u001b[39;49m\u001b[43mX\u001b[49m\u001b[43m)\u001b[49m\u001b[43m)\u001b[49m\n\u001b[0;32m     51\u001b[0m s_root\u001b[38;5;241m.\u001b[39mP \u001b[38;5;241m=\u001b[39m _calc_P(s_root\u001b[38;5;241m.\u001b[39mT)\n\u001b[0;32m     52\u001b[0m \u001b[38;5;66;03m# Construct a temporary adata to store weighted adjacency matrix\u001b[39;00m\n",
      "File \u001b[1;32m~\\pycharm\\pytometry\\notebooks\\_humap.py:217\u001b[0m, in \u001b[0;36m_calc_first_T\u001b[1;34m(distances_nn, dim)\u001b[0m\n\u001b[0;32m    215\u001b[0m probs \u001b[38;5;241m=\u001b[39m \u001b[38;5;28mmap\u001b[39m(_helper_method_calc_T, [dist\u001b[38;5;241m.\u001b[39mdata \u001b[38;5;28;01mfor\u001b[39;00m dist \u001b[38;5;129;01min\u001b[39;00m distances_nn])\n\u001b[0;32m    216\u001b[0m data \u001b[38;5;241m=\u001b[39m []\n\u001b[1;32m--> 217\u001b[0m \u001b[38;5;28;01mfor\u001b[39;00m pr \u001b[38;5;129;01min\u001b[39;00m probs:\n\u001b[0;32m    218\u001b[0m     data\u001b[38;5;241m.\u001b[39mextend(pr)\n\u001b[0;32m    219\u001b[0m T \u001b[38;5;241m=\u001b[39m csr_matrix((data, distances_nn\u001b[38;5;241m.\u001b[39mindices, distances_nn\u001b[38;5;241m.\u001b[39mindptr), shape\u001b[38;5;241m=\u001b[39m(dim, dim))\n",
      "File \u001b[1;32m~\\pycharm\\pytometry\\notebooks\\_humap.py:224\u001b[0m, in \u001b[0;36m_helper_method_calc_T\u001b[1;34m(dist)\u001b[0m\n\u001b[0;32m    223\u001b[0m \u001b[38;5;28;01mdef\u001b[39;00m \u001b[38;5;21m_helper_method_calc_T\u001b[39m(dist):\n\u001b[1;32m--> 224\u001b[0m     d \u001b[38;5;241m=\u001b[39m dist \u001b[38;5;241m/\u001b[39m \u001b[43mnp\u001b[49m\u001b[38;5;241;43m.\u001b[39;49m\u001b[43mmax\u001b[49m\u001b[43m(\u001b[49m\u001b[43mdist\u001b[49m\u001b[43m)\u001b[49m\n\u001b[0;32m    225\u001b[0m     \u001b[38;5;28;01mreturn\u001b[39;00m softmax((\u001b[38;5;241m-\u001b[39md \u001b[38;5;241m*\u001b[39m\u001b[38;5;241m*\u001b[39m \u001b[38;5;241m2\u001b[39m) \u001b[38;5;241m/\u001b[39m _binary_search_sigma(d, \u001b[38;5;28mlen\u001b[39m(d)))\n",
      "File \u001b[1;32m<__array_function__ internals>:180\u001b[0m, in \u001b[0;36mamax\u001b[1;34m(*args, **kwargs)\u001b[0m\n",
      "File \u001b[1;32m~\\pycharm\\pytometry\\venv\\lib\\site-packages\\numpy\\core\\fromnumeric.py:2793\u001b[0m, in \u001b[0;36mamax\u001b[1;34m(a, axis, out, keepdims, initial, where)\u001b[0m\n\u001b[0;32m   2677\u001b[0m \u001b[38;5;129m@array_function_dispatch\u001b[39m(_amax_dispatcher)\n\u001b[0;32m   2678\u001b[0m \u001b[38;5;28;01mdef\u001b[39;00m \u001b[38;5;21mamax\u001b[39m(a, axis\u001b[38;5;241m=\u001b[39m\u001b[38;5;28;01mNone\u001b[39;00m, out\u001b[38;5;241m=\u001b[39m\u001b[38;5;28;01mNone\u001b[39;00m, keepdims\u001b[38;5;241m=\u001b[39mnp\u001b[38;5;241m.\u001b[39m_NoValue, initial\u001b[38;5;241m=\u001b[39mnp\u001b[38;5;241m.\u001b[39m_NoValue,\n\u001b[0;32m   2679\u001b[0m          where\u001b[38;5;241m=\u001b[39mnp\u001b[38;5;241m.\u001b[39m_NoValue):\n\u001b[0;32m   2680\u001b[0m     \u001b[38;5;124;03m\"\"\"\u001b[39;00m\n\u001b[0;32m   2681\u001b[0m \u001b[38;5;124;03m    Return the maximum of an array or maximum along an axis.\u001b[39;00m\n\u001b[0;32m   2682\u001b[0m \n\u001b[1;32m   (...)\u001b[0m\n\u001b[0;32m   2791\u001b[0m \u001b[38;5;124;03m    5\u001b[39;00m\n\u001b[0;32m   2792\u001b[0m \u001b[38;5;124;03m    \"\"\"\u001b[39;00m\n\u001b[1;32m-> 2793\u001b[0m     \u001b[38;5;28;01mreturn\u001b[39;00m \u001b[43m_wrapreduction\u001b[49m\u001b[43m(\u001b[49m\u001b[43ma\u001b[49m\u001b[43m,\u001b[49m\u001b[43m \u001b[49m\u001b[43mnp\u001b[49m\u001b[38;5;241;43m.\u001b[39;49m\u001b[43mmaximum\u001b[49m\u001b[43m,\u001b[49m\u001b[43m \u001b[49m\u001b[38;5;124;43m'\u001b[39;49m\u001b[38;5;124;43mmax\u001b[39;49m\u001b[38;5;124;43m'\u001b[39;49m\u001b[43m,\u001b[49m\u001b[43m \u001b[49m\u001b[43maxis\u001b[49m\u001b[43m,\u001b[49m\u001b[43m \u001b[49m\u001b[38;5;28;43;01mNone\u001b[39;49;00m\u001b[43m,\u001b[49m\u001b[43m \u001b[49m\u001b[43mout\u001b[49m\u001b[43m,\u001b[49m\n\u001b[0;32m   2794\u001b[0m \u001b[43m                          \u001b[49m\u001b[43mkeepdims\u001b[49m\u001b[38;5;241;43m=\u001b[39;49m\u001b[43mkeepdims\u001b[49m\u001b[43m,\u001b[49m\u001b[43m \u001b[49m\u001b[43minitial\u001b[49m\u001b[38;5;241;43m=\u001b[39;49m\u001b[43minitial\u001b[49m\u001b[43m,\u001b[49m\u001b[43m \u001b[49m\u001b[43mwhere\u001b[49m\u001b[38;5;241;43m=\u001b[39;49m\u001b[43mwhere\u001b[49m\u001b[43m)\u001b[49m\n",
      "File \u001b[1;32m~\\pycharm\\pytometry\\venv\\lib\\site-packages\\numpy\\core\\fromnumeric.py:86\u001b[0m, in \u001b[0;36m_wrapreduction\u001b[1;34m(obj, ufunc, method, axis, dtype, out, **kwargs)\u001b[0m\n\u001b[0;32m     83\u001b[0m         \u001b[38;5;28;01melse\u001b[39;00m:\n\u001b[0;32m     84\u001b[0m             \u001b[38;5;28;01mreturn\u001b[39;00m reduction(axis\u001b[38;5;241m=\u001b[39maxis, out\u001b[38;5;241m=\u001b[39mout, \u001b[38;5;241m*\u001b[39m\u001b[38;5;241m*\u001b[39mpasskwargs)\n\u001b[1;32m---> 86\u001b[0m \u001b[38;5;28;01mreturn\u001b[39;00m ufunc\u001b[38;5;241m.\u001b[39mreduce(obj, axis, dtype, out, \u001b[38;5;241m*\u001b[39m\u001b[38;5;241m*\u001b[39mpasskwargs)\n",
      "\u001b[1;31mValueError\u001b[0m: zero-size array to reduction operation maximum which has no identity"
     ]
    }
   ],
   "source": [
    "humap(adata)"
   ]
  },
  {
   "cell_type": "code",
   "execution_count": 108,
   "id": "850c1017-9735-4506-ac06-1dfda0ab1c57",
   "metadata": {},
   "outputs": [
    {
     "data": {
      "text/plain": [
       "array([[1.6218398 , 0.27101454, 0.96043736, ..., 1.7876798 , 1.8205131 ,\n",
       "        0.3989921 ],\n",
       "       [2.4155092 , 1.1034422 , 1.5883027 , ..., 1.098694  , 0.4216159 ,\n",
       "        0.        ],\n",
       "       [3.6359303 , 4.318706  , 3.5327587 , ..., 1.6078254 , 0.2168549 ,\n",
       "        2.9450536 ],\n",
       "       ...,\n",
       "       [2.1729078 , 3.4802701 , 2.6822774 , ..., 0.        , 0.        ,\n",
       "        0.        ],\n",
       "       [2.0211127 , 2.381964  , 3.106013  , ..., 2.5547917 , 0.13777055,\n",
       "        0.13151744],\n",
       "       [1.9113332 , 2.4564302 , 0.54883033, ..., 4.471784  , 0.        ,\n",
       "        0.        ]], dtype=float32)"
      ]
     },
     "execution_count": 108,
     "metadata": {},
     "output_type": "execute_result"
    }
   ],
   "source": [
    "adata.X"
   ]
  },
  {
   "cell_type": "code",
   "execution_count": 117,
   "id": "38a05127-4b50-4950-8162-eddef56f02af",
   "metadata": {},
   "outputs": [
    {
     "ename": "ValueError",
     "evalue": "zero-size array to reduction operation maximum which has no identity",
     "output_type": "error",
     "traceback": [
      "\u001b[1;31m---------------------------------------------------------------------------\u001b[0m",
      "\u001b[1;31mValueError\u001b[0m                                Traceback (most recent call last)",
      "Cell \u001b[1;32mIn [117], line 1\u001b[0m\n\u001b[1;32m----> 1\u001b[0m \u001b[43mhumap\u001b[49m\u001b[43m(\u001b[49m\u001b[43madata\u001b[49m\u001b[43m)\u001b[49m\n",
      "File \u001b[1;32m~\\pycharm\\pytometry\\notebooks\\_humap.py:50\u001b[0m, in \u001b[0;36mhumap\u001b[1;34m(adata, channel_idx, beta, beta_thresh, teta, n_scales)\u001b[0m\n\u001b[0;32m     46\u001b[0m \u001b[38;5;66;03m# Create first scale\u001b[39;00m\n\u001b[0;32m     47\u001b[0m s_root \u001b[38;5;241m=\u001b[39m _Scale(X\u001b[38;5;241m=\u001b[39madata\u001b[38;5;241m.\u001b[39mX[:,channel_idx], W\u001b[38;5;241m=\u001b[39m\u001b[38;5;241m1\u001b[39m)  \u001b[38;5;66;03m# reduced x to channels_idx\u001b[39;00m\n\u001b[1;32m---> 50\u001b[0m s_root\u001b[38;5;241m.\u001b[39mT \u001b[38;5;241m=\u001b[39m \u001b[43m_calc_first_T\u001b[49m\u001b[43m(\u001b[49m\u001b[43mdistances_nn\u001b[49m\u001b[43m,\u001b[49m\u001b[43m \u001b[49m\u001b[38;5;28;43mlen\u001b[39;49m\u001b[43m(\u001b[49m\u001b[43madata\u001b[49m\u001b[38;5;241;43m.\u001b[39;49m\u001b[43mX\u001b[49m\u001b[43m)\u001b[49m\u001b[43m)\u001b[49m\n\u001b[0;32m     51\u001b[0m s_root\u001b[38;5;241m.\u001b[39mP \u001b[38;5;241m=\u001b[39m _calc_P(s_root\u001b[38;5;241m.\u001b[39mT)\n\u001b[0;32m     52\u001b[0m \u001b[38;5;66;03m# Construct a temporary adata to store weighted adjacency matrix\u001b[39;00m\n",
      "File \u001b[1;32m~\\pycharm\\pytometry\\notebooks\\_humap.py:217\u001b[0m, in \u001b[0;36m_calc_first_T\u001b[1;34m(distances_nn, dim)\u001b[0m\n\u001b[0;32m    215\u001b[0m probs \u001b[38;5;241m=\u001b[39m \u001b[38;5;28mmap\u001b[39m(_helper_method_calc_T, [dist\u001b[38;5;241m.\u001b[39mdata \u001b[38;5;28;01mfor\u001b[39;00m dist \u001b[38;5;129;01min\u001b[39;00m distances_nn])\n\u001b[0;32m    216\u001b[0m data \u001b[38;5;241m=\u001b[39m []\n\u001b[1;32m--> 217\u001b[0m \u001b[38;5;28;01mfor\u001b[39;00m pr \u001b[38;5;129;01min\u001b[39;00m probs:\n\u001b[0;32m    218\u001b[0m     data\u001b[38;5;241m.\u001b[39mextend(pr)\n\u001b[0;32m    219\u001b[0m T \u001b[38;5;241m=\u001b[39m csr_matrix((data, distances_nn\u001b[38;5;241m.\u001b[39mindices, distances_nn\u001b[38;5;241m.\u001b[39mindptr), shape\u001b[38;5;241m=\u001b[39m(dim, dim))\n",
      "File \u001b[1;32m~\\pycharm\\pytometry\\notebooks\\_humap.py:224\u001b[0m, in \u001b[0;36m_helper_method_calc_T\u001b[1;34m(dist)\u001b[0m\n\u001b[0;32m    223\u001b[0m \u001b[38;5;28;01mdef\u001b[39;00m \u001b[38;5;21m_helper_method_calc_T\u001b[39m(dist):\n\u001b[1;32m--> 224\u001b[0m     d \u001b[38;5;241m=\u001b[39m dist \u001b[38;5;241m/\u001b[39m \u001b[43mnp\u001b[49m\u001b[38;5;241;43m.\u001b[39;49m\u001b[43mmax\u001b[49m\u001b[43m(\u001b[49m\u001b[43mdist\u001b[49m\u001b[43m)\u001b[49m\n\u001b[0;32m    225\u001b[0m     \u001b[38;5;28;01mreturn\u001b[39;00m softmax((\u001b[38;5;241m-\u001b[39md \u001b[38;5;241m*\u001b[39m\u001b[38;5;241m*\u001b[39m \u001b[38;5;241m2\u001b[39m) \u001b[38;5;241m/\u001b[39m _binary_search_sigma(d, \u001b[38;5;28mlen\u001b[39m(d)))\n",
      "File \u001b[1;32m<__array_function__ internals>:180\u001b[0m, in \u001b[0;36mamax\u001b[1;34m(*args, **kwargs)\u001b[0m\n",
      "File \u001b[1;32m~\\pycharm\\pytometry\\venv\\lib\\site-packages\\numpy\\core\\fromnumeric.py:2793\u001b[0m, in \u001b[0;36mamax\u001b[1;34m(a, axis, out, keepdims, initial, where)\u001b[0m\n\u001b[0;32m   2677\u001b[0m \u001b[38;5;129m@array_function_dispatch\u001b[39m(_amax_dispatcher)\n\u001b[0;32m   2678\u001b[0m \u001b[38;5;28;01mdef\u001b[39;00m \u001b[38;5;21mamax\u001b[39m(a, axis\u001b[38;5;241m=\u001b[39m\u001b[38;5;28;01mNone\u001b[39;00m, out\u001b[38;5;241m=\u001b[39m\u001b[38;5;28;01mNone\u001b[39;00m, keepdims\u001b[38;5;241m=\u001b[39mnp\u001b[38;5;241m.\u001b[39m_NoValue, initial\u001b[38;5;241m=\u001b[39mnp\u001b[38;5;241m.\u001b[39m_NoValue,\n\u001b[0;32m   2679\u001b[0m          where\u001b[38;5;241m=\u001b[39mnp\u001b[38;5;241m.\u001b[39m_NoValue):\n\u001b[0;32m   2680\u001b[0m     \u001b[38;5;124;03m\"\"\"\u001b[39;00m\n\u001b[0;32m   2681\u001b[0m \u001b[38;5;124;03m    Return the maximum of an array or maximum along an axis.\u001b[39;00m\n\u001b[0;32m   2682\u001b[0m \n\u001b[1;32m   (...)\u001b[0m\n\u001b[0;32m   2791\u001b[0m \u001b[38;5;124;03m    5\u001b[39;00m\n\u001b[0;32m   2792\u001b[0m \u001b[38;5;124;03m    \"\"\"\u001b[39;00m\n\u001b[1;32m-> 2793\u001b[0m     \u001b[38;5;28;01mreturn\u001b[39;00m \u001b[43m_wrapreduction\u001b[49m\u001b[43m(\u001b[49m\u001b[43ma\u001b[49m\u001b[43m,\u001b[49m\u001b[43m \u001b[49m\u001b[43mnp\u001b[49m\u001b[38;5;241;43m.\u001b[39;49m\u001b[43mmaximum\u001b[49m\u001b[43m,\u001b[49m\u001b[43m \u001b[49m\u001b[38;5;124;43m'\u001b[39;49m\u001b[38;5;124;43mmax\u001b[39;49m\u001b[38;5;124;43m'\u001b[39;49m\u001b[43m,\u001b[49m\u001b[43m \u001b[49m\u001b[43maxis\u001b[49m\u001b[43m,\u001b[49m\u001b[43m \u001b[49m\u001b[38;5;28;43;01mNone\u001b[39;49;00m\u001b[43m,\u001b[49m\u001b[43m \u001b[49m\u001b[43mout\u001b[49m\u001b[43m,\u001b[49m\n\u001b[0;32m   2794\u001b[0m \u001b[43m                          \u001b[49m\u001b[43mkeepdims\u001b[49m\u001b[38;5;241;43m=\u001b[39;49m\u001b[43mkeepdims\u001b[49m\u001b[43m,\u001b[49m\u001b[43m \u001b[49m\u001b[43minitial\u001b[49m\u001b[38;5;241;43m=\u001b[39;49m\u001b[43minitial\u001b[49m\u001b[43m,\u001b[49m\u001b[43m \u001b[49m\u001b[43mwhere\u001b[49m\u001b[38;5;241;43m=\u001b[39;49m\u001b[43mwhere\u001b[49m\u001b[43m)\u001b[49m\n",
      "File \u001b[1;32m~\\pycharm\\pytometry\\venv\\lib\\site-packages\\numpy\\core\\fromnumeric.py:86\u001b[0m, in \u001b[0;36m_wrapreduction\u001b[1;34m(obj, ufunc, method, axis, dtype, out, **kwargs)\u001b[0m\n\u001b[0;32m     83\u001b[0m         \u001b[38;5;28;01melse\u001b[39;00m:\n\u001b[0;32m     84\u001b[0m             \u001b[38;5;28;01mreturn\u001b[39;00m reduction(axis\u001b[38;5;241m=\u001b[39maxis, out\u001b[38;5;241m=\u001b[39mout, \u001b[38;5;241m*\u001b[39m\u001b[38;5;241m*\u001b[39mpasskwargs)\n\u001b[1;32m---> 86\u001b[0m \u001b[38;5;28;01mreturn\u001b[39;00m ufunc\u001b[38;5;241m.\u001b[39mreduce(obj, axis, dtype, out, \u001b[38;5;241m*\u001b[39m\u001b[38;5;241m*\u001b[39mpasskwargs)\n",
      "\u001b[1;31mValueError\u001b[0m: zero-size array to reduction operation maximum which has no identity"
     ]
    }
   ],
   "source": [
    "humap(adata)"
   ]
  },
  {
   "cell_type": "code",
   "execution_count": 111,
   "id": "d33bfadb-970e-45d0-9371-45a01c6dc196",
   "metadata": {},
   "outputs": [],
   "source": [
    "dd = sc.datasets.pbmc68k_reduced()"
   ]
  },
  {
   "cell_type": "code",
   "execution_count": 114,
   "id": "cf88b306-19e5-41fd-9579-063f29fbe54c",
   "metadata": {},
   "outputs": [
    {
     "data": {
      "text/plain": [
       "700"
      ]
     },
     "execution_count": 114,
     "metadata": {},
     "output_type": "execute_result"
    }
   ],
   "source": [
    "len(dd.X)"
   ]
  },
  {
   "cell_type": "code",
   "execution_count": 115,
   "id": "fc02bba9-ee41-4aad-999b-601c104ef81e",
   "metadata": {},
   "outputs": [
    {
     "data": {
      "text/plain": [
       "(700, 765)"
      ]
     },
     "execution_count": 115,
     "metadata": {},
     "output_type": "execute_result"
    }
   ],
   "source": [
    "dd.X.shape"
   ]
  },
  {
   "cell_type": "code",
   "execution_count": null,
   "id": "5cca7e31-2670-4451-83b8-9ad92d381e9a",
   "metadata": {},
   "outputs": [],
   "source": []
  },
  {
   "cell_type": "code",
   "execution_count": null,
   "id": "98012838-f354-4b44-a4fa-7ef85e15336c",
   "metadata": {},
   "outputs": [],
   "source": []
  },
  {
   "cell_type": "code",
   "execution_count": null,
   "id": "571cb8b2-3766-4f23-b5d2-ac9b6ebae7ae",
   "metadata": {},
   "outputs": [],
   "source": []
  },
  {
   "cell_type": "code",
   "execution_count": null,
   "id": "aba8145c-0db4-4c1d-88b1-0f29d68312e0",
   "metadata": {},
   "outputs": [],
   "source": []
  },
  {
   "cell_type": "code",
   "execution_count": null,
   "id": "c40f42c8-d567-47b0-b524-de30148ce11e",
   "metadata": {},
   "outputs": [],
   "source": []
  },
  {
   "cell_type": "code",
   "execution_count": null,
   "id": "db810e1e-de38-4836-8991-fb04716a2b49",
   "metadata": {},
   "outputs": [],
   "source": []
  },
  {
   "cell_type": "code",
   "execution_count": null,
   "id": "c25154c2-9edb-40b0-be18-2b3d278b167d",
   "metadata": {},
   "outputs": [],
   "source": []
  },
  {
   "cell_type": "code",
   "execution_count": null,
   "id": "d1bd8635-1845-462d-9e2b-9ad5d5b32a2a",
   "metadata": {},
   "outputs": [],
   "source": []
  },
  {
   "cell_type": "code",
   "execution_count": null,
   "id": "621c50d1-c8eb-4d58-b8de-38c00a9ff0af",
   "metadata": {},
   "outputs": [],
   "source": []
  },
  {
   "cell_type": "code",
   "execution_count": null,
   "id": "0c3fade3-1c0e-4433-8828-be0bd4e39bfb",
   "metadata": {},
   "outputs": [],
   "source": []
  },
  {
   "cell_type": "code",
   "execution_count": null,
   "id": "0109a8ed-27c5-4869-9952-fb84f713ed8f",
   "metadata": {},
   "outputs": [],
   "source": []
  },
  {
   "cell_type": "code",
   "execution_count": null,
   "id": "24d7f6ee-617e-468e-b7f1-bdf7d65b1aaa",
   "metadata": {},
   "outputs": [],
   "source": []
  },
  {
   "cell_type": "code",
   "execution_count": null,
   "id": "62f42f04-ce88-4484-bfb5-3e74811a3504",
   "metadata": {},
   "outputs": [],
   "source": []
  },
  {
   "cell_type": "code",
   "execution_count": null,
   "id": "53e08880-63ea-4ca2-ba99-ca32ca6a016f",
   "metadata": {},
   "outputs": [],
   "source": []
  },
  {
   "cell_type": "code",
   "execution_count": null,
   "id": "e0dcc8d0-6a56-4baf-9553-f745a4cbd5ee",
   "metadata": {},
   "outputs": [],
   "source": []
  },
  {
   "cell_type": "code",
   "execution_count": null,
   "id": "39dd85a9-d1c1-4ff0-a970-550b180e30eb",
   "metadata": {},
   "outputs": [],
   "source": []
  },
  {
   "cell_type": "code",
   "execution_count": null,
   "id": "b2d917ab-fa5b-4547-9dc5-310a467dfc7d",
   "metadata": {},
   "outputs": [],
   "source": []
  },
  {
   "cell_type": "code",
   "execution_count": null,
   "id": "4e621f2e-5167-4d89-9ccf-6b2abc0c3db9",
   "metadata": {},
   "outputs": [],
   "source": []
  },
  {
   "cell_type": "code",
   "execution_count": null,
   "id": "168a091e-efa5-4022-84c6-1adf06a544df",
   "metadata": {},
   "outputs": [],
   "source": []
  },
  {
   "cell_type": "code",
   "execution_count": null,
   "id": "db28cffc-b82b-407e-acf1-fdf1e8a2bf01",
   "metadata": {},
   "outputs": [],
   "source": []
  },
  {
   "cell_type": "code",
   "execution_count": null,
   "id": "bcb55bb3-96e5-4481-b366-bce4615e0583",
   "metadata": {},
   "outputs": [],
   "source": []
  },
  {
   "cell_type": "code",
   "execution_count": null,
   "id": "93cc1fc7-40d2-4d56-bc0c-feaad0afce24",
   "metadata": {},
   "outputs": [],
   "source": []
  },
  {
   "cell_type": "code",
   "execution_count": null,
   "id": "eeb93eb2-2fdb-4095-ba54-47171ebbe355",
   "metadata": {},
   "outputs": [],
   "source": []
  },
  {
   "cell_type": "code",
   "execution_count": null,
   "id": "657fdf05-5a12-434e-88b0-187bf6aca2b4",
   "metadata": {},
   "outputs": [],
   "source": []
  },
  {
   "cell_type": "code",
   "execution_count": null,
   "id": "528485f9-d710-414d-8ec4-cf53d526b8c6",
   "metadata": {},
   "outputs": [],
   "source": []
  },
  {
   "cell_type": "code",
   "execution_count": null,
   "id": "e028353f-fe12-47d5-9284-46e7712c66db",
   "metadata": {},
   "outputs": [],
   "source": []
  },
  {
   "cell_type": "code",
   "execution_count": null,
   "id": "8fb03443-4f37-4ce9-923f-3cf0735755ee",
   "metadata": {},
   "outputs": [],
   "source": []
  },
  {
   "cell_type": "code",
   "execution_count": null,
   "id": "ab74697b-91ca-4e1d-a371-e229e33f3037",
   "metadata": {},
   "outputs": [],
   "source": []
  },
  {
   "cell_type": "code",
   "execution_count": null,
   "id": "cbe31cba-8350-400a-94de-cf3d82156b7e",
   "metadata": {},
   "outputs": [],
   "source": []
  },
  {
   "cell_type": "code",
   "execution_count": null,
   "id": "3d20e53d-ffa2-4068-b8be-d5f00bba4718",
   "metadata": {},
   "outputs": [],
   "source": []
  },
  {
   "cell_type": "code",
   "execution_count": null,
   "id": "8992a99c-559e-457d-b7fe-9952b10a53ec",
   "metadata": {},
   "outputs": [],
   "source": []
  },
  {
   "cell_type": "code",
   "execution_count": null,
   "id": "24d3bbb5-3f94-45f6-b878-d41fd8ac3836",
   "metadata": {},
   "outputs": [],
   "source": []
  }
 ],
 "metadata": {
  "kernelspec": {
   "display_name": "Python 3 (ipykernel)",
   "language": "python",
   "name": "python3"
  },
  "language_info": {
   "codemirror_mode": {
    "name": "ipython",
    "version": 3
   },
   "file_extension": ".py",
   "mimetype": "text/x-python",
   "name": "python",
   "nbconvert_exporter": "python",
   "pygments_lexer": "ipython3",
   "version": "3.9.7"
  }
 },
 "nbformat": 4,
 "nbformat_minor": 5
}
