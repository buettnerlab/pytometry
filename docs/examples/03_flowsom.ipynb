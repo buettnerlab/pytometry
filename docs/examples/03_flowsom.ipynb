{
 "cells": [
  {
   "cell_type": "markdown",
   "id": "ff06eb1f0836d8a4",
   "metadata": {},
   "source": [
    "# FlowSOM Clustering\n",
    "\n",
    "In this tutorial we are going to review how you can use FlowSOM to cluster single cell cytometry data. To demonstrate the FlowSOM algorithm we will be using the Levine 32 dimensional mass cytometry data originally introduced in the Phenograph paper \"Data-Driven Phenotypic Dissection of AML Reveals Progenitor-like Cells that Correlate with Prognosis\" in 2015 (https://pubmed.ncbi.nlm.nih.gov/26095251/). You can obtain the Levine data from this GitHub repository: https://github.com/lmweber/benchmark-data-Levine-32-dim/tree/master/data."
   ]
  },
  {
   "cell_type": "code",
   "execution_count": null,
   "id": "fa01f5013e68d3d2",
   "metadata": {},
   "outputs": [],
   "source": [
    "import scanpy as sc\n",
    "import anndata as ann\n",
    "import numpy as np\n",
    "import scipy as sp\n",
    "import pandas as pd\n",
    "import matplotlib.pyplot as pl\n",
    "from matplotlib import rcParams\n",
    "from matplotlib import colors\n",
    "import seaborn as sb\n",
    "import datetime\n",
    "import pytometry as pm\n",
    "\n",
    "\n",
    "sc.logging.print_versions()\n",
    "sc.settings.verbosity = 3"
   ]
  },
  {
   "cell_type": "markdown",
   "id": "c80a1463-aadd-456b-af93-249b1f5fe128",
   "metadata": {},
   "source": [
    "First we will load the data."
   ]
  },
  {
   "cell_type": "code",
   "execution_count": null,
   "id": "f49ea1ff-7afc-4b4a-a742-c57163abe2eb",
   "metadata": {},
   "outputs": [],
   "source": [
    "adata = pm.io.read_fcs(\"./Levine_32dim_notransform.fcs\")"
   ]
  },
  {
   "cell_type": "code",
   "execution_count": null,
   "id": "95ff14ef-3a04-406e-b3a6-fd411d2fb197",
   "metadata": {},
   "outputs": [],
   "source": [
    "adata.var"
   ]
  },
  {
   "cell_type": "markdown",
   "id": "0a35d260-95a1-4f6d-a31d-47836ad6718d",
   "metadata": {},
   "source": [
    "As you can see, the dataset consists of numerous channels and some meta-variables such as individual and label."
   ]
  },
  {
   "cell_type": "code",
   "execution_count": null,
   "id": "5d5013f1-44ad-4072-b835-0850054b46ba",
   "metadata": {},
   "outputs": [],
   "source": [
    "adata[:, \"label\"].to_df()[\"label\"].value_counts(dropna=False)"
   ]
  },
  {
   "cell_type": "code",
   "execution_count": null,
   "id": "a40b930c-6605-4f1c-b408-713dd74118ee",
   "metadata": {},
   "outputs": [],
   "source": [
    "adata[:, \"individual\"].to_df()[\"individual\"].value_counts(dropna=False)"
   ]
  },
  {
   "cell_type": "code",
   "execution_count": null,
   "id": "7d4b0412-bc40-4c5e-81fc-d73b8ed95510",
   "metadata": {},
   "outputs": [],
   "source": [
    "channels = [\n",
    "    \"DNA1\",\n",
    "    \"DNA2\",\n",
    "    \"CD45RA\",\n",
    "    \"CD133\",\n",
    "    \"CD19\",\n",
    "    \"CD22\",\n",
    "    \"CD11b\",\n",
    "    \"CD4\",\n",
    "    \"CD8\",\n",
    "    \"CD34\",\n",
    "    \"Flt3\",\n",
    "    \"CD20\",\n",
    "    \"CXCR4\",\n",
    "    \"CD235ab\",\n",
    "    \"CD45\",\n",
    "    \"CD123\",\n",
    "    \"CD321\",\n",
    "    \"CD14\",\n",
    "    \"CD33\",\n",
    "    \"CD47\",\n",
    "    \"CD11c\",\n",
    "    \"CD7\",\n",
    "    \"CD15\",\n",
    "    \"CD16\",\n",
    "    \"CD44\",\n",
    "    \"CD38\",\n",
    "    \"CD13\",\n",
    "    \"CD3\",\n",
    "    \"CD61\",\n",
    "    \"CD117\",\n",
    "    \"CD49d\",\n",
    "    \"HLA-DR\",\n",
    "    \"CD64\",\n",
    "    \"CD41\",\n",
    "]"
   ]
  },
  {
   "cell_type": "markdown",
   "id": "8003a787-9ad9-4688-bd30-dda207e2507d",
   "metadata": {},
   "source": [
    "We want to normalise the channels with a hyperbolic inverse sine with cofactor 5 (as performed in the original paper)"
   ]
  },
  {
   "cell_type": "code",
   "execution_count": null,
   "id": "b49ccd24-5005-48cd-962d-d8c05fc6c084",
   "metadata": {},
   "outputs": [],
   "source": [
    "adata_arcsinh = pm.tl.normalize_arcsinh(adata[:, channels], cofactor=5, inplace=False)"
   ]
  },
  {
   "cell_type": "markdown",
   "id": "bf080288-0208-4c1e-8f2f-0206d8f36d2f",
   "metadata": {},
   "source": [
    "We can now cluster our data with the `flowsom_clustering` function from the `tl` (tools) module of `pytometry`. The FlowSOM algorithm works in the following stages:\n",
    "1. A self-organising map is trained that learns a low dimensional embedding of the single cell feature space\n",
    "2. Consensus clustering (https://github.com/burtonrj/consensusclustering) of the SOM nodes identifies the optimal number of clusters to retain\n",
    "3. Each observation is assigned to a cluster according to its nearest meta-cluster in the SOM\n",
    "\n",
    "The function is going to take as input:\n",
    "* `adata` - our annotated dataframe of normalised channels\n",
    "* `key_added` - the key to add the cluster labels under\n",
    "* `som_dim` - the size of the self-organising map; (10, 10) is the default size used by the original FlowSOM implementation and usually does not need to be altered\n",
    "* `sigma` - this controls the radius of the neighbourhood function and again the default value of 1.0 works well in most cases\n",
    "* `learning_rate` - controls the size of weight vector in learning of SOM and the default value of 0.5 works well in most cases\n",
    "* `batch_size` - adjust if you have memory constraints \n",
    "* `seed` - random seed for reproducibility\n",
    "* `min_clusters` - the minimum number of clusters when searching for the optimal number of clusters in consensus clustering\n",
    "* `max_clusters` - the maximum number of clusters when searching for the optimal number of clusters in consensus clustering\n",
    "* `return_clustering_objs` - if True, the SOM and Consensus Clustering objects are returned; this can be helpful for inspecting the results as shown later\n",
    "* `verbose` - show progress bars etc\n",
    "* `copy` - copy the `adata` object (recommended)\n",
    "* `agglomerative_clustering_kwargs` - keyword arguments passed to the `AgglomerativeClustering` Scikit-Learn object used by the consensus clustering"
   ]
  },
  {
   "cell_type": "code",
   "execution_count": null,
   "id": "dc0cc303-d59e-417f-956e-7653d61a292a",
   "metadata": {},
   "outputs": [],
   "source": [
    "adata_flowsom, cluster_objs = pm.tl.flowsom_clustering(\n",
    "    adata=adata_arcsinh,\n",
    "    key_added=\"flowsom_clusters\",\n",
    "    som_dim=(10, 10),\n",
    "    sigma=1.0,\n",
    "    learning_rate=0.5,\n",
    "    batch_size=500,\n",
    "    seed=42,\n",
    "    min_clusters=10,\n",
    "    max_clusters=20,\n",
    "    return_clustering_objs=True,\n",
    "    verbose=True,\n",
    "    inplace=True,\n",
    "    agglomerative_clustering_kwargs={\"metric\": \"euclidean\", \"linkage\": \"ward\"},\n",
    ")"
   ]
  },
  {
   "cell_type": "code",
   "execution_count": null,
   "id": "a07029fa-b314-4b92-873f-77c3359ff85d",
   "metadata": {},
   "outputs": [],
   "source": [
    "adata_flowsom.obs[\"flowsom_clusters\"].value_counts()"
   ]
  },
  {
   "cell_type": "markdown",
   "id": "f00ca1c1-a938-4d43-86b9-108d929c3e19",
   "metadata": {},
   "source": [
    "FlowSOM has generated 15 clusters. Lets visualise them using PCA and UMAP:"
   ]
  },
  {
   "cell_type": "code",
   "execution_count": null,
   "id": "228110db-7c0f-40b1-8811-863bb4beedf6",
   "metadata": {},
   "outputs": [],
   "source": [
    "sc.pp.pca(adata_flowsom)\n",
    "pl.rcParams[\"figure.figsize\"] = (5, 5)\n",
    "sc.pl.pca_overview(\n",
    "    adata_flowsom,\n",
    "    color=\"flowsom_clusters\",\n",
    ")"
   ]
  },
  {
   "cell_type": "code",
   "execution_count": null,
   "id": "e0f65c9d-4e67-4092-a5a6-82325faaa018",
   "metadata": {},
   "outputs": [],
   "source": [
    "sc.pp.pca(adata_flowsom, n_comps=10)\n",
    "sc.pp.neighbors(adata_flowsom, n_neighbors=15, use_rep=\"X_pca\")"
   ]
  },
  {
   "cell_type": "code",
   "execution_count": null,
   "id": "c54851e5-2337-4ecb-ab5b-ffdb5b524bb7",
   "metadata": {},
   "outputs": [],
   "source": [
    "sc.tl.umap(adata_flowsom)"
   ]
  },
  {
   "cell_type": "code",
   "execution_count": null,
   "id": "6d5d492e-3b84-4150-acde-4861f2a08c44",
   "metadata": {},
   "outputs": [],
   "source": [
    "sc.pl.umap(adata_flowsom, color=\"flowsom_clusters\")"
   ]
  },
  {
   "cell_type": "markdown",
   "id": "c0355d79-ccad-4b7d-bd85-c2a613391f62",
   "metadata": {},
   "source": [
    "We can inspect why 15 clusters were chosen by accessing the `ConsensusClustering` object returned by the our FlowSOM function. Consensus clustering works by calculating the consensus matrix of observations across random resamples of our data - stable clustering should result in observations consistently existing within the same or different clusters, if they sometimes appear in the same cluster or sometime do not, this suggests the clustering is unstable.\n",
    "\n",
    "We can plot the CDF of the consensus matrix across different `k` clusters and observe the change point at which the area under the CDF no longer increased with the same magnitude. The plots below show the change point as detected by consensus clustering (first plot) and the CDF for each value of `k` (second plot)."
   ]
  },
  {
   "cell_type": "code",
   "execution_count": null,
   "id": "45dbb825-438c-446f-a8f8-e5908960ad18",
   "metadata": {},
   "outputs": [],
   "source": [
    "cluster_objs[\"consensus_clustering\"].plot_auc_cdf()"
   ]
  },
  {
   "cell_type": "code",
   "execution_count": null,
   "id": "2c5d1809-7133-409b-9b30-065a85b2580c",
   "metadata": {},
   "outputs": [],
   "source": [
    "cluster_objs[\"consensus_clustering\"].plot_cdf()"
   ]
  },
  {
   "cell_type": "markdown",
   "id": "b465cdf7-9662-46a8-9ae2-cfef6cfb0807",
   "metadata": {},
   "source": [
    "The change in CDF below and above a `k` of 15 is subtle and we would expect ideal clustering to have consensus index values occuring around 0 or 1, but biological data is often noisy and consensus clusters can be difficult to identify.\n",
    "\n",
    "The consensus matrix for the chosen `k` of 15 is shown below. Notice how for many observations a clear consensus is established along the diagonal but some observations are more difficult and have a 'fuzzy' allocation across clusters."
   ]
  },
  {
   "cell_type": "code",
   "execution_count": null,
   "id": "971831c3-0289-4f9c-b52c-9faeab3b0628",
   "metadata": {},
   "outputs": [],
   "source": [
    "cluster_objs[\"consensus_clustering\"].plot_clustermap(15, figsize=(6, 6))"
   ]
  }
 ],
 "metadata": {
  "kernelspec": {
   "display_name": "pytometry",
   "language": "python",
   "name": "pytometry"
  },
  "language_info": {
   "codemirror_mode": {
    "name": "ipython",
    "version": 3
   },
   "file_extension": ".py",
   "mimetype": "text/x-python",
   "name": "python",
   "nbconvert_exporter": "python",
   "pygments_lexer": "ipython3",
   "version": "3.10.12"
  }
 },
 "nbformat": 4,
 "nbformat_minor": 5
}
