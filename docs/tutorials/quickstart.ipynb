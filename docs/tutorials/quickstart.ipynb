{
 "cells": [
  {
   "cell_type": "markdown",
   "id": "7f26a335-cf1c-4e69-be3b-0c26b154606a",
   "metadata": {},
   "source": [
    "# Quickstart"
   ]
  },
  {
   "cell_type": "code",
   "execution_count": null,
   "id": "a51faaf3-ee27-43c6-b48d-13be1adb5c46",
   "metadata": {},
   "outputs": [],
   "source": [
    "import pytometry as pm\n",
    "import readfcs\n",
    "import anndata"
   ]
  },
  {
   "cell_type": "markdown",
   "id": "e40e3302",
   "metadata": {},
   "source": [
    "Read fcs file example from the `readfcs` package."
   ]
  },
  {
   "cell_type": "code",
   "execution_count": null,
   "id": "fa758625-efb0-4047-9a03-aa534bf6f78e",
   "metadata": {},
   "outputs": [],
   "source": [
    "path_data = readfcs.datasets.example()"
   ]
  },
  {
   "cell_type": "code",
   "execution_count": null,
   "id": "ad22eec0-8f75-4e0b-a132-8a43ccb09b37",
   "metadata": {},
   "outputs": [],
   "source": [
    "adata = pm.io.read_fcs(path_data)"
   ]
  },
  {
   "cell_type": "code",
   "execution_count": null,
   "id": "8d571a05",
   "metadata": {},
   "outputs": [],
   "source": [
    "assert isinstance(adata, anndata._core.anndata.AnnData)"
   ]
  },
  {
   "cell_type": "markdown",
   "id": "995de332",
   "metadata": {},
   "source": [
    "Save data to `HDF5` file format."
   ]
  },
  {
   "cell_type": "code",
   "execution_count": null,
   "id": "8bf01623-742e-425a-973d-132fc61c3d9c",
   "metadata": {},
   "outputs": [],
   "source": [
    "adata.write(\"example.h5ad\")"
   ]
  }
 ],
 "metadata": {
  "kernelspec": {
   "display_name": "Python 3.9.13 64-bit",
   "language": "python",
   "name": "python3"
  },
  "language_info": {
   "codemirror_mode": {
    "name": "ipython",
    "version": 3
   },
   "file_extension": ".py",
   "mimetype": "text/x-python",
   "name": "python",
   "nbconvert_exporter": "python",
   "pygments_lexer": "ipython3",
   "version": "3.9.13"
  },
  "vscode": {
   "interpreter": {
    "hash": "b0fa6594d8f4cbf19f97940f81e996739fb7646882a419484c72d19e05852a7e"
   }
  }
 },
 "nbformat": 4,
 "nbformat_minor": 5
}
