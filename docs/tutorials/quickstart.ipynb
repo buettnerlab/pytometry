{
 "cells": [
  {
   "attachments": {},
   "cell_type": "markdown",
   "id": "7f26a335-cf1c-4e69-be3b-0c26b154606a",
   "metadata": {},
   "source": [
    "# Quickstart"
   ]
  },
  {
   "cell_type": "code",
   "execution_count": null,
   "id": "a51faaf3-ee27-43c6-b48d-13be1adb5c46",
   "metadata": {},
   "outputs": [],
   "source": [
    "import pytometry as pm\n",
    "import readfcs\n",
    "import anndata\n",
    "from matplotlib import rcParams"
   ]
  },
  {
   "attachments": {},
   "cell_type": "markdown",
   "id": "e40e3302",
   "metadata": {},
   "source": [
    "Read fcs file example from the `readfcs` package. The fcs file was part of the following [reference](https://insight.jci.org/articles/view/124928) and originally deposited on the [FlowRepository](http://flowrepository.org/id/FR-FCM-ZYQ9)."
   ]
  },
  {
   "cell_type": "code",
   "execution_count": null,
   "id": "fa758625-efb0-4047-9a03-aa534bf6f78e",
   "metadata": {},
   "outputs": [],
   "source": [
    "path_data = readfcs.datasets.Oetjen18_t1()"
   ]
  },
  {
   "cell_type": "code",
   "execution_count": null,
   "id": "ad22eec0-8f75-4e0b-a132-8a43ccb09b37",
   "metadata": {},
   "outputs": [],
   "source": [
    "adata = pm.io.read_fcs(path_data)"
   ]
  },
  {
   "cell_type": "code",
   "execution_count": null,
   "id": "8d571a05",
   "metadata": {},
   "outputs": [],
   "source": [
    "assert isinstance(adata, anndata._core.anndata.AnnData)"
   ]
  },
  {
   "attachments": {},
   "cell_type": "markdown",
   "id": "240c10ff",
   "metadata": {},
   "source": [
    "Next, we split the data matrix into the marker intensity part and the FSC/SSC part. Moreover, we move all height related features to the `.obs` part of the anndata file. Notably. the function `split_signal` checks if a feature name is either FSC/SSC or whether a name endswith `-A` for area related features and `-H` for height related features.   "
   ]
  },
  {
   "cell_type": "code",
   "execution_count": null,
   "id": "ef471352",
   "metadata": {},
   "outputs": [],
   "source": [
    "pm.pp.split_signal(adata, var_key=\"channel\")"
   ]
  },
  {
   "attachments": {},
   "cell_type": "markdown",
   "id": "f3da5f0f",
   "metadata": {},
   "source": [
    "We can plot the fluorescent marker intensity distribution with the `plotdata` function."
   ]
  },
  {
   "cell_type": "code",
   "execution_count": null,
   "id": "2b1204cf",
   "metadata": {},
   "outputs": [],
   "source": [
    "pm.pl.plotdata(adata)"
   ]
  },
  {
   "attachments": {},
   "cell_type": "markdown",
   "id": "66cac425",
   "metadata": {},
   "source": [
    "For 2D distribution plots, we use the `scatter_density` function."
   ]
  },
  {
   "cell_type": "code",
   "execution_count": null,
   "id": "5fb73d4d",
   "metadata": {},
   "outputs": [],
   "source": [
    "rcParams[\"figure.figsize\"] = (6, 5)\n",
    "pm.pl.scatter_density(adata, x_lim=[-5e3, 2e5], y_lim=[-5e3, 2e5])"
   ]
  },
  {
   "cell_type": "markdown",
   "id": "29e11870",
   "metadata": {},
   "source": [
    "Compensate with the compensation matrix that is deposited in the FCS file. The `compensate` function also accepts a custom compensation matrix. "
   ]
  },
  {
   "cell_type": "code",
   "execution_count": null,
   "id": "5d94e857",
   "metadata": {},
   "outputs": [],
   "source": [
    "pm.pp.compensate(adata)"
   ]
  },
  {
   "cell_type": "markdown",
   "id": "2200fd8d",
   "metadata": {},
   "source": [
    "For normalization, `pytometry` provides several different approaches:"
   ]
  },
  {
   "cell_type": "code",
   "execution_count": null,
   "id": "ac74dd0e",
   "metadata": {},
   "outputs": [],
   "source": [
    "adata_arcsinh = pm.tl.normalize_arcsinh(adata, cofactor=150, inplace=False)"
   ]
  },
  {
   "cell_type": "code",
   "execution_count": null,
   "id": "4a6efc35",
   "metadata": {},
   "outputs": [],
   "source": [
    "adata_biexp = pm.tl.normalize_biExp(adata, inplace=False)"
   ]
  },
  {
   "cell_type": "code",
   "execution_count": null,
   "id": "828cf9c1",
   "metadata": {},
   "outputs": [],
   "source": [
    "adata_logicle = pm.tl.normalize_logicle(adata, inplace=False)"
   ]
  },
  {
   "cell_type": "code",
   "execution_count": null,
   "id": "f528f69a",
   "metadata": {},
   "outputs": [],
   "source": [
    "adata_autologicle = pm.tl.normalize_autologicle(adata, inplace=False)"
   ]
  },
  {
   "attachments": {},
   "cell_type": "markdown",
   "id": "995de332",
   "metadata": {},
   "source": [
    "Save data to `HDF5` file format."
   ]
  },
  {
   "cell_type": "code",
   "execution_count": null,
   "id": "8bf01623-742e-425a-973d-132fc61c3d9c",
   "metadata": {},
   "outputs": [],
   "source": [
    "adata.write(\"example.h5ad\")"
   ]
  }
 ],
 "metadata": {
  "kernelspec": {
   "display_name": "Python 3 (ipykernel)",
   "language": "python",
   "name": "python3"
  },
  "language_info": {
   "codemirror_mode": {
    "name": "ipython",
    "version": 3
   },
   "file_extension": ".py",
   "mimetype": "text/x-python",
   "name": "python",
   "nbconvert_exporter": "python",
   "pygments_lexer": "ipython3",
   "version": "3.9.18"
  },
  "vscode": {
   "interpreter": {
    "hash": "48c3c4927e81daf79217bae0bb1c93e3ab00a11990990ff2e155253980f357b0"
   }
  }
 },
 "nbformat": 4,
 "nbformat_minor": 5
}
