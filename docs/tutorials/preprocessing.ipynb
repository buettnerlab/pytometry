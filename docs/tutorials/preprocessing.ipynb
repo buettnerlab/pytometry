{
 "cells": [
  {
   "attachments": {},
   "cell_type": "markdown",
   "metadata": {},
   "source": [
    "# Preprocess flow data"
   ]
  },
  {
   "attachments": {},
   "cell_type": "markdown",
   "metadata": {},
   "source": [
    "In this notebook, we load an fcs file into the anndata format, move the forward scatter (FCS) and sideward scatter (SSC) information to the `.obs` section of the anndata file and perform compensation on the data. Next, we apply different types of normalisation to the data. The fcs file was part of the following [reference](https://insight.jci.org/articles/view/124928) and originally deposited on the [FlowRepository](http://flowrepository.org/id/FR-FCM-ZYQ9)."
   ]
  },
  {
   "cell_type": "code",
   "execution_count": 1,
   "metadata": {},
   "outputs": [
    {
     "name": "stderr",
     "output_type": "stream",
     "text": [
      "/Users/marenbuettner/miniforge3/envs/pytometry_pd2/lib/python3.9/site-packages/tqdm/auto.py:21: TqdmWarning: IProgress not found. Please update jupyter and ipywidgets. See https://ipywidgets.readthedocs.io/en/stable/user_install.html\n",
      "  from .autonotebook import tqdm as notebook_tqdm\n"
     ]
    }
   ],
   "source": [
    "import readfcs\n",
    "import pytometry as pm"
   ]
  },
  {
   "cell_type": "code",
   "execution_count": 2,
   "metadata": {},
   "outputs": [],
   "source": [
    "%load_ext autoreload\n",
    "%autoreload 2"
   ]
  },
  {
   "attachments": {},
   "cell_type": "markdown",
   "metadata": {},
   "source": [
    "Read data from `readfcs` package example."
   ]
  },
  {
   "cell_type": "code",
   "execution_count": 3,
   "metadata": {},
   "outputs": [],
   "source": [
    "path_data = readfcs.datasets.Oetjen18_t1()"
   ]
  },
  {
   "cell_type": "code",
   "execution_count": 4,
   "metadata": {},
   "outputs": [],
   "source": [
    "adata = pm.io.read_fcs(path_data)"
   ]
  },
  {
   "cell_type": "code",
   "execution_count": 5,
   "metadata": {},
   "outputs": [
    {
     "data": {
      "text/plain": [
       "AnnData object with n_obs × n_vars = 241552 × 20\n",
       "    var: 'n', 'channel', 'marker', '$PnR', '$PnB', '$PnE', '$PnV', '$PnG'\n",
       "    uns: 'meta'"
      ]
     },
     "execution_count": 5,
     "metadata": {},
     "output_type": "execute_result"
    }
   ],
   "source": [
    "adata"
   ]
  },
  {
   "attachments": {},
   "cell_type": "markdown",
   "metadata": {},
   "source": [
    "## Reduce features "
   ]
  },
  {
   "attachments": {},
   "cell_type": "markdown",
   "metadata": {},
   "source": [
    "We split the data matrix into the marker intensity part and the FSC/SSC part. Moreover, we move all height related features to the `.obs` part of the anndata file. Notably. the function `split_signal` checks if a feature name is either FSC/SSC or whether a name endswith `-A` for area related features and `-H` for height related features.   "
   ]
  },
  {
   "attachments": {},
   "cell_type": "markdown",
   "metadata": {},
   "source": [
    "Let us check the `var_names` of the features and the channel names. In this example, the channel names have been cleaned such that none of the markers have the `-A` or `-H` suffix. "
   ]
  },
  {
   "cell_type": "code",
   "execution_count": 6,
   "metadata": {},
   "outputs": [
    {
     "data": {
      "text/html": [
       "<div>\n",
       "<style scoped>\n",
       "    .dataframe tbody tr th:only-of-type {\n",
       "        vertical-align: middle;\n",
       "    }\n",
       "\n",
       "    .dataframe tbody tr th {\n",
       "        vertical-align: top;\n",
       "    }\n",
       "\n",
       "    .dataframe thead th {\n",
       "        text-align: right;\n",
       "    }\n",
       "</style>\n",
       "<table border=\"1\" class=\"dataframe\">\n",
       "  <thead>\n",
       "    <tr style=\"text-align: right;\">\n",
       "      <th></th>\n",
       "      <th>n</th>\n",
       "      <th>channel</th>\n",
       "      <th>marker</th>\n",
       "      <th>$PnR</th>\n",
       "      <th>$PnB</th>\n",
       "      <th>$PnE</th>\n",
       "      <th>$PnV</th>\n",
       "      <th>$PnG</th>\n",
       "    </tr>\n",
       "  </thead>\n",
       "  <tbody>\n",
       "    <tr>\n",
       "      <th>FSC-A</th>\n",
       "      <td>1</td>\n",
       "      <td>FSC-A</td>\n",
       "      <td></td>\n",
       "      <td>262144</td>\n",
       "      <td>32</td>\n",
       "      <td>0,0</td>\n",
       "      <td>510</td>\n",
       "      <td>1.0</td>\n",
       "    </tr>\n",
       "    <tr>\n",
       "      <th>FSC-H</th>\n",
       "      <td>2</td>\n",
       "      <td>FSC-H</td>\n",
       "      <td></td>\n",
       "      <td>262144</td>\n",
       "      <td>32</td>\n",
       "      <td>0,0</td>\n",
       "      <td>510</td>\n",
       "      <td>1.0</td>\n",
       "    </tr>\n",
       "    <tr>\n",
       "      <th>FSC-W</th>\n",
       "      <td>3</td>\n",
       "      <td>FSC-W</td>\n",
       "      <td></td>\n",
       "      <td>262144</td>\n",
       "      <td>32</td>\n",
       "      <td>0,0</td>\n",
       "      <td>510</td>\n",
       "      <td>1.0</td>\n",
       "    </tr>\n",
       "    <tr>\n",
       "      <th>SSC-A</th>\n",
       "      <td>4</td>\n",
       "      <td>SSC-A</td>\n",
       "      <td></td>\n",
       "      <td>262144</td>\n",
       "      <td>32</td>\n",
       "      <td>0,0</td>\n",
       "      <td>310</td>\n",
       "      <td>1.0</td>\n",
       "    </tr>\n",
       "    <tr>\n",
       "      <th>SSC-H</th>\n",
       "      <td>5</td>\n",
       "      <td>SSC-H</td>\n",
       "      <td></td>\n",
       "      <td>262144</td>\n",
       "      <td>32</td>\n",
       "      <td>0,0</td>\n",
       "      <td>310</td>\n",
       "      <td>1.0</td>\n",
       "    </tr>\n",
       "    <tr>\n",
       "      <th>SSC-W</th>\n",
       "      <td>6</td>\n",
       "      <td>SSC-W</td>\n",
       "      <td></td>\n",
       "      <td>262144</td>\n",
       "      <td>32</td>\n",
       "      <td>0,0</td>\n",
       "      <td>310</td>\n",
       "      <td>1.0</td>\n",
       "    </tr>\n",
       "    <tr>\n",
       "      <th>CD95</th>\n",
       "      <td>7</td>\n",
       "      <td>R660-A</td>\n",
       "      <td>CD95</td>\n",
       "      <td>262144</td>\n",
       "      <td>32</td>\n",
       "      <td>0,0</td>\n",
       "      <td>490</td>\n",
       "      <td>1.0</td>\n",
       "    </tr>\n",
       "    <tr>\n",
       "      <th>CD8</th>\n",
       "      <td>8</td>\n",
       "      <td>R780-A</td>\n",
       "      <td>CD8</td>\n",
       "      <td>262144</td>\n",
       "      <td>32</td>\n",
       "      <td>0,0</td>\n",
       "      <td>475</td>\n",
       "      <td>1.0</td>\n",
       "    </tr>\n",
       "    <tr>\n",
       "      <th>CD27</th>\n",
       "      <td>9</td>\n",
       "      <td>B515-A</td>\n",
       "      <td>CD27</td>\n",
       "      <td>262144</td>\n",
       "      <td>32</td>\n",
       "      <td>0,0</td>\n",
       "      <td>470</td>\n",
       "      <td>1.0</td>\n",
       "    </tr>\n",
       "    <tr>\n",
       "      <th>CXCR4</th>\n",
       "      <td>10</td>\n",
       "      <td>B710-A</td>\n",
       "      <td>CXCR4</td>\n",
       "      <td>262144</td>\n",
       "      <td>32</td>\n",
       "      <td>0,0</td>\n",
       "      <td>417</td>\n",
       "      <td>1.0</td>\n",
       "    </tr>\n",
       "    <tr>\n",
       "      <th>CCR7</th>\n",
       "      <td>11</td>\n",
       "      <td>V450-A</td>\n",
       "      <td>CCR7</td>\n",
       "      <td>262144</td>\n",
       "      <td>32</td>\n",
       "      <td>0,0</td>\n",
       "      <td>400</td>\n",
       "      <td>1.0</td>\n",
       "    </tr>\n",
       "    <tr>\n",
       "      <th>LIVE/DEAD</th>\n",
       "      <td>12</td>\n",
       "      <td>V545-A</td>\n",
       "      <td>LIVE/DEAD</td>\n",
       "      <td>262144</td>\n",
       "      <td>32</td>\n",
       "      <td>0,0</td>\n",
       "      <td>495</td>\n",
       "      <td>1.0</td>\n",
       "    </tr>\n",
       "    <tr>\n",
       "      <th>CD4</th>\n",
       "      <td>13</td>\n",
       "      <td>V605-A</td>\n",
       "      <td>CD4</td>\n",
       "      <td>262144</td>\n",
       "      <td>32</td>\n",
       "      <td>0,0</td>\n",
       "      <td>400</td>\n",
       "      <td>1.0</td>\n",
       "    </tr>\n",
       "    <tr>\n",
       "      <th>CD45RA</th>\n",
       "      <td>14</td>\n",
       "      <td>V655-A</td>\n",
       "      <td>CD45RA</td>\n",
       "      <td>262144</td>\n",
       "      <td>32</td>\n",
       "      <td>0,0</td>\n",
       "      <td>375</td>\n",
       "      <td>1.0</td>\n",
       "    </tr>\n",
       "    <tr>\n",
       "      <th>CD3</th>\n",
       "      <td>15</td>\n",
       "      <td>V800-A</td>\n",
       "      <td>CD3</td>\n",
       "      <td>262144</td>\n",
       "      <td>32</td>\n",
       "      <td>0,0</td>\n",
       "      <td>400</td>\n",
       "      <td>1.0</td>\n",
       "    </tr>\n",
       "    <tr>\n",
       "      <th>CD49B</th>\n",
       "      <td>16</td>\n",
       "      <td>G560-A</td>\n",
       "      <td>CD49B</td>\n",
       "      <td>262144</td>\n",
       "      <td>32</td>\n",
       "      <td>0,0</td>\n",
       "      <td>400</td>\n",
       "      <td>1.0</td>\n",
       "    </tr>\n",
       "    <tr>\n",
       "      <th>CD14/19</th>\n",
       "      <td>17</td>\n",
       "      <td>G610-A</td>\n",
       "      <td>CD14/19</td>\n",
       "      <td>262144</td>\n",
       "      <td>32</td>\n",
       "      <td>0,0</td>\n",
       "      <td>415</td>\n",
       "      <td>1.0</td>\n",
       "    </tr>\n",
       "    <tr>\n",
       "      <th>CD69</th>\n",
       "      <td>18</td>\n",
       "      <td>G660-A</td>\n",
       "      <td>CD69</td>\n",
       "      <td>262144</td>\n",
       "      <td>32</td>\n",
       "      <td>0,0</td>\n",
       "      <td>470</td>\n",
       "      <td>1.0</td>\n",
       "    </tr>\n",
       "    <tr>\n",
       "      <th>CD103</th>\n",
       "      <td>19</td>\n",
       "      <td>G780-A</td>\n",
       "      <td>CD103</td>\n",
       "      <td>262144</td>\n",
       "      <td>32</td>\n",
       "      <td>0,0</td>\n",
       "      <td>435</td>\n",
       "      <td>1.0</td>\n",
       "    </tr>\n",
       "    <tr>\n",
       "      <th>Time</th>\n",
       "      <td>20</td>\n",
       "      <td>Time</td>\n",
       "      <td></td>\n",
       "      <td>262144</td>\n",
       "      <td>32</td>\n",
       "      <td>0,0</td>\n",
       "      <td></td>\n",
       "      <td>0.01</td>\n",
       "    </tr>\n",
       "  </tbody>\n",
       "</table>\n",
       "</div>"
      ],
      "text/plain": [
       "            n channel     marker    $PnR  $PnB $PnE $PnV  $PnG\n",
       "FSC-A       1   FSC-A             262144    32  0,0  510   1.0\n",
       "FSC-H       2   FSC-H             262144    32  0,0  510   1.0\n",
       "FSC-W       3   FSC-W             262144    32  0,0  510   1.0\n",
       "SSC-A       4   SSC-A             262144    32  0,0  310   1.0\n",
       "SSC-H       5   SSC-H             262144    32  0,0  310   1.0\n",
       "SSC-W       6   SSC-W             262144    32  0,0  310   1.0\n",
       "CD95        7  R660-A       CD95  262144    32  0,0  490   1.0\n",
       "CD8         8  R780-A        CD8  262144    32  0,0  475   1.0\n",
       "CD27        9  B515-A       CD27  262144    32  0,0  470   1.0\n",
       "CXCR4      10  B710-A      CXCR4  262144    32  0,0  417   1.0\n",
       "CCR7       11  V450-A       CCR7  262144    32  0,0  400   1.0\n",
       "LIVE/DEAD  12  V545-A  LIVE/DEAD  262144    32  0,0  495   1.0\n",
       "CD4        13  V605-A        CD4  262144    32  0,0  400   1.0\n",
       "CD45RA     14  V655-A     CD45RA  262144    32  0,0  375   1.0\n",
       "CD3        15  V800-A        CD3  262144    32  0,0  400   1.0\n",
       "CD49B      16  G560-A      CD49B  262144    32  0,0  400   1.0\n",
       "CD14/19    17  G610-A    CD14/19  262144    32  0,0  415   1.0\n",
       "CD69       18  G660-A       CD69  262144    32  0,0  470   1.0\n",
       "CD103      19  G780-A      CD103  262144    32  0,0  435   1.0\n",
       "Time       20    Time             262144    32  0,0       0.01"
      ]
     },
     "execution_count": 6,
     "metadata": {},
     "output_type": "execute_result"
    }
   ],
   "source": [
    "adata.var"
   ]
  },
  {
   "attachments": {},
   "cell_type": "markdown",
   "metadata": {},
   "source": [
    "We use the `channel` column of the `adata.var` data frame to split the matrix."
   ]
  },
  {
   "cell_type": "code",
   "execution_count": 7,
   "metadata": {},
   "outputs": [],
   "source": [
    "pm.pp.split_signal(adata, var_key=\"channel\")"
   ]
  },
  {
   "cell_type": "code",
   "execution_count": 8,
   "metadata": {},
   "outputs": [
    {
     "data": {
      "text/plain": [
       "AnnData object with n_obs × n_vars = 241552 × 13\n",
       "    obs: 'FSC-A', 'FSC-H', 'FSC-W', 'SSC-A', 'SSC-H', 'SSC-W', 'Time'\n",
       "    var: 'n', 'channel', 'marker', '$PnR', '$PnB', '$PnE', '$PnV', '$PnG', 'signal_type'\n",
       "    uns: 'meta'"
      ]
     },
     "execution_count": 8,
     "metadata": {},
     "output_type": "execute_result"
    }
   ],
   "source": [
    "adata"
   ]
  },
  {
   "attachments": {},
   "cell_type": "markdown",
   "metadata": {},
   "source": [
    "The data matrix was reduced by three features (`FSC-A`, `FSC-H` and `SSC-A`). "
   ]
  },
  {
   "attachments": {},
   "cell_type": "markdown",
   "metadata": {},
   "source": [
    "## Compensation"
   ]
  },
  {
   "attachments": {},
   "cell_type": "markdown",
   "metadata": {},
   "source": [
    "Next, we compensate the data using the compensation matrix that is included in the FCS file header. Alternatively, one may provide a custom compensation matrix."
   ]
  },
  {
   "attachments": {},
   "cell_type": "markdown",
   "metadata": {},
   "source": [
    "The `compensate` function matches the `var_names` of `adata` with the column names of the spillover matrix to compensate the correct channels.  "
   ]
  },
  {
   "cell_type": "code",
   "execution_count": 9,
   "metadata": {},
   "outputs": [],
   "source": [
    "pm.pp.compensate(adata)"
   ]
  },
  {
   "attachments": {},
   "cell_type": "markdown",
   "metadata": {},
   "source": [
    "## Normalize data"
   ]
  },
  {
   "attachments": {},
   "cell_type": "markdown",
   "metadata": {},
   "source": [
    "In the next step, we normalize the data. By default, normalization is an inplace operation, i.e. we only create a new anndata object, if we set the argument `inplace=False`. We demonstrate three different normalization methods that are build in `pytometry`:\n",
    "* arcsinh \n",
    "* logicle \n",
    "* bi-exponential\n",
    "* auto-logicle"
   ]
  },
  {
   "cell_type": "code",
   "execution_count": 10,
   "metadata": {},
   "outputs": [],
   "source": [
    "adata_arcsinh = pm.tl.normalize_arcsinh(adata, cofactor=150, inplace=False)"
   ]
  },
  {
   "cell_type": "code",
   "execution_count": 11,
   "metadata": {},
   "outputs": [],
   "source": [
    "adata_logicle = pm.tl.normalize_logicle(adata, inplace=False)"
   ]
  },
  {
   "cell_type": "code",
   "execution_count": 12,
   "metadata": {},
   "outputs": [],
   "source": [
    "adata_biex = pm.tl.normalize_biExp(adata, inplace=False)"
   ]
  },
  {
   "cell_type": "code",
   "execution_count": 13,
   "metadata": {},
   "outputs": [],
   "source": [
    "adata_autologicle = pm.tl.normalize_autologicle(adata, inplace=False)"
   ]
  }
 ],
 "metadata": {
  "kernelspec": {
   "display_name": "Python 3 (ipykernel)",
   "language": "python",
   "name": "python3"
  },
  "language_info": {
   "codemirror_mode": {
    "name": "ipython",
    "version": 3
   },
   "file_extension": ".py",
   "mimetype": "text/x-python",
   "name": "python",
   "nbconvert_exporter": "python",
   "pygments_lexer": "ipython3",
   "version": "3.9.19"
  },
  "vscode": {
   "interpreter": {
    "hash": "48c3c4927e81daf79217bae0bb1c93e3ab00a11990990ff2e155253980f357b0"
   }
  }
 },
 "nbformat": 4,
 "nbformat_minor": 4
}
